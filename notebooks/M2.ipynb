{
 "cells": [
  {
   "cell_type": "code",
   "execution_count": 1,
   "metadata": {
    "scrolled": true
   },
   "outputs": [
    {
     "data": {
      "application/javascript": [
       "IPython.notebook.set_autosave_interval(600000)"
      ]
     },
     "metadata": {},
     "output_type": "display_data"
    },
    {
     "name": "stdout",
     "output_type": "stream",
     "text": [
      "Autosaving every 600 seconds\n"
     ]
    }
   ],
   "source": [
    "%autosave 600\n",
    "%matplotlib inline\n",
    "#%load_ext autoreload\n",
    "#%autoreload 2\n",
    "#%pdb"
   ]
  },
  {
   "cell_type": "code",
   "execution_count": 2,
   "metadata": {},
   "outputs": [],
   "source": [
    "import os\n",
    "os.environ['CUDA_VISIBLE_DEVICES'] = \"\"\n",
    "\n",
    "import torch\n",
    "torch.set_num_threads(4)"
   ]
  },
  {
   "cell_type": "code",
   "execution_count": 3,
   "metadata": {},
   "outputs": [
    {
     "name": "stdout",
     "output_type": "stream",
     "text": [
      "/master\n"
     ]
    }
   ],
   "source": [
    "cd .."
   ]
  },
  {
   "cell_type": "code",
   "execution_count": 4,
   "metadata": {},
   "outputs": [
    {
     "name": "stderr",
     "output_type": "stream",
     "text": [
      "/usr/local/lib/python3.6/dist-packages/sklearn/externals/joblib/__init__.py:15: DeprecationWarning: sklearn.externals.joblib is deprecated in 0.21 and will be removed in 0.23. Please import this functionality directly from joblib, which can be installed with: pip install joblib. If this warning is raised when loading pickled models, you may need to re-serialize those models with scikit-learn 0.21+.\n",
      "  warnings.warn(msg, category=DeprecationWarning)\n"
     ]
    }
   ],
   "source": [
    "import os\n",
    "import numpy as np\n",
    "import pdb\n",
    "\n",
    "import torch\n",
    "from torch.utils.data import Dataset, DataLoader\n",
    "from torchvision import transforms, datasets\n",
    "\n",
    "from utils.data import get_train_dev_test_ssl\n",
    "\n",
    "from skssl.training import NeuralNetEstimator, NeuralNetClassifier\n",
    "from skssl.classifiers.sslvae import SSLVAELoss, SSLVAE, add_flat_input\n",
    "from skssl.predefined import (WideResNet, ReversedWideResNet, ReversedSimpleCNN,\n",
    "                              SimpleCNN)"
   ]
  },
  {
   "cell_type": "code",
   "execution_count": 5,
   "metadata": {},
   "outputs": [],
   "source": [
    "train, dev, test = get_train_dev_test_ssl(\"mnist\")"
   ]
  },
  {
   "cell_type": "code",
   "execution_count": 6,
   "metadata": {},
   "outputs": [],
   "source": [
    "from pretrained import *"
   ]
  },
  {
   "cell_type": "code",
   "execution_count": null,
   "metadata": {},
   "outputs": [
    {
     "name": "stderr",
     "output_type": "stream",
     "text": [
      "/master/skssl/predefined/mlp.py:52: UserWarning: hidden_size=32 smaller than output=128 and input=64. Setting it to 64.\n",
      "  warnings.warn(txt.format(hidden_size, output_size, input_size, self.hidden_size))\n",
      "/master/skssl/predefined/mlp.py:52: UserWarning: hidden_size=32 smaller than output=128 and input=138. Setting it to 128.\n",
      "  warnings.warn(txt.format(hidden_size, output_size, input_size, self.hidden_size))\n"
     ]
    },
    {
     "data": {
      "application/vnd.jupyter.widget-view+json": {
       "model_id": "a7305f0c7796419ba8c925cf1940bdca",
       "version_major": 2,
       "version_minor": 0
      },
      "text/plain": [
       "HBox(children=(IntProgress(value=0, max=469), HTML(value='')))"
      ]
     },
     "metadata": {},
     "output_type": "display_data"
    },
    {
     "name": "stdout",
     "output_type": "stream",
     "text": [
      "> /master/skssl/classifiers/auxsslvae.py(57)_labelled_loss()\n",
      "-> assert q_a_sample is not None and q_a_suff_stat is not None\n",
      "(Pdb) n\n",
      "> /master/skssl/classifiers/auxsslvae.py(58)_labelled_loss()\n",
      "-> (*vae_inputs), p_a_sample, p_a_suff_stat = inputs\n",
      "(Pdb) n\n",
      "> /master/skssl/classifiers/auxsslvae.py(60)_labelled_loss()\n",
      "-> ssl_vae_loss = super()._labelled_loss(vae_inputs, X, weight=weight)\n",
      "(Pdb) n\n",
      "> /master/skssl/classifiers/auxsslvae.py(62)_labelled_loss()\n",
      "-> auxiliary_kl = kl_normal_loss(q_a_suff_stat, p_a_suff_stat)\n",
      "(Pdb) n\n",
      "> /master/skssl/classifiers/auxsslvae.py(63)_labelled_loss()\n",
      "-> if weight is not None:\n",
      "(Pdb) n\n",
      "> /master/skssl/classifiers/auxsslvae.py(65)_labelled_loss()\n",
      "-> auxiliary_kl = auxiliary_kl.mean(dim=0)\n",
      "(Pdb) n\n",
      "> /master/skssl/classifiers/auxsslvae.py(67)_labelled_loss()\n",
      "-> return ssl_vae_loss + auxiliary_kl\n",
      "(Pdb) auxiliary_kl\n",
      "tensor(798.9174, device='cuda:0', grad_fn=<MeanBackward2>)\n",
      "(Pdb) n\n",
      "--Return--\n",
      "> /master/skssl/classifiers/auxsslvae.py(67)_labelled_loss()->tensor(1414.4...AddBackward0>)\n",
      "-> return ssl_vae_loss + auxiliary_kl\n",
      "(Pdb) c\n",
      "> /master/skssl/classifiers/auxsslvae.py(57)_labelled_loss()\n",
      "-> assert q_a_sample is not None and q_a_suff_stat is not None\n",
      "(Pdb) c\n",
      "> /master/skssl/classifiers/auxsslvae.py(57)_labelled_loss()\n",
      "-> assert q_a_sample is not None and q_a_suff_stat is not None\n",
      "(Pdb) pbd.set_trace = lambda: NOne\n",
      "*** NameError: name 'pbd' is not defined\n",
      "(Pdb) pdb.set_trace = lambda: None\n",
      "(Pdb) c\n"
     ]
    }
   ],
   "source": [
    "m=load_pretrained(\"sslvae\",\"mnist\",is_retrain=True, mode=\"auxiliary\")"
   ]
  },
  {
   "cell_type": "code",
   "execution_count": null,
   "metadata": {},
   "outputs": [],
   "source": [
    "d=m.transform(dev)"
   ]
  },
  {
   "cell_type": "code",
   "execution_count": 9,
   "metadata": {},
   "outputs": [
    {
     "data": {
      "text/plain": [
       "(6000, 64)"
      ]
     },
     "execution_count": 9,
     "metadata": {},
     "output_type": "execute_result"
    }
   ],
   "source": [
    "d.shape"
   ]
  },
  {
   "cell_type": "code",
   "execution_count": null,
   "metadata": {},
   "outputs": [
    {
     "name": "stdout",
     "output_type": "stream",
     "text": [
      "> /master/pretrained.py(128)_pretrained_supervised()\n",
      "-> net.fit(train, train.targets)\n",
      "(Pdb) l\n",
      "123  \t    if is_retrain:\n",
      "124  \t        if is_vae:\n",
      "125  \t            net = add_vae(net, dataset)\n",
      "126  \t            import pdb\n",
      "127  \t            pdb.set_trace()\n",
      "128  ->\t        net.fit(train, train.targets)\n",
      "129  \t    else:\n",
      "130  \t        net.initialize()\n",
      "131  \t        net.load_params(checkpoint=chckpt)\n",
      "132  \t        if is_vae:\n",
      "133  \t            net = add_vae(net, dataset)\n",
      "(Pdb) net\n",
      "Pipeline(memory=None,\n",
      "         steps=[('m1',\n",
      "                 <class 'skssl.training.trainer.NeuralNetTransformer'>[initialized](\n",
      "  module_=VAE(\n",
      "    (encoder): WideResNet(\n",
      "      (conv): Conv2d(1, 16, kernel_size=(3, 3), stride=(1, 1), padding=(1, 1), bias=False)\n",
      "      (block1): Sequential(\n",
      "        (0): _ResLayer(\n",
      "          (act): LeakyReLU(negative_slope=0.1)\n",
      "          (bn1): BatchNorm2d(16, eps=1e-05, momentum=0.1, affine=True, track_running_sta...\n",
      "      (lin2): Linear(in_features=256, out_features=256, bias=True)\n",
      "      (lin3): Linear(in_features=64, out_features=256, bias=True)\n",
      "    )\n",
      "  ),\n",
      ")),\n",
      "                ('classifier',\n",
      "                 <class 'skssl.training.trainer.NeuralNetClassifier'>[uninitialized](\n",
      "  module=MLP(\n",
      "    (activation): ReLU()\n",
      "    (to_hidden): Linear(in_features=64, out_features=64, bias=True)\n",
      "    (linears): ModuleList()\n",
      "    (out): Linear(in_features=64, out_features=10, bias=True)\n",
      "  ),\n",
      "))],\n",
      "         verbose=False)\n",
      "(Pdb) net[\"m1\"].module_\n",
      "VAE(\n",
      "  (encoder): WideResNet(\n",
      "    (conv): Conv2d(1, 16, kernel_size=(3, 3), stride=(1, 1), padding=(1, 1), bias=False)\n",
      "    (block1): Sequential(\n",
      "      (0): _ResLayer(\n",
      "        (act): LeakyReLU(negative_slope=0.1)\n",
      "        (bn1): BatchNorm2d(16, eps=1e-05, momentum=0.1, affine=True, track_running_stats=True)\n",
      "        (conv1): Conv2d(16, 32, kernel_size=(3, 3), stride=(1, 1), padding=(1, 1), bias=False)\n",
      "        (bn2): BatchNorm2d(32, eps=1e-05, momentum=0.1, affine=True, track_running_stats=True)\n",
      "        (conv2): Conv2d(32, 32, kernel_size=(3, 3), stride=(1, 1), padding=(1, 1), bias=False)\n",
      "        (conv_shortcut): Conv2d(16, 32, kernel_size=(1, 1), stride=(1, 1), bias=False)\n",
      "      )\n",
      "      (1): _ResLayer(\n",
      "        (act): LeakyReLU(negative_slope=0.1)\n",
      "        (bn1): BatchNorm2d(32, eps=1e-05, momentum=0.1, affine=True, track_running_stats=True)\n",
      "        (conv1): Conv2d(32, 32, kernel_size=(3, 3), stride=(1, 1), padding=(1, 1), bias=False)\n",
      "        (bn2): BatchNorm2d(32, eps=1e-05, momentum=0.1, affine=True, track_running_stats=True)\n",
      "        (conv2): Conv2d(32, 32, kernel_size=(3, 3), stride=(1, 1), padding=(1, 1), bias=False)\n",
      "      )\n",
      "      (2): _ResLayer(\n",
      "        (act): LeakyReLU(negative_slope=0.1)\n",
      "        (bn1): BatchNorm2d(32, eps=1e-05, momentum=0.1, affine=True, track_running_stats=True)\n",
      "        (conv1): Conv2d(32, 32, kernel_size=(3, 3), stride=(1, 1), padding=(1, 1), bias=False)\n",
      "        (bn2): BatchNorm2d(32, eps=1e-05, momentum=0.1, affine=True, track_running_stats=True)\n",
      "        (conv2): Conv2d(32, 32, kernel_size=(3, 3), stride=(1, 1), padding=(1, 1), bias=False)\n",
      "      )\n",
      "      (3): _ResLayer(\n",
      "        (act): LeakyReLU(negative_slope=0.1)\n",
      "        (bn1): BatchNorm2d(32, eps=1e-05, momentum=0.1, affine=True, track_running_stats=True)\n",
      "        (conv1): Conv2d(32, 32, kernel_size=(3, 3), stride=(1, 1), padding=(1, 1), bias=False)\n",
      "        (bn2): BatchNorm2d(32, eps=1e-05, momentum=0.1, affine=True, track_running_stats=True)\n",
      "        (conv2): Conv2d(32, 32, kernel_size=(3, 3), stride=(1, 1), padding=(1, 1), bias=False)\n",
      "      )\n",
      "    )\n",
      "    (block2): Sequential(\n",
      "      (0): _ResLayer(\n",
      "        (act): LeakyReLU(negative_slope=0.1)\n",
      "        (bn1): BatchNorm2d(32, eps=1e-05, momentum=0.1, affine=True, track_running_stats=True)\n",
      "        (conv1): Conv2d(32, 64, kernel_size=(3, 3), stride=(2, 2), padding=(1, 1), bias=False)\n",
      "        (bn2): BatchNorm2d(64, eps=1e-05, momentum=0.1, affine=True, track_running_stats=True)\n",
      "        (conv2): Conv2d(64, 64, kernel_size=(3, 3), stride=(1, 1), padding=(1, 1), bias=False)\n",
      "        (conv_shortcut): Conv2d(32, 64, kernel_size=(1, 1), stride=(2, 2), bias=False)\n",
      "      )\n",
      "      (1): _ResLayer(\n",
      "        (act): LeakyReLU(negative_slope=0.1)\n",
      "        (bn1): BatchNorm2d(64, eps=1e-05, momentum=0.1, affine=True, track_running_stats=True)\n",
      "        (conv1): Conv2d(64, 64, kernel_size=(3, 3), stride=(1, 1), padding=(1, 1), bias=False)\n",
      "        (bn2): BatchNorm2d(64, eps=1e-05, momentum=0.1, affine=True, track_running_stats=True)\n",
      "        (conv2): Conv2d(64, 64, kernel_size=(3, 3), stride=(1, 1), padding=(1, 1), bias=False)\n",
      "      )\n",
      "      (2): _ResLayer(\n",
      "        (act): LeakyReLU(negative_slope=0.1)\n",
      "        (bn1): BatchNorm2d(64, eps=1e-05, momentum=0.1, affine=True, track_running_stats=True)\n",
      "        (conv1): Conv2d(64, 64, kernel_size=(3, 3), stride=(1, 1), padding=(1, 1), bias=False)\n",
      "        (bn2): BatchNorm2d(64, eps=1e-05, momentum=0.1, affine=True, track_running_stats=True)\n",
      "        (conv2): Conv2d(64, 64, kernel_size=(3, 3), stride=(1, 1), padding=(1, 1), bias=False)\n",
      "      )\n",
      "      (3): _ResLayer(\n",
      "        (act): LeakyReLU(negative_slope=0.1)\n",
      "        (bn1): BatchNorm2d(64, eps=1e-05, momentum=0.1, affine=True, track_running_stats=True)\n",
      "        (conv1): Conv2d(64, 64, kernel_size=(3, 3), stride=(1, 1), padding=(1, 1), bias=False)\n",
      "        (bn2): BatchNorm2d(64, eps=1e-05, momentum=0.1, affine=True, track_running_stats=True)\n",
      "        (conv2): Conv2d(64, 64, kernel_size=(3, 3), stride=(1, 1), padding=(1, 1), bias=False)\n",
      "      )\n",
      "    )\n",
      "    (block3): Sequential(\n",
      "      (0): _ResLayer(\n",
      "        (act): LeakyReLU(negative_slope=0.1)\n",
      "        (bn1): BatchNorm2d(64, eps=1e-05, momentum=0.1, affine=True, track_running_stats=True)\n",
      "        (conv1): Conv2d(64, 128, kernel_size=(3, 3), stride=(2, 2), padding=(1, 1), bias=False)\n",
      "        (bn2): BatchNorm2d(128, eps=1e-05, momentum=0.1, affine=True, track_running_stats=True)\n",
      "        (conv2): Conv2d(128, 128, kernel_size=(3, 3), stride=(1, 1), padding=(1, 1), bias=False)\n",
      "        (conv_shortcut): Conv2d(64, 128, kernel_size=(1, 1), stride=(2, 2), bias=False)\n",
      "      )\n",
      "      (1): _ResLayer(\n",
      "        (act): LeakyReLU(negative_slope=0.1)\n",
      "        (bn1): BatchNorm2d(128, eps=1e-05, momentum=0.1, affine=True, track_running_stats=True)\n",
      "        (conv1): Conv2d(128, 128, kernel_size=(3, 3), stride=(1, 1), padding=(1, 1), bias=False)\n",
      "        (bn2): BatchNorm2d(128, eps=1e-05, momentum=0.1, affine=True, track_running_stats=True)\n",
      "        (conv2): Conv2d(128, 128, kernel_size=(3, 3), stride=(1, 1), padding=(1, 1), bias=False)\n",
      "      )\n",
      "      (2): _ResLayer(\n",
      "        (act): LeakyReLU(negative_slope=0.1)\n",
      "        (bn1): BatchNorm2d(128, eps=1e-05, momentum=0.1, affine=True, track_running_stats=True)\n",
      "        (conv1): Conv2d(128, 128, kernel_size=(3, 3), stride=(1, 1), padding=(1, 1), bias=False)\n",
      "        (bn2): BatchNorm2d(128, eps=1e-05, momentum=0.1, affine=True, track_running_stats=True)\n",
      "        (conv2): Conv2d(128, 128, kernel_size=(3, 3), stride=(1, 1), padding=(1, 1), bias=False)\n",
      "      )\n",
      "      (3): _ResLayer(\n",
      "        (act): LeakyReLU(negative_slope=0.1)\n",
      "        (bn1): BatchNorm2d(128, eps=1e-05, momentum=0.1, affine=True, track_running_stats=True)\n",
      "        (conv1): Conv2d(128, 128, kernel_size=(3, 3), stride=(1, 1), padding=(1, 1), bias=False)\n",
      "        (bn2): BatchNorm2d(128, eps=1e-05, momentum=0.1, affine=True, track_running_stats=True)\n",
      "        (conv2): Conv2d(128, 128, kernel_size=(3, 3), stride=(1, 1), padding=(1, 1), bias=False)\n",
      "      )\n",
      "    )\n",
      "    (bn): BatchNorm2d(128, eps=1e-05, momentum=0.1, affine=True, track_running_stats=True)\n",
      "    (act): LeakyReLU(negative_slope=0.1)\n",
      "    (fc): Linear(in_features=128, out_features=128, bias=True)\n",
      "  )\n",
      "  (decoder): ReversedSimpleCNN(\n",
      "    (conv1): ConvTranspose2d(32, 1, kernel_size=(4, 4), stride=(2, 2), padding=(1, 1))\n",
      "    (conv2): ConvTranspose2d(32, 32, kernel_size=(4, 4), stride=(2, 2), padding=(1, 1))\n",
      "    (conv3): ConvTranspose2d(32, 32, kernel_size=(4, 4), stride=(2, 2), padding=(1, 1))\n",
      "    (lin1): Linear(in_features=256, out_features=512, bias=True)\n",
      "    (lin2): Linear(in_features=256, out_features=256, bias=True)\n",
      "    (lin3): Linear(in_features=64, out_features=256, bias=True)\n",
      "  )\n",
      ")\n",
      "(Pdb) net[\"classifier\"].module_\n",
      "*** AttributeError: 'NeuralNetClassifier' object has no attribute 'module_'\n"
     ]
    },
    {
     "name": "stdout",
     "output_type": "stream",
     "text": [
      "(Pdb) net[\"classifier\"].module\n",
      "MLP(\n",
      "  (activation): ReLU()\n",
      "  (to_hidden): Linear(in_features=64, out_features=64, bias=True)\n",
      "  (linears): ModuleList()\n",
      "  (out): Linear(in_features=64, out_features=10, bias=True)\n",
      ")\n",
      "(Pdb) net[\"classifier\"].module[\"linears\"]\n",
      "*** TypeError: 'MLP' object is not subscriptable\n",
      "(Pdb) net[\"classifier\"].module.linears\n",
      "ModuleList()\n",
      "(Pdb) net[\"classifier\"].module.linears.__dict__\n",
      "{'_backend': <torch.nn.backends.thnn.THNNFunctionBackend object at 0x7fda2456c1d0>, '_parameters': OrderedDict(), '_buffers': OrderedDict(), '_backward_hooks': OrderedDict(), '_forward_hooks': OrderedDict(), '_forward_pre_hooks': OrderedDict(), '_state_dict_hooks': OrderedDict(), '_load_state_dict_pre_hooks': OrderedDict(), '_modules': OrderedDict(), 'training': True}\n",
      "(Pdb) l\n",
      "134  \t\n",
      "135  \t    return net\n",
      "136  \t\n",
      "137  \t\n",
      "138  \tdef _pretrained_vae(dataset,\n",
      "139  \t                    z_dim=64,\n",
      "140  \t                    enc_dec=\"resnetEnc_cnnDec\",\n",
      "141  \t                    is_retrain=False,\n",
      "142  \t                    max_epochs=100,\n",
      "143  \t                    **kwargs):\n",
      "144  \t    \"\"\"Load a pretrained vae.\n",
      "(Pdb) l\n",
      "145  \t\n",
      "146  \t    Parameters\n",
      "147  \t    ----------\n",
      "148  \t    dataset: str\n",
      "149  \t        Name of dataset.\n",
      "150  \t\n",
      "151  \t    z_dim: int, optional\n",
      "152  \t        Number of latent dimensions.\n",
      "153  \t\n",
      "154  \t    enc_dec: {\"resnet\",\"cnn\",\"resnetEnc_cnnDec\"}, optional\n",
      "155  \t        Type of encoder and decoder. Models are defined in `skssl.predefined`\n",
      "(Pdb) net[\"m1\"]\n",
      "<class 'skssl.training.trainer.NeuralNetTransformer'>[initialized](\n",
      "  module_=VAE(\n",
      "    (encoder): WideResNet(\n",
      "      (conv): Conv2d(1, 16, kernel_size=(3, 3), stride=(1, 1), padding=(1, 1), bias=False)\n",
      "      (block1): Sequential(\n",
      "        (0): _ResLayer(\n",
      "          (act): LeakyReLU(negative_slope=0.1)\n",
      "          (bn1): BatchNorm2d(16, eps=1e-05, momentum=0.1, affine=True, track_running_stats=True)\n",
      "          (conv1): Conv2d(16, 32, kernel_size=(3, 3), stride=(1, 1), padding=(1, 1), bias=False)\n",
      "          (bn2): BatchNorm2d(32, eps=1e-05, momentum=0.1, affine=True, track_running_stats=True)\n",
      "          (conv2): Conv2d(32, 32, kernel_size=(3, 3), stride=(1, 1), padding=(1, 1), bias=False)\n",
      "          (conv_shortcut): Conv2d(16, 32, kernel_size=(1, 1), stride=(1, 1), bias=False)\n",
      "        )\n",
      "        (1): _ResLayer(\n",
      "          (act): LeakyReLU(negative_slope=0.1)\n",
      "          (bn1): BatchNorm2d(32, eps=1e-05, momentum=0.1, affine=True, track_running_stats=True)\n",
      "          (conv1): Conv2d(32, 32, kernel_size=(3, 3), stride=(1, 1), padding=(1, 1), bias=False)\n",
      "          (bn2): BatchNorm2d(32, eps=1e-05, momentum=0.1, affine=True, track_running_stats=True)\n",
      "          (conv2): Conv2d(32, 32, kernel_size=(3, 3), stride=(1, 1), padding=(1, 1), bias=False)\n",
      "        )\n",
      "        (2): _ResLayer(\n",
      "          (act): LeakyReLU(negative_slope=0.1)\n",
      "          (bn1): BatchNorm2d(32, eps=1e-05, momentum=0.1, affine=True, track_running_stats=True)\n",
      "          (conv1): Conv2d(32, 32, kernel_size=(3, 3), stride=(1, 1), padding=(1, 1), bias=False)\n",
      "          (bn2): BatchNorm2d(32, eps=1e-05, momentum=0.1, affine=True, track_running_stats=True)\n",
      "          (conv2): Conv2d(32, 32, kernel_size=(3, 3), stride=(1, 1), padding=(1, 1), bias=False)\n",
      "        )\n",
      "        (3): _ResLayer(\n",
      "          (act): LeakyReLU(negative_slope=0.1)\n",
      "          (bn1): BatchNorm2d(32, eps=1e-05, momentum=0.1, affine=True, track_running_stats=True)\n",
      "          (conv1): Conv2d(32, 32, kernel_size=(3, 3), stride=(1, 1), padding=(1, 1), bias=False)\n",
      "          (bn2): BatchNorm2d(32, eps=1e-05, momentum=0.1, affine=True, track_running_stats=True)\n",
      "          (conv2): Conv2d(32, 32, kernel_size=(3, 3), stride=(1, 1), padding=(1, 1), bias=False)\n",
      "        )\n",
      "      )\n",
      "      (block2): Sequential(\n",
      "        (0): _ResLayer(\n",
      "          (act): LeakyReLU(negative_slope=0.1)\n",
      "          (bn1): BatchNorm2d(32, eps=1e-05, momentum=0.1, affine=True, track_running_stats=True)\n",
      "          (conv1): Conv2d(32, 64, kernel_size=(3, 3), stride=(2, 2), padding=(1, 1), bias=False)\n",
      "          (bn2): BatchNorm2d(64, eps=1e-05, momentum=0.1, affine=True, track_running_stats=True)\n",
      "          (conv2): Conv2d(64, 64, kernel_size=(3, 3), stride=(1, 1), padding=(1, 1), bias=False)\n",
      "          (conv_shortcut): Conv2d(32, 64, kernel_size=(1, 1), stride=(2, 2), bias=False)\n",
      "        )\n",
      "        (1): _ResLayer(\n",
      "          (act): LeakyReLU(negative_slope=0.1)\n",
      "          (bn1): BatchNorm2d(64, eps=1e-05, momentum=0.1, affine=True, track_running_stats=True)\n",
      "          (conv1): Conv2d(64, 64, kernel_size=(3, 3), stride=(1, 1), padding=(1, 1), bias=False)\n",
      "          (bn2): BatchNorm2d(64, eps=1e-05, momentum=0.1, affine=True, track_running_stats=True)\n",
      "          (conv2): Conv2d(64, 64, kernel_size=(3, 3), stride=(1, 1), padding=(1, 1), bias=False)\n",
      "        )\n",
      "        (2): _ResLayer(\n",
      "          (act): LeakyReLU(negative_slope=0.1)\n",
      "          (bn1): BatchNorm2d(64, eps=1e-05, momentum=0.1, affine=True, track_running_stats=True)\n",
      "          (conv1): Conv2d(64, 64, kernel_size=(3, 3), stride=(1, 1), padding=(1, 1), bias=False)\n",
      "          (bn2): BatchNorm2d(64, eps=1e-05, momentum=0.1, affine=True, track_running_stats=True)\n",
      "          (conv2): Conv2d(64, 64, kernel_size=(3, 3), stride=(1, 1), padding=(1, 1), bias=False)\n",
      "        )\n",
      "        (3): _ResLayer(\n",
      "          (act): LeakyReLU(negative_slope=0.1)\n",
      "          (bn1): BatchNorm2d(64, eps=1e-05, momentum=0.1, affine=True, track_running_stats=True)\n",
      "          (conv1): Conv2d(64, 64, kernel_size=(3, 3), stride=(1, 1), padding=(1, 1), bias=False)\n",
      "          (bn2): BatchNorm2d(64, eps=1e-05, momentum=0.1, affine=True, track_running_stats=True)\n",
      "          (conv2): Conv2d(64, 64, kernel_size=(3, 3), stride=(1, 1), padding=(1, 1), bias=False)\n",
      "        )\n",
      "      )\n",
      "      (block3): Sequential(\n",
      "        (0): _ResLayer(\n",
      "          (act): LeakyReLU(negative_slope=0.1)\n",
      "          (bn1): BatchNorm2d(64, eps=1e-05, momentum=0.1, affine=True, track_running_stats=True)\n",
      "          (conv1): Conv2d(64, 128, kernel_size=(3, 3), stride=(2, 2), padding=(1, 1), bias=False)\n",
      "          (bn2): BatchNorm2d(128, eps=1e-05, momentum=0.1, affine=True, track_running_stats=True)\n",
      "          (conv2): Conv2d(128, 128, kernel_size=(3, 3), stride=(1, 1), padding=(1, 1), bias=False)\n",
      "          (conv_shortcut): Conv2d(64, 128, kernel_size=(1, 1), stride=(2, 2), bias=False)\n",
      "        )\n",
      "        (1): _ResLayer(\n",
      "          (act): LeakyReLU(negative_slope=0.1)\n",
      "          (bn1): BatchNorm2d(128, eps=1e-05, momentum=0.1, affine=True, track_running_stats=True)\n",
      "          (conv1): Conv2d(128, 128, kernel_size=(3, 3), stride=(1, 1), padding=(1, 1), bias=False)\n",
      "          (bn2): BatchNorm2d(128, eps=1e-05, momentum=0.1, affine=True, track_running_stats=True)\n",
      "          (conv2): Conv2d(128, 128, kernel_size=(3, 3), stride=(1, 1), padding=(1, 1), bias=False)\n",
      "        )\n",
      "        (2): _ResLayer(\n",
      "          (act): LeakyReLU(negative_slope=0.1)\n",
      "          (bn1): BatchNorm2d(128, eps=1e-05, momentum=0.1, affine=True, track_running_stats=True)\n",
      "          (conv1): Conv2d(128, 128, kernel_size=(3, 3), stride=(1, 1), padding=(1, 1), bias=False)\n",
      "          (bn2): BatchNorm2d(128, eps=1e-05, momentum=0.1, affine=True, track_running_stats=True)\n",
      "          (conv2): Conv2d(128, 128, kernel_size=(3, 3), stride=(1, 1), padding=(1, 1), bias=False)\n",
      "        )\n",
      "        (3): _ResLayer(\n",
      "          (act): LeakyReLU(negative_slope=0.1)\n",
      "          (bn1): BatchNorm2d(128, eps=1e-05, momentum=0.1, affine=True, track_running_stats=True)\n",
      "          (conv1): Conv2d(128, 128, kernel_size=(3, 3), stride=(1, 1), padding=(1, 1), bias=False)\n",
      "          (bn2): BatchNorm2d(128, eps=1e-05, momentum=0.1, affine=True, track_running_stats=True)\n",
      "          (conv2): Conv2d(128, 128, kernel_size=(3, 3), stride=(1, 1), padding=(1, 1), bias=False)\n",
      "        )\n",
      "      )\n",
      "      (bn): BatchNorm2d(128, eps=1e-05, momentum=0.1, affine=True, track_running_stats=True)\n",
      "      (act): LeakyReLU(negative_slope=0.1)\n",
      "      (fc): Linear(in_features=128, out_features=128, bias=True)\n",
      "    )\n",
      "    (decoder): ReversedSimpleCNN(\n",
      "      (conv1): ConvTranspose2d(32, 1, kernel_size=(4, 4), stride=(2, 2), padding=(1, 1))\n",
      "      (conv2): ConvTranspose2d(32, 32, kernel_size=(4, 4), stride=(2, 2), padding=(1, 1))\n",
      "      (conv3): ConvTranspose2d(32, 32, kernel_size=(4, 4), stride=(2, 2), padding=(1, 1))\n",
      "      (lin1): Linear(in_features=256, out_features=512, bias=True)\n",
      "      (lin2): Linear(in_features=256, out_features=256, bias=True)\n",
      "      (lin3): Linear(in_features=64, out_features=256, bias=True)\n",
      "    )\n",
      "  ),\n",
      ")\n"
     ]
    },
    {
     "name": "stdout",
     "output_type": "stream",
     "text": [
      "(Pdb) net[\"m1\"].transform(dev)\n",
      "array([[-0.00276241,  0.00067723,  0.00540708, ..., -0.0024971 ,\n",
      "        -0.00438965, -0.00476602],\n",
      "       [-0.01494281, -0.00823216,  0.00679572, ...,  0.00706   ,\n",
      "         0.00502021,  0.00374097],\n",
      "       [ 0.00060525, -0.01147806,  0.00566249, ..., -0.00128483,\n",
      "        -0.0015083 , -0.00373902],\n",
      "       ...,\n",
      "       [ 0.00324314,  0.00023329,  0.00573749, ...,  0.00687922,\n",
      "        -0.02509495, -0.00113618],\n",
      "       [ 0.00245508, -0.00216226, -0.00229038, ..., -0.01109677,\n",
      "         0.01154441,  0.00664049],\n",
      "       [ 0.00758858,  0.00322984,  0.00118692, ...,  0.00718577,\n",
      "        -0.00232957, -0.00019878]], dtype=float32)\n",
      "(Pdb) d=net[\"m1\"].transform(dev)\n",
      "*** Newest frame\n",
      "(Pdb) !d=net[\"m1\"].transform(dev)\n",
      "(Pdb) d.shape\n",
      "*** Newest frame\n",
      "(Pdb) !d=(net[\"m1\"]).transform(dev)\n",
      "(Pdb) d\n",
      "*** Newest frame\n",
      "(Pdb) d.shape\n",
      "*** Newest frame\n",
      "(Pdb) net[\"m1\"].transform(dev)\n",
      "array([[-0.00276241,  0.00067723,  0.00540708, ..., -0.0024971 ,\n",
      "        -0.00438965, -0.00476602],\n",
      "       [-0.01494281, -0.00823216,  0.00679572, ...,  0.00706   ,\n",
      "         0.00502021,  0.00374097],\n",
      "       [ 0.00060525, -0.01147806,  0.00566249, ..., -0.00128483,\n",
      "        -0.0015083 , -0.00373902],\n",
      "       ...,\n",
      "       [ 0.00324314,  0.00023329,  0.00573749, ...,  0.00687922,\n",
      "        -0.02509495, -0.00113618],\n",
      "       [ 0.00245508, -0.00216226, -0.00229038, ..., -0.01109677,\n",
      "         0.01154441,  0.00664049],\n",
      "       [ 0.00758858,  0.00322984,  0.00118692, ...,  0.00718577,\n",
      "        -0.00232957, -0.00019878]], dtype=float32)\n",
      "(Pdb) !dd=net[\"m1\"].transform(dev)\n",
      "(Pdb) dd.shape\n",
      "(6000, 64)\n",
      "(Pdb) net.fit(train, train.targets)\n"
     ]
    },
    {
     "name": "stderr",
     "output_type": "stream",
     "text": [
      "/master/skssl/training/trainer.py:106: UserWarning: Skipping fitting because froze etimator.\n",
      "  warnings.warn(\"Skipping fitting because froze etimator.\")\n"
     ]
    },
    {
     "data": {
      "application/vnd.jupyter.widget-view+json": {
       "model_id": "00fc61c5dee644a7a2e48d038476b14f",
       "version_major": 2,
       "version_minor": 0
      },
      "text/plain": [
       "HBox(children=(IntProgress(value=0, max=446), HTML(value='')))"
      ]
     },
     "metadata": {},
     "output_type": "display_data"
    },
    {
     "name": "stdout",
     "output_type": "stream",
     "text": [
      "*** RuntimeError: size mismatch, m1: [8192 x 32], m2: [64 x 64] at /pytorch/aten/src/THC/generic/THCTensorMathBlas.cu:268\n",
      "(Pdb) net.forward(dd)\n",
      "*** AttributeError: 'Pipeline' object has no attribute 'forward'\n",
      "(Pdb) net[\"classifier\"].forward(dd)\n",
      "tensor([[-1.9340e-03,  3.2902e-03, -2.9093e-03,  ..., -2.5075e-04,\n",
      "         -1.4222e-03,  5.9264e-03],\n",
      "        [-1.7266e-03,  3.2016e-03, -2.5906e-03,  ...,  9.2638e-04,\n",
      "          2.7919e-03,  5.3499e-03],\n",
      "        [ 7.5606e-04,  1.7746e-03, -8.7107e-04,  ...,  2.2456e-03,\n",
      "          2.8302e-04, -1.6111e-03],\n",
      "        ...,\n",
      "        [-3.5976e-04, -4.9476e-03, -1.5960e-03,  ...,  9.0959e-05,\n",
      "          1.4034e-03,  4.3184e-03],\n",
      "        [ 3.7097e-03,  5.1098e-03,  7.0083e-03,  ...,  9.4897e-03,\n",
      "         -4.5518e-03, -4.6118e-03],\n",
      "        [ 1.2834e-04,  3.8599e-03, -2.6313e-03,  ...,  4.1404e-04,\n",
      "          2.8063e-03,  4.2703e-03]])\n",
      "(Pdb) train.targets\n",
      "array([-1, -1, -1, ..., -1, -1, -1])\n",
      "(Pdb) train.targets.shape\n",
      "(54000,)\n",
      "(Pdb) train.shape\n",
      "(1, 32, 32)\n",
      "--KeyboardInterrupt--\n",
      "--KeyboardInterrupt--\n",
      "--KeyboardInterrupt--\n",
      "--KeyboardInterrupt--\n",
      "--KeyboardInterrupt--\n"
     ]
    }
   ],
   "source": [
    "m=load_pretrained(\"supervised\",\"mnist\",is_vae=True, is_retrain=True, z_dim=64 )"
   ]
  },
  {
   "cell_type": "code",
   "execution_count": 5,
   "metadata": {},
   "outputs": [],
   "source": [
    "train, dev, test = get_train_dev_test_ssl(\"mnist\")"
   ]
  },
  {
   "cell_type": "markdown",
   "metadata": {},
   "source": [
    "# Low Alpha"
   ]
  },
  {
   "cell_type": "code",
   "execution_count": 6,
   "metadata": {},
   "outputs": [],
   "source": [
    "m2 = SSLVAE(train.shape, train.n_classes,\n",
    "            Encoder=add_flat_input(WideResNet), \n",
    "            Decoder=ReversedSimpleCNN,\n",
    "            Classifier=SimpleCNN,\n",
    "            z_dim=64)\n",
    "\n",
    "model_low=NeuralNetClassifier(m2, \n",
    "                   criterion=SSLVAELoss, \n",
    "                   criterion__distribution=\"bernoulli\",\n",
    "                   criterion__alpha=0.01,\n",
    "                  max_epochs=30,\n",
    "                           devset=dev)"
   ]
  },
  {
   "cell_type": "code",
   "execution_count": 7,
   "metadata": {},
   "outputs": [
    {
     "data": {
      "application/vnd.jupyter.widget-view+json": {
       "model_id": "",
       "version_major": 2,
       "version_minor": 0
      },
      "text/plain": [
       "HBox(children=(IntProgress(value=0, max=446), HTML(value='')))"
      ]
     },
     "metadata": {},
     "output_type": "display_data"
    },
    {
     "name": "stdout",
     "output_type": "stream",
     "text": [
      "\r",
      "  epoch    train_loss    valid_acc    valid_loss       dur\n",
      "-------  ------------  -----------  ------------  --------\n",
      "      1      \u001b[36m428.9179\u001b[0m       \u001b[32m0.8138\u001b[0m      \u001b[35m182.9620\u001b[0m  232.7027\n"
     ]
    },
    {
     "data": {
      "application/vnd.jupyter.widget-view+json": {
       "model_id": "",
       "version_major": 2,
       "version_minor": 0
      },
      "text/plain": [
       "HBox(children=(IntProgress(value=0, max=446), HTML(value='')))"
      ]
     },
     "metadata": {},
     "output_type": "display_data"
    },
    {
     "name": "stdout",
     "output_type": "stream",
     "text": [
      "\r",
      "      2      \u001b[36m314.1411\u001b[0m       0.7867      \u001b[35m166.3779\u001b[0m  261.8193\n"
     ]
    },
    {
     "data": {
      "application/vnd.jupyter.widget-view+json": {
       "model_id": "",
       "version_major": 2,
       "version_minor": 0
      },
      "text/plain": [
       "HBox(children=(IntProgress(value=0, max=446), HTML(value='')))"
      ]
     },
     "metadata": {},
     "output_type": "display_data"
    },
    {
     "name": "stdout",
     "output_type": "stream",
     "text": [
      "\r",
      "      3      \u001b[36m292.4451\u001b[0m       \u001b[32m0.8348\u001b[0m      \u001b[35m163.6429\u001b[0m  217.0386\n"
     ]
    },
    {
     "data": {
      "application/vnd.jupyter.widget-view+json": {
       "model_id": "40fa06c3959a4feba51b4b66348292c2",
       "version_major": 2,
       "version_minor": 0
      },
      "text/plain": [
       "HBox(children=(IntProgress(value=0, max=446), HTML(value='')))"
      ]
     },
     "metadata": {},
     "output_type": "display_data"
    },
    {
     "name": "stderr",
     "output_type": "stream",
     "text": [
      "IOPub message rate exceeded.\n",
      "The notebook server will temporarily stop sending output\n",
      "to the client in order to avoid crashing it.\n",
      "To change this limit, set the config variable\n",
      "`--NotebookApp.iopub_msg_rate_limit`.\n",
      "\n",
      "Current values:\n",
      "NotebookApp.iopub_msg_rate_limit=1000.0 (msgs/sec)\n",
      "NotebookApp.rate_limit_window=3.0 (secs)\n",
      "\n"
     ]
    },
    {
     "name": "stdout",
     "output_type": "stream",
     "text": [
      "\r",
      "      6      \u001b[36m273.8294\u001b[0m       \u001b[32m0.8775\u001b[0m      \u001b[35m153.3644\u001b[0m  216.3448\n"
     ]
    },
    {
     "data": {
      "application/vnd.jupyter.widget-view+json": {
       "model_id": "",
       "version_major": 2,
       "version_minor": 0
      },
      "text/plain": [
       "HBox(children=(IntProgress(value=0, max=446), HTML(value='')))"
      ]
     },
     "metadata": {},
     "output_type": "display_data"
    },
    {
     "name": "stdout",
     "output_type": "stream",
     "text": [
      "\r",
      "      7      \u001b[36m271.0684\u001b[0m       0.8757      \u001b[35m151.0256\u001b[0m  216.8105\n"
     ]
    },
    {
     "data": {
      "application/vnd.jupyter.widget-view+json": {
       "model_id": "",
       "version_major": 2,
       "version_minor": 0
      },
      "text/plain": [
       "HBox(children=(IntProgress(value=0, max=446), HTML(value='')))"
      ]
     },
     "metadata": {},
     "output_type": "display_data"
    },
    {
     "name": "stdout",
     "output_type": "stream",
     "text": [
      "\r",
      "      8      \u001b[36m268.3111\u001b[0m       \u001b[32m0.9005\u001b[0m      \u001b[35m150.8627\u001b[0m  216.2365\n"
     ]
    },
    {
     "data": {
      "application/vnd.jupyter.widget-view+json": {
       "model_id": "",
       "version_major": 2,
       "version_minor": 0
      },
      "text/plain": [
       "HBox(children=(IntProgress(value=0, max=446), HTML(value='')))"
      ]
     },
     "metadata": {},
     "output_type": "display_data"
    },
    {
     "name": "stdout",
     "output_type": "stream",
     "text": [
      "\r",
      "      9      \u001b[36m266.9062\u001b[0m       0.8868      \u001b[35m148.6382\u001b[0m  213.7828\n"
     ]
    },
    {
     "data": {
      "application/vnd.jupyter.widget-view+json": {
       "model_id": "",
       "version_major": 2,
       "version_minor": 0
      },
      "text/plain": [
       "HBox(children=(IntProgress(value=0, max=446), HTML(value='')))"
      ]
     },
     "metadata": {},
     "output_type": "display_data"
    },
    {
     "name": "stdout",
     "output_type": "stream",
     "text": [
      "\r",
      "     10      \u001b[36m265.1744\u001b[0m       0.8893      149.6992  214.4025\n"
     ]
    },
    {
     "data": {
      "application/vnd.jupyter.widget-view+json": {
       "model_id": "",
       "version_major": 2,
       "version_minor": 0
      },
      "text/plain": [
       "HBox(children=(IntProgress(value=0, max=446), HTML(value='')))"
      ]
     },
     "metadata": {},
     "output_type": "display_data"
    },
    {
     "name": "stdout",
     "output_type": "stream",
     "text": [
      "\r",
      "     11      \u001b[36m263.8010\u001b[0m       \u001b[32m0.9073\u001b[0m      149.3761  215.1047\n"
     ]
    },
    {
     "data": {
      "application/vnd.jupyter.widget-view+json": {
       "model_id": "",
       "version_major": 2,
       "version_minor": 0
      },
      "text/plain": [
       "HBox(children=(IntProgress(value=0, max=446), HTML(value='')))"
      ]
     },
     "metadata": {},
     "output_type": "display_data"
    },
    {
     "name": "stdout",
     "output_type": "stream",
     "text": [
      "\r",
      "     12      \u001b[36m262.7289\u001b[0m       0.8915      \u001b[35m148.5261\u001b[0m  215.1342\n"
     ]
    },
    {
     "data": {
      "application/vnd.jupyter.widget-view+json": {
       "model_id": "",
       "version_major": 2,
       "version_minor": 0
      },
      "text/plain": [
       "HBox(children=(IntProgress(value=0, max=446), HTML(value='')))"
      ]
     },
     "metadata": {},
     "output_type": "display_data"
    },
    {
     "name": "stdout",
     "output_type": "stream",
     "text": [
      "\r",
      "     13      \u001b[36m261.8711\u001b[0m       0.8790      \u001b[35m147.0559\u001b[0m  214.7568\n"
     ]
    },
    {
     "data": {
      "application/vnd.jupyter.widget-view+json": {
       "model_id": "",
       "version_major": 2,
       "version_minor": 0
      },
      "text/plain": [
       "HBox(children=(IntProgress(value=0, max=446), HTML(value='')))"
      ]
     },
     "metadata": {},
     "output_type": "display_data"
    },
    {
     "name": "stdout",
     "output_type": "stream",
     "text": [
      "\r",
      "     14      \u001b[36m260.7889\u001b[0m       0.9040      \u001b[35m146.9963\u001b[0m  214.7258\n"
     ]
    },
    {
     "data": {
      "application/vnd.jupyter.widget-view+json": {
       "model_id": "",
       "version_major": 2,
       "version_minor": 0
      },
      "text/plain": [
       "HBox(children=(IntProgress(value=0, max=446), HTML(value='')))"
      ]
     },
     "metadata": {},
     "output_type": "display_data"
    },
    {
     "name": "stdout",
     "output_type": "stream",
     "text": [
      "\r",
      "     15      \u001b[36m260.0045\u001b[0m       \u001b[32m0.9153\u001b[0m      \u001b[35m146.6933\u001b[0m  214.3795\n"
     ]
    },
    {
     "data": {
      "application/vnd.jupyter.widget-view+json": {
       "model_id": "",
       "version_major": 2,
       "version_minor": 0
      },
      "text/plain": [
       "HBox(children=(IntProgress(value=0, max=446), HTML(value='')))"
      ]
     },
     "metadata": {},
     "output_type": "display_data"
    },
    {
     "name": "stdout",
     "output_type": "stream",
     "text": [
      "\r",
      "     16      \u001b[36m259.0294\u001b[0m       0.9038      \u001b[35m146.2044\u001b[0m  215.4895\n"
     ]
    },
    {
     "data": {
      "application/vnd.jupyter.widget-view+json": {
       "model_id": "",
       "version_major": 2,
       "version_minor": 0
      },
      "text/plain": [
       "HBox(children=(IntProgress(value=0, max=446), HTML(value='')))"
      ]
     },
     "metadata": {},
     "output_type": "display_data"
    },
    {
     "name": "stdout",
     "output_type": "stream",
     "text": [
      "\r",
      "     17      \u001b[36m258.6962\u001b[0m       0.9078      \u001b[35m145.6989\u001b[0m  215.4675\n"
     ]
    },
    {
     "data": {
      "application/vnd.jupyter.widget-view+json": {
       "model_id": "64fba12624434ce28b38ff5ff8edd73a",
       "version_major": 2,
       "version_minor": 0
      },
      "text/plain": [
       "HBox(children=(IntProgress(value=0, max=446), HTML(value='')))"
      ]
     },
     "metadata": {},
     "output_type": "display_data"
    },
    {
     "name": "stdout",
     "output_type": "stream",
     "text": [
      "\r",
      "     19      \u001b[36m257.3758\u001b[0m       0.9007      \u001b[35m144.9679\u001b[0m  214.9152\n"
     ]
    },
    {
     "data": {
      "application/vnd.jupyter.widget-view+json": {
       "model_id": "",
       "version_major": 2,
       "version_minor": 0
      },
      "text/plain": [
       "HBox(children=(IntProgress(value=0, max=446), HTML(value='')))"
      ]
     },
     "metadata": {},
     "output_type": "display_data"
    },
    {
     "name": "stdout",
     "output_type": "stream",
     "text": [
      "\r",
      "     20      \u001b[36m256.9355\u001b[0m       \u001b[32m0.9165\u001b[0m      \u001b[35m144.0440\u001b[0m  214.7158\n"
     ]
    },
    {
     "data": {
      "application/vnd.jupyter.widget-view+json": {
       "model_id": "",
       "version_major": 2,
       "version_minor": 0
      },
      "text/plain": [
       "HBox(children=(IntProgress(value=0, max=446), HTML(value='')))"
      ]
     },
     "metadata": {},
     "output_type": "display_data"
    },
    {
     "name": "stdout",
     "output_type": "stream",
     "text": [
      "\r",
      "     21      \u001b[36m256.5103\u001b[0m       0.9112      146.3688  214.2556\n"
     ]
    },
    {
     "data": {
      "application/vnd.jupyter.widget-view+json": {
       "model_id": "",
       "version_major": 2,
       "version_minor": 0
      },
      "text/plain": [
       "HBox(children=(IntProgress(value=0, max=446), HTML(value='')))"
      ]
     },
     "metadata": {},
     "output_type": "display_data"
    },
    {
     "name": "stdout",
     "output_type": "stream",
     "text": [
      "\r",
      "     22      \u001b[36m256.0842\u001b[0m       0.9072      \u001b[35m144.0227\u001b[0m  215.7900\n"
     ]
    },
    {
     "data": {
      "application/vnd.jupyter.widget-view+json": {
       "model_id": "",
       "version_major": 2,
       "version_minor": 0
      },
      "text/plain": [
       "HBox(children=(IntProgress(value=0, max=446), HTML(value='')))"
      ]
     },
     "metadata": {},
     "output_type": "display_data"
    },
    {
     "name": "stdout",
     "output_type": "stream",
     "text": [
      "\r",
      "     23      \u001b[36m255.5580\u001b[0m       \u001b[32m0.9247\u001b[0m      \u001b[35m143.2895\u001b[0m  216.7712\n"
     ]
    },
    {
     "data": {
      "application/vnd.jupyter.widget-view+json": {
       "model_id": "",
       "version_major": 2,
       "version_minor": 0
      },
      "text/plain": [
       "HBox(children=(IntProgress(value=0, max=446), HTML(value='')))"
      ]
     },
     "metadata": {},
     "output_type": "display_data"
    },
    {
     "name": "stdout",
     "output_type": "stream",
     "text": [
      "\r",
      "     24      \u001b[36m255.3127\u001b[0m       \u001b[32m0.9273\u001b[0m      \u001b[35m142.7975\u001b[0m  216.8182\n"
     ]
    },
    {
     "data": {
      "application/vnd.jupyter.widget-view+json": {
       "model_id": "",
       "version_major": 2,
       "version_minor": 0
      },
      "text/plain": [
       "HBox(children=(IntProgress(value=0, max=446), HTML(value='')))"
      ]
     },
     "metadata": {},
     "output_type": "display_data"
    },
    {
     "name": "stdout",
     "output_type": "stream",
     "text": [
      "\r",
      "     25      \u001b[36m254.7077\u001b[0m       0.8977      143.9461  216.8193\n"
     ]
    },
    {
     "data": {
      "application/vnd.jupyter.widget-view+json": {
       "model_id": "",
       "version_major": 2,
       "version_minor": 0
      },
      "text/plain": [
       "HBox(children=(IntProgress(value=0, max=446), HTML(value='')))"
      ]
     },
     "metadata": {},
     "output_type": "display_data"
    },
    {
     "name": "stdout",
     "output_type": "stream",
     "text": [
      "\r",
      "     26      \u001b[36m254.4664\u001b[0m       0.9160      144.4475  216.9497\n"
     ]
    },
    {
     "data": {
      "application/vnd.jupyter.widget-view+json": {
       "model_id": "",
       "version_major": 2,
       "version_minor": 0
      },
      "text/plain": [
       "HBox(children=(IntProgress(value=0, max=446), HTML(value='')))"
      ]
     },
     "metadata": {},
     "output_type": "display_data"
    },
    {
     "name": "stdout",
     "output_type": "stream",
     "text": [
      "\r",
      "     27      \u001b[36m253.9928\u001b[0m       0.9215      143.2336  216.7392\n"
     ]
    },
    {
     "data": {
      "application/vnd.jupyter.widget-view+json": {
       "model_id": "",
       "version_major": 2,
       "version_minor": 0
      },
      "text/plain": [
       "HBox(children=(IntProgress(value=0, max=446), HTML(value='')))"
      ]
     },
     "metadata": {},
     "output_type": "display_data"
    },
    {
     "name": "stdout",
     "output_type": "stream",
     "text": [
      "\r",
      "     28      \u001b[36m253.6747\u001b[0m       0.9093      143.9479  216.9500\n"
     ]
    },
    {
     "data": {
      "application/vnd.jupyter.widget-view+json": {
       "model_id": "",
       "version_major": 2,
       "version_minor": 0
      },
      "text/plain": [
       "HBox(children=(IntProgress(value=0, max=446), HTML(value='')))"
      ]
     },
     "metadata": {},
     "output_type": "display_data"
    },
    {
     "name": "stdout",
     "output_type": "stream",
     "text": [
      "\r",
      "     29      \u001b[36m253.5272\u001b[0m       0.9178      \u001b[35m142.1999\u001b[0m  216.0418\n"
     ]
    },
    {
     "data": {
      "application/vnd.jupyter.widget-view+json": {
       "model_id": "c221d65891424163bb6f2da877ba6de7",
       "version_major": 2,
       "version_minor": 0
      },
      "text/plain": [
       "HBox(children=(IntProgress(value=0, max=446), HTML(value='')))"
      ]
     },
     "metadata": {},
     "output_type": "display_data"
    },
    {
     "name": "stderr",
     "output_type": "stream",
     "text": [
      "IOPub message rate exceeded.\n",
      "The notebook server will temporarily stop sending output\n",
      "to the client in order to avoid crashing it.\n",
      "To change this limit, set the config variable\n",
      "`--NotebookApp.iopub_msg_rate_limit`.\n",
      "\n",
      "Current values:\n",
      "NotebookApp.iopub_msg_rate_limit=1000.0 (msgs/sec)\n",
      "NotebookApp.rate_limit_window=3.0 (secs)\n",
      "\n"
     ]
    }
   ],
   "source": [
    "model_low.fit(train)"
   ]
  },
  {
   "cell_type": "code",
   "execution_count": 9,
   "metadata": {},
   "outputs": [
    {
     "data": {
      "text/plain": [
       "0.915"
      ]
     },
     "execution_count": 9,
     "metadata": {},
     "output_type": "execute_result"
    }
   ],
   "source": [
    "model_low.score(test, test.targets)"
   ]
  },
  {
   "cell_type": "code",
   "execution_count": 10,
   "metadata": {},
   "outputs": [
    {
     "data": {
      "image/png": "[encoded data removed]",
      "text/plain": [
       "<Figure size 1296x864 with 16 Axes>"
      ]
     },
     "metadata": {
      "needs_background": "light"
     },
     "output_type": "display_data"
    }
   ],
   "source": [
    "sslvae = model_low.module_\n",
    "sslvae.eval()\n",
    "with torch.no_grad():\n",
    "    z = torch.randn(16, 64).cuda()\n",
    "    y = torch.tensor([8]).repeat(16, 1).cuda() # Generate a batch of 7s\n",
    "    pred = sslvae.sample_decode(z, y)\n",
    "\n",
    "import matplotlib.pyplot as plt\n",
    "f, axarr = plt.subplots(1, 16, figsize=(18, 12))\n",
    "\n",
    "try:\n",
    "    for i, ax in enumerate(axarr.flat):\n",
    "        ax.imshow(pred[i].cpu().permute(1,2,0))\n",
    "        ax.axis(\"off\")\n",
    "except:\n",
    "    for i, ax in enumerate(axarr.flat):\n",
    "        ax.imshow(pred[i].cpu().squeeze(), cmap='gray')\n",
    "        ax.axis(\"off\")"
   ]
  },
  {
   "cell_type": "markdown",
   "metadata": {},
   "source": [
    "# High Alpha"
   ]
  },
  {
   "cell_type": "code",
   "execution_count": null,
   "metadata": {},
   "outputs": [],
   "source": [
    "m2 = SSLVAE(train.shape, train.n_classes,\n",
    "            Encoder=add_flat_input(WideResNet), \n",
    "            Decoder=ReversedSimpleCNN,\n",
    "            Classifier=SimpleCNN,\n",
    "            z_dim=64)\n",
    "\n",
    "model_high=NeuralNetClassifier(m2, \n",
    "                   criterion=SSLVAELoss, \n",
    "                   criterion__distribution=\"bernoulli\",\n",
    "                   criterion__alpha=30,\n",
    "                  max_epochs=30,\n",
    "                           devset=dev)"
   ]
  },
  {
   "cell_type": "code",
   "execution_count": null,
   "metadata": {},
   "outputs": [],
   "source": [
    "model_high.fit(train)"
   ]
  },
  {
   "cell_type": "code",
   "execution_count": null,
   "metadata": {},
   "outputs": [],
   "source": [
    "model_high.score(test, test.targets)"
   ]
  },
  {
   "cell_type": "code",
   "execution_count": null,
   "metadata": {},
   "outputs": [],
   "source": [
    "sslvae = model_high.module_\n",
    "sslvae.eval()\n",
    "with torch.no_grad():\n",
    "    z = torch.randn(16, 64).cuda()\n",
    "    y = torch.tensor([8]).repeat(16, 1).cuda() # Generate a batch of 7s\n",
    "    pred = sslvae.sample_decode(z, y)\n",
    "\n",
    "import matplotlib.pyplot as plt\n",
    "f, axarr = plt.subplots(1, 16, figsize=(18, 12))\n",
    "\n",
    "try:\n",
    "    for i, ax in enumerate(axarr.flat):\n",
    "        ax.imshow(pred[i].cpu().permute(1,2,0))\n",
    "        ax.axis(\"off\")\n",
    "except:\n",
    "    for i, ax in enumerate(axarr.flat):\n",
    "        ax.imshow(pred[i].cpu().squeeze(), cmap='gray')\n",
    "        ax.axis(\"off\")"
   ]
  },
  {
   "cell_type": "markdown",
   "metadata": {},
   "source": [
    "# Medium Alpha"
   ]
  },
  {
   "cell_type": "code",
   "execution_count": 9,
   "metadata": {},
   "outputs": [
    {
     "ename": "NameError",
     "evalue": "name 'make_ssl_encoder' is not defined",
     "output_type": "error",
     "traceback": [
      "\u001b[0;31m---------------------------------------------------------------------------\u001b[0m",
      "\u001b[0;31mNameError\u001b[0m                                 Traceback (most recent call last)",
      "\u001b[0;32m<ipython-input-9-a1c61923d3ec>\u001b[0m in \u001b[0;36m<module>\u001b[0;34m\u001b[0m\n\u001b[1;32m      1\u001b[0m m2 = SSLVAE(train.shape, train.n_classes,\n\u001b[0;32m----> 2\u001b[0;31m             \u001b[0mEncoder\u001b[0m\u001b[0;34m=\u001b[0m\u001b[0mmake_ssl_encoder\u001b[0m\u001b[0;34m(\u001b[0m\u001b[0mWideResNet\u001b[0m\u001b[0;34m)\u001b[0m\u001b[0;34m,\u001b[0m\u001b[0;34m\u001b[0m\u001b[0;34m\u001b[0m\u001b[0m\n\u001b[0m\u001b[1;32m      3\u001b[0m             \u001b[0mDecoder\u001b[0m\u001b[0;34m=\u001b[0m\u001b[0mReversedSimpleCNN\u001b[0m\u001b[0;34m,\u001b[0m\u001b[0;34m\u001b[0m\u001b[0;34m\u001b[0m\u001b[0m\n\u001b[1;32m      4\u001b[0m             \u001b[0mClassifier\u001b[0m\u001b[0;34m=\u001b[0m\u001b[0mSimpleCNN\u001b[0m\u001b[0;34m,\u001b[0m\u001b[0;34m\u001b[0m\u001b[0;34m\u001b[0m\u001b[0m\n\u001b[1;32m      5\u001b[0m             z_dim=64)\n",
      "\u001b[0;31mNameError\u001b[0m: name 'make_ssl_encoder' is not defined"
     ]
    }
   ],
   "source": [
    "m2 = SSLVAE(train.shape, train.n_classes,\n",
    "            Encoder=make_ssl_encoder(WideResNet), \n",
    "            Decoder=ReversedSimpleCNN,\n",
    "            Classifier=SimpleCNN,\n",
    "            z_dim=64)\n",
    "\n",
    "model_med=NeuralNetClassifier(m2, \n",
    "                   criterion=SSLVAELoss, \n",
    "                   criterion__distribution=\"bernoulli\",\n",
    "                   criterion__alpha=5,\n",
    "                  max_epochs=30,\n",
    "                           devset=dev)"
   ]
  },
  {
   "cell_type": "code",
   "execution_count": null,
   "metadata": {},
   "outputs": [],
   "source": [
    "model_med.fit(train)"
   ]
  },
  {
   "cell_type": "code",
   "execution_count": null,
   "metadata": {},
   "outputs": [],
   "source": [
    "model_med.score(test, test.targets)"
   ]
  },
  {
   "cell_type": "code",
   "execution_count": null,
   "metadata": {},
   "outputs": [],
   "source": [
    "sslvae = model_med.module_\n",
    "sslvae.eval()\n",
    "with torch.no_grad():\n",
    "    z = torch.randn(16, 64).cuda()\n",
    "    y = torch.tensor([8]).repeat(16, 1).cuda() # Generate a batch of 7s\n",
    "    pred = sslvae.sample_decode(z, y)\n",
    "\n",
    "import matplotlib.pyplot as plt\n",
    "f, axarr = plt.subplots(1, 16, figsize=(18, 12))\n",
    "\n",
    "try:\n",
    "    for i, ax in enumerate(axarr.flat):\n",
    "        ax.imshow(pred[i].cpu().permute(1,2,0))\n",
    "        ax.axis(\"off\")\n",
    "except:\n",
    "    for i, ax in enumerate(axarr.flat):\n",
    "        ax.imshow(pred[i].cpu().squeeze(), cmap='gray')\n",
    "        ax.axis(\"off\")"
   ]
  },
  {
   "cell_type": "markdown",
   "metadata": {},
   "source": [
    "# Low Alpha Laplace"
   ]
  },
  {
   "cell_type": "code",
   "execution_count": 6,
   "metadata": {},
   "outputs": [],
   "source": [
    "m2 = SSLVAE(train.shape, train.n_classes,\n",
    "            Encoder=add_flat_input(WideResNet), \n",
    "            Decoder=ReversedSimpleCNN,\n",
    "            Classifier=WideResNet,\n",
    "            z_dim=64)\n",
    "\n",
    "model_low_laplace=NeuralNetClassifier(m2, \n",
    "                   criterion=SSLVAELoss, \n",
    "                   criterion__distribution=\"laplace\",\n",
    "                   criterion__alpha=10,\n",
    "                  max_epochs=30,\n",
    "                           devset=dev)"
   ]
  },
  {
   "cell_type": "code",
   "execution_count": 7,
   "metadata": {},
   "outputs": [],
   "source": [
    "train, dev, test = get_train_dev_test_ssl(\"mnist\")"
   ]
  },
  {
   "cell_type": "code",
   "execution_count": 8,
   "metadata": {},
   "outputs": [
    {
     "data": {
      "application/vnd.jupyter.widget-view+json": {
       "model_id": "31266d0334cf4fd994ad5e6efde1c819",
       "version_major": 2,
       "version_minor": 0
      },
      "text/plain": [
       "HBox(children=(IntProgress(value=0, max=469), HTML(value='')))"
      ]
     },
     "metadata": {},
     "output_type": "display_data"
    },
    {
     "data": {
      "text/plain": [
       "<class 'skssl.training.trainer.NeuralNetClassifier'>[initialized](\n",
       "  module_=SSLVAE(\n",
       "    (classifier): WideResNet(\n",
       "      (conv): Conv2d(1, 16, kernel_size=(3, 3), stride=(1, 1), padding=(1, 1), bias=False)\n",
       "      (block1): Sequential(\n",
       "        (0): _ResLayer(\n",
       "          (act): LeakyReLU(negative_slope=0.1)\n",
       "          (bn1): BatchNorm2d(16, eps=1e-05, momentum=0.1, affine=True, track_running_stats=True)\n",
       "          (conv1): Conv2d(16, 32, kernel_size=(3, 3), stride=(1, 1), padding=(1, 1), bias=False)\n",
       "          (bn2): BatchNorm2d(32, eps=1e-05, momentum=0.1, affine=True, track_running_stats=True)\n",
       "          (conv2): Conv2d(32, 32, kernel_size=(3, 3), stride=(1, 1), padding=(1, 1), bias=False)\n",
       "          (conv_shortcut): Conv2d(16, 32, kernel_size=(1, 1), stride=(1, 1), bias=False)\n",
       "        )\n",
       "        (1): _ResLayer(\n",
       "          (act): LeakyReLU(negative_slope=0.1)\n",
       "          (bn1): BatchNorm2d(32, eps=1e-05, momentum=0.1, affine=True, track_running_stats=True)\n",
       "          (conv1): Conv2d(32, 32, kernel_size=(3, 3), stride=(1, 1), padding=(1, 1), bias=False)\n",
       "          (bn2): BatchNorm2d(32, eps=1e-05, momentum=0.1, affine=True, track_running_stats=True)\n",
       "          (conv2): Conv2d(32, 32, kernel_size=(3, 3), stride=(1, 1), padding=(1, 1), bias=False)\n",
       "        )\n",
       "        (2): _ResLayer(\n",
       "          (act): LeakyReLU(negative_slope=0.1)\n",
       "          (bn1): BatchNorm2d(32, eps=1e-05, momentum=0.1, affine=True, track_running_stats=True)\n",
       "          (conv1): Conv2d(32, 32, kernel_size=(3, 3), stride=(1, 1), padding=(1, 1), bias=False)\n",
       "          (bn2): BatchNorm2d(32, eps=1e-05, momentum=0.1, affine=True, track_running_stats=True)\n",
       "          (conv2): Conv2d(32, 32, kernel_size=(3, 3), stride=(1, 1), padding=(1, 1), bias=False)\n",
       "        )\n",
       "        (3): _ResLayer(\n",
       "          (act): LeakyReLU(negative_slope=0.1)\n",
       "          (bn1): BatchNorm2d(32, eps=1e-05, momentum=0.1, affine=True, track_running_stats=True)\n",
       "          (conv1): Conv2d(32, 32, kernel_size=(3, 3), stride=(1, 1), padding=(1, 1), bias=False)\n",
       "          (bn2): BatchNorm2d(32, eps=1e-05, momentum=0.1, affine=True, track_running_stats=True)\n",
       "          (conv2): Conv2d(32, 32, kernel_size=(3, 3), stride=(1, 1), padding=(1, 1), bias=False)\n",
       "        )\n",
       "      )\n",
       "      (block2): Sequential(\n",
       "        (0): _ResLayer(\n",
       "          (act): LeakyReLU(negative_slope=0.1)\n",
       "          (bn1): BatchNorm2d(32, eps=1e-05, momentum=0.1, affine=True, track_running_stats=True)\n",
       "          (conv1): Conv2d(32, 64, kernel_size=(3, 3), stride=(2, 2), padding=(1, 1), bias=False)\n",
       "          (bn2): BatchNorm2d(64, eps=1e-05, momentum=0.1, affine=True, track_running_stats=True)\n",
       "          (conv2): Conv2d(64, 64, kernel_size=(3, 3), stride=(1, 1), padding=(1, 1), bias=False)\n",
       "          (conv_shortcut): Conv2d(32, 64, kernel_size=(1, 1), stride=(2, 2), bias=False)\n",
       "        )\n",
       "        (1): _ResLayer(\n",
       "          (act): LeakyReLU(negative_slope=0.1)\n",
       "          (bn1): BatchNorm2d(64, eps=1e-05, momentum=0.1, affine=True, track_running_stats=True)\n",
       "          (conv1): Conv2d(64, 64, kernel_size=(3, 3), stride=(1, 1), padding=(1, 1), bias=False)\n",
       "          (bn2): BatchNorm2d(64, eps=1e-05, momentum=0.1, affine=True, track_running_stats=True)\n",
       "          (conv2): Conv2d(64, 64, kernel_size=(3, 3), stride=(1, 1), padding=(1, 1), bias=False)\n",
       "        )\n",
       "        (2): _ResLayer(\n",
       "          (act): LeakyReLU(negative_slope=0.1)\n",
       "          (bn1): BatchNorm2d(64, eps=1e-05, momentum=0.1, affine=True, track_running_stats=True)\n",
       "          (conv1): Conv2d(64, 64, kernel_size=(3, 3), stride=(1, 1), padding=(1, 1), bias=False)\n",
       "          (bn2): BatchNorm2d(64, eps=1e-05, momentum=0.1, affine=True, track_running_stats=True)\n",
       "          (conv2): Conv2d(64, 64, kernel_size=(3, 3), stride=(1, 1), padding=(1, 1), bias=False)\n",
       "        )\n",
       "        (3): _ResLayer(\n",
       "          (act): LeakyReLU(negative_slope=0.1)\n",
       "          (bn1): BatchNorm2d(64, eps=1e-05, momentum=0.1, affine=True, track_running_stats=True)\n",
       "          (conv1): Conv2d(64, 64, kernel_size=(3, 3), stride=(1, 1), padding=(1, 1), bias=False)\n",
       "          (bn2): BatchNorm2d(64, eps=1e-05, momentum=0.1, affine=True, track_running_stats=True)\n",
       "          (conv2): Conv2d(64, 64, kernel_size=(3, 3), stride=(1, 1), padding=(1, 1), bias=False)\n",
       "        )\n",
       "      )\n",
       "      (block3): Sequential(\n",
       "        (0): _ResLayer(\n",
       "          (act): LeakyReLU(negative_slope=0.1)\n",
       "          (bn1): BatchNorm2d(64, eps=1e-05, momentum=0.1, affine=True, track_running_stats=True)\n",
       "          (conv1): Conv2d(64, 128, kernel_size=(3, 3), stride=(2, 2), padding=(1, 1), bias=False)\n",
       "          (bn2): BatchNorm2d(128, eps=1e-05, momentum=0.1, affine=True, track_running_stats=True)\n",
       "          (conv2): Conv2d(128, 128, kernel_size=(3, 3), stride=(1, 1), padding=(1, 1), bias=False)\n",
       "          (conv_shortcut): Conv2d(64, 128, kernel_size=(1, 1), stride=(2, 2), bias=False)\n",
       "        )\n",
       "        (1): _ResLayer(\n",
       "          (act): LeakyReLU(negative_slope=0.1)\n",
       "          (bn1): BatchNorm2d(128, eps=1e-05, momentum=0.1, affine=True, track_running_stats=True)\n",
       "          (conv1): Conv2d(128, 128, kernel_size=(3, 3), stride=(1, 1), padding=(1, 1), bias=False)\n",
       "          (bn2): BatchNorm2d(128, eps=1e-05, momentum=0.1, affine=True, track_running_stats=True)\n",
       "          (conv2): Conv2d(128, 128, kernel_size=(3, 3), stride=(1, 1), padding=(1, 1), bias=False)\n",
       "        )\n",
       "        (2): _ResLayer(\n",
       "          (act): LeakyReLU(negative_slope=0.1)\n",
       "          (bn1): BatchNorm2d(128, eps=1e-05, momentum=0.1, affine=True, track_running_stats=True)\n",
       "          (conv1): Conv2d(128, 128, kernel_size=(3, 3), stride=(1, 1), padding=(1, 1), bias=False)\n",
       "          (bn2): BatchNorm2d(128, eps=1e-05, momentum=0.1, affine=True, track_running_stats=True)\n",
       "          (conv2): Conv2d(128, 128, kernel_size=(3, 3), stride=(1, 1), padding=(1, 1), bias=False)\n",
       "        )\n",
       "        (3): _ResLayer(\n",
       "          (act): LeakyReLU(negative_slope=0.1)\n",
       "          (bn1): BatchNorm2d(128, eps=1e-05, momentum=0.1, affine=True, track_running_stats=True)\n",
       "          (conv1): Conv2d(128, 128, kernel_size=(3, 3), stride=(1, 1), padding=(1, 1), bias=False)\n",
       "          (bn2): BatchNorm2d(128, eps=1e-05, momentum=0.1, affine=True, track_running_stats=True)\n",
       "          (conv2): Conv2d(128, 128, kernel_size=(3, 3), stride=(1, 1), padding=(1, 1), bias=False)\n",
       "        )\n",
       "      )\n",
       "      (bn): BatchNorm2d(128, eps=1e-05, momentum=0.1, affine=True, track_running_stats=True)\n",
       "      (act): LeakyReLU(negative_slope=0.1)\n",
       "      (fc): Linear(in_features=128, out_features=10, bias=True)\n",
       "    )\n",
       "    (encoder): MergeFlatAndNotFlatInputs(\n",
       "      (non_flat_module): WideResNet(\n",
       "        (conv): Conv2d(1, 16, kernel_size=(3, 3), stride=(1, 1), padding=(1, 1), bias=False)\n",
       "        (block1): Sequential(\n",
       "          (0): _ResLayer(\n",
       "            (act): LeakyReLU(negative_slope=0.1)\n",
       "            (bn1): BatchNorm2d(16, eps=1e-05, momentum=0.1, affine=True, track_running_stats=True)\n",
       "            (conv1): Conv2d(16, 32, kernel_size=(3, 3), stride=(1, 1), padding=(1, 1), bias=False)\n",
       "            (bn2): BatchNorm2d(32, eps=1e-05, momentum=0.1, affine=True, track_running_stats=True)\n",
       "            (conv2): Conv2d(32, 32, kernel_size=(3, 3), stride=(1, 1), padding=(1, 1), bias=False)\n",
       "            (conv_shortcut): Conv2d(16, 32, kernel_size=(1, 1), stride=(1, 1), bias=False)\n",
       "          )\n",
       "          (1): _ResLayer(\n",
       "            (act): LeakyReLU(negative_slope=0.1)\n",
       "            (bn1): BatchNorm2d(32, eps=1e-05, momentum=0.1, affine=True, track_running_stats=True)\n",
       "            (conv1): Conv2d(32, 32, kernel_size=(3, 3), stride=(1, 1), padding=(1, 1), bias=False)\n",
       "            (bn2): BatchNorm2d(32, eps=1e-05, momentum=0.1, affine=True, track_running_stats=True)\n",
       "            (conv2): Conv2d(32, 32, kernel_size=(3, 3), stride=(1, 1), padding=(1, 1), bias=False)\n",
       "          )\n",
       "          (2): _ResLayer(\n",
       "            (act): LeakyReLU(negative_slope=0.1)\n",
       "            (bn1): BatchNorm2d(32, eps=1e-05, momentum=0.1, affine=True, track_running_stats=True)\n",
       "            (conv1): Conv2d(32, 32, kernel_size=(3, 3), stride=(1, 1), padding=(1, 1), bias=False)\n",
       "            (bn2): BatchNorm2d(32, eps=1e-05, momentum=0.1, affine=True, track_running_stats=True)\n",
       "            (conv2): Conv2d(32, 32, kernel_size=(3, 3), stride=(1, 1), padding=(1, 1), bias=False)\n",
       "          )\n",
       "          (3): _ResLayer(\n",
       "            (act): LeakyReLU(negative_slope=0.1)\n",
       "            (bn1): BatchNorm2d(32, eps=1e-05, momentum=0.1, affine=True, track_running_stats=True)\n",
       "            (conv1): Conv2d(32, 32, kernel_size=(3, 3), stride=(1, 1), padding=(1, 1), bias=False)\n",
       "            (bn2): BatchNorm2d(32, eps=1e-05, momentum=0.1, affine=True, track_running_stats=True)\n",
       "            (conv2): Conv2d(32, 32, kernel_size=(3, 3), stride=(1, 1), padding=(1, 1), bias=False)\n",
       "          )\n",
       "        )\n",
       "        (block2): Sequential(\n",
       "          (0): _ResLayer(\n",
       "            (act): LeakyReLU(negative_slope=0.1)\n",
       "            (bn1): BatchNorm2d(32, eps=1e-05, momentum=0.1, affine=True, track_running_stats=True)\n",
       "            (conv1): Conv2d(32, 64, kernel_size=(3, 3), stride=(2, 2), padding=(1, 1), bias=False)\n",
       "            (bn2): BatchNorm2d(64, eps=1e-05, momentum=0.1, affine=True, track_running_stats=True)\n",
       "            (conv2): Conv2d(64, 64, kernel_size=(3, 3), stride=(1, 1), padding=(1, 1), bias=False)\n",
       "            (conv_shortcut): Conv2d(32, 64, kernel_size=(1, 1), stride=(2, 2), bias=False)\n",
       "          )\n",
       "          (1): _ResLayer(\n",
       "            (act): LeakyReLU(negative_slope=0.1)\n",
       "            (bn1): BatchNorm2d(64, eps=1e-05, momentum=0.1, affine=True, track_running_stats=True)\n",
       "            (conv1): Conv2d(64, 64, kernel_size=(3, 3), stride=(1, 1), padding=(1, 1), bias=False)\n",
       "            (bn2): BatchNorm2d(64, eps=1e-05, momentum=0.1, affine=True, track_running_stats=True)\n",
       "            (conv2): Conv2d(64, 64, kernel_size=(3, 3), stride=(1, 1), padding=(1, 1), bias=False)\n",
       "          )\n",
       "          (2): _ResLayer(\n",
       "            (act): LeakyReLU(negative_slope=0.1)\n",
       "            (bn1): BatchNorm2d(64, eps=1e-05, momentum=0.1, affine=True, track_running_stats=True)\n",
       "            (conv1): Conv2d(64, 64, kernel_size=(3, 3), stride=(1, 1), padding=(1, 1), bias=False)\n",
       "            (bn2): BatchNorm2d(64, eps=1e-05, momentum=0.1, affine=True, track_running_stats=True)\n",
       "            (conv2): Conv2d(64, 64, kernel_size=(3, 3), stride=(1, 1), padding=(1, 1), bias=False)\n",
       "          )\n",
       "          (3): _ResLayer(\n",
       "            (act): LeakyReLU(negative_slope=0.1)\n",
       "            (bn1): BatchNorm2d(64, eps=1e-05, momentum=0.1, affine=True, track_running_stats=True)\n",
       "            (conv1): Conv2d(64, 64, kernel_size=(3, 3), stride=(1, 1), padding=(1, 1), bias=False)\n",
       "            (bn2): BatchNorm2d(64, eps=1e-05, momentum=0.1, affine=True, track_running_stats=True)\n",
       "            (conv2): Conv2d(64, 64, kernel_size=(3, 3), stride=(1, 1), padding=(1, 1), bias=False)\n",
       "          )\n",
       "        )\n",
       "        (block3): Sequential(\n",
       "          (0): _ResLayer(\n",
       "            (act): LeakyReLU(negative_slope=0.1)\n",
       "            (bn1): BatchNorm2d(64, eps=1e-05, momentum=0.1, affine=True, track_running_stats=True)\n",
       "            (conv1): Conv2d(64, 128, kernel_size=(3, 3), stride=(2, 2), padding=(1, 1), bias=False)\n",
       "            (bn2): BatchNorm2d(128, eps=1e-05, momentum=0.1, affine=True, track_running_stats=True)\n",
       "            (conv2): Conv2d(128, 128, kernel_size=(3, 3), stride=(1, 1), padding=(1, 1), bias=False)\n",
       "            (conv_shortcut): Conv2d(64, 128, kernel_size=(1, 1), stride=(2, 2), bias=False)\n",
       "          )\n",
       "          (1): _ResLayer(\n",
       "            (act): LeakyReLU(negative_slope=0.1)\n",
       "            (bn1): BatchNorm2d(128, eps=1e-05, momentum=0.1, affine=True, track_running_stats=True)\n",
       "            (conv1): Conv2d(128, 128, kernel_size=(3, 3), stride=(1, 1), padding=(1, 1), bias=False)\n",
       "            (bn2): BatchNorm2d(128, eps=1e-05, momentum=0.1, affine=True, track_running_stats=True)\n",
       "            (conv2): Conv2d(128, 128, kernel_size=(3, 3), stride=(1, 1), padding=(1, 1), bias=False)\n",
       "          )\n",
       "          (2): _ResLayer(\n",
       "            (act): LeakyReLU(negative_slope=0.1)\n",
       "            (bn1): BatchNorm2d(128, eps=1e-05, momentum=0.1, affine=True, track_running_stats=True)\n",
       "            (conv1): Conv2d(128, 128, kernel_size=(3, 3), stride=(1, 1), padding=(1, 1), bias=False)\n",
       "            (bn2): BatchNorm2d(128, eps=1e-05, momentum=0.1, affine=True, track_running_stats=True)\n",
       "            (conv2): Conv2d(128, 128, kernel_size=(3, 3), stride=(1, 1), padding=(1, 1), bias=False)\n",
       "          )\n",
       "          (3): _ResLayer(\n",
       "            (act): LeakyReLU(negative_slope=0.1)\n",
       "            (bn1): BatchNorm2d(128, eps=1e-05, momentum=0.1, affine=True, track_running_stats=True)\n",
       "            (conv1): Conv2d(128, 128, kernel_size=(3, 3), stride=(1, 1), padding=(1, 1), bias=False)\n",
       "            (bn2): BatchNorm2d(128, eps=1e-05, momentum=0.1, affine=True, track_running_stats=True)\n",
       "            (conv2): Conv2d(128, 128, kernel_size=(3, 3), stride=(1, 1), padding=(1, 1), bias=False)\n",
       "          )\n",
       "        )\n",
       "        (bn): BatchNorm2d(128, eps=1e-05, momentum=0.1, affine=True, track_running_stats=True)\n",
       "        (act): LeakyReLU(negative_slope=0.1)\n",
       "        (fc): Linear(in_features=128, out_features=128, bias=True)\n",
       "      )\n",
       "      (mixer): MLP(\n",
       "        (activation): ReLU()\n",
       "        (to_hidden): Linear(in_features=138, out_features=128, bias=True)\n",
       "        (linears): ModuleList()\n",
       "        (out): Linear(in_features=128, out_features=128, bias=True)\n",
       "      )\n",
       "    )\n",
       "    (decoder): ReversedSimpleCNN(\n",
       "      (conv1): ConvTranspose2d(32, 1, kernel_size=(4, 4), stride=(2, 2), padding=(1, 1))\n",
       "      (conv2): ConvTranspose2d(32, 32, kernel_size=(4, 4), stride=(2, 2), padding=(1, 1))\n",
       "      (conv3): ConvTranspose2d(32, 32, kernel_size=(4, 4), stride=(2, 2), padding=(1, 1))\n",
       "      (lin1): Linear(in_features=256, out_features=512, bias=True)\n",
       "      (lin2): Linear(in_features=256, out_features=256, bias=True)\n",
       "      (lin3): Linear(in_features=74, out_features=256, bias=True)\n",
       "    )\n",
       "  ),\n",
       ")"
      ]
     },
     "execution_count": 8,
     "metadata": {},
     "output_type": "execute_result"
    }
   ],
   "source": [
    "model_low_laplace.fit(train)"
   ]
  },
  {
   "cell_type": "code",
   "execution_count": 30,
   "metadata": {},
   "outputs": [
    {
     "data": {
      "text/plain": [
       "0.1957"
      ]
     },
     "execution_count": 30,
     "metadata": {},
     "output_type": "execute_result"
    }
   ],
   "source": [
    "model_low_laplace.score(test, test.targets)"
   ]
  },
  {
   "cell_type": "code",
   "execution_count": 22,
   "metadata": {},
   "outputs": [
    {
     "data": {
      "image/png": "[encoded data removed]",
      "text/plain": [
       "<Figure size 1296x864 with 16 Axes>"
      ]
     },
     "metadata": {
      "needs_background": "light"
     },
     "output_type": "display_data"
    }
   ],
   "source": [
    "sslvae = model_low_laplace.module_\n",
    "sslvae.eval()\n",
    "with torch.no_grad():\n",
    "    z = torch.randn(16, 64).cuda()\n",
    "    y = torch.tensor([8]).repeat(16, 1).cuda() # Generate a batch of 7s\n",
    "    pred = sslvae.sample_decode(z, y)\n",
    "\n",
    "import matplotlib.pyplot as plt\n",
    "f, axarr = plt.subplots(1, 16, figsize=(18, 12))\n",
    "\n",
    "try:\n",
    "    for i, ax in enumerate(axarr.flat):\n",
    "        ax.imshow(pred[i].cpu().permute(1,2,0))\n",
    "        ax.axis(\"off\")\n",
    "except:\n",
    "    for i, ax in enumerate(axarr.flat):\n",
    "        ax.imshow(pred[i].cpu().squeeze(), cmap='gray')\n",
    "        ax.axis(\"off\")"
   ]
  },
  {
   "cell_type": "code",
   "execution_count": null,
   "metadata": {},
   "outputs": [],
   "source": []
  }
 ],
 "metadata": {
  "kernelspec": {
   "display_name": "Python 3",
   "language": "python",
   "name": "python3"
  },
  "language_info": {
   "codemirror_mode": {
    "name": "ipython",
    "version": 3
   },
   "file_extension": ".py",
   "mimetype": "text/x-python",
   "name": "python",
   "nbconvert_exporter": "python",
   "pygments_lexer": "ipython3",
   "version": "3.6.8"
  }
 },
 "nbformat": 4,
 "nbformat_minor": 2
}

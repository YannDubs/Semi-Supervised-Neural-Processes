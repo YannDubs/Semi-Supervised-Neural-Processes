{
 "cells": [
  {
   "cell_type": "markdown",
   "metadata": {},
   "source": [
    "# Human Activity Recognition - Baselines\n",
    "\n",
    "Last Update : 21 July 2019"
   ]
  },
  {
   "cell_type": "code",
   "execution_count": 1,
   "metadata": {},
   "outputs": [],
   "source": [
    "N_THREADS = 8\n",
    "# Nota Bene : notebooks don't deallocate GPU memory\n",
    "IS_FORCE_CPU = True # can also be set in the trainer"
   ]
  },
  {
   "cell_type": "markdown",
   "metadata": {},
   "source": [
    "## Environment"
   ]
  },
  {
   "cell_type": "code",
   "execution_count": 2,
   "metadata": {},
   "outputs": [
    {
     "name": "stdout",
     "output_type": "stream",
     "text": [
      "/conv\n"
     ]
    }
   ],
   "source": [
    "cd .."
   ]
  },
  {
   "cell_type": "code",
   "execution_count": 3,
   "metadata": {},
   "outputs": [
    {
     "data": {
      "application/javascript": [
       "IPython.notebook.set_autosave_interval(600000)"
      ]
     },
     "metadata": {},
     "output_type": "display_data"
    },
    {
     "name": "stdout",
     "output_type": "stream",
     "text": [
      "Autosaving every 600 seconds\n"
     ]
    },
    {
     "data": {
      "text/html": [
       " <style> .output_png {display: table-cell; text-align: center; margin:auto; }\n",
       ".prompt display:none;}  </style>"
      ],
      "text/plain": [
       "<IPython.core.display.HTML object>"
      ]
     },
     "metadata": {},
     "output_type": "display_data"
    }
   ],
   "source": [
    "%autosave 600\n",
    "%matplotlib inline\n",
    "%config InlineBackend.figure_format = 'retina'\n",
    "\n",
    "# CENTER PLOTS\n",
    "from IPython.core.display import HTML\n",
    "display(HTML(\"\"\" <style> .output_png {display: table-cell; text-align: center; margin:auto; }\n",
    ".prompt display:none;}  </style>\"\"\"))\n",
    "\n",
    "import os\n",
    "if IS_FORCE_CPU:\n",
    "    os.environ['CUDA_VISIBLE_DEVICES'] = \"\"\n",
    "\n",
    "import sys\n",
    "sys.path.append(\"notebooks\")\n",
    "\n",
    "import numpy as np\n",
    "import matplotlib.pyplot as plt\n",
    "from functools import partial\n",
    "import pandas as pd\n",
    "import h5py\n",
    "\n",
    "\n",
    "import torch\n",
    "torch.set_num_threads(N_THREADS)"
   ]
  },
  {
   "cell_type": "markdown",
   "metadata": {},
   "source": [
    "# Dataset"
   ]
  },
  {
   "cell_type": "code",
   "execution_count": 4,
   "metadata": {},
   "outputs": [],
   "source": [
    "from utils.data.tsdata import get_timeseries_dataset\n",
    "\n",
    "data_train = get_timeseries_dataset(\"har\")(split=\"train\", is_fill_mean=True, data_perc=1)\n",
    "data_test = get_timeseries_dataset(\"har\")(split=\"test\", is_fill_mean=True, data_perc=1)"
   ]
  },
  {
   "cell_type": "code",
   "execution_count": 5,
   "metadata": {},
   "outputs": [],
   "source": [
    "X_DIM = 1  # 1D spatial input (although actually 2 but the first is for sparse channels)\n",
    "Y_DIM = data_train.data.shape[-1] # multiple channels\n",
    "N_TARGETS = len(np.unique(data_train.targets))\n",
    "\n",
    "sampling_percentages = [0.05, 0.1, 0.3, 0.5, 0.7, 1]\n",
    "label_percentages = [N_TARGETS, N_TARGETS*2, 0.01, 0.05, 0.1, 0.3, 0.5]"
   ]
  },
  {
   "cell_type": "code",
   "execution_count": 10,
   "metadata": {},
   "outputs": [
    {
     "data": {
      "text/plain": [
       "(7352, 128, 9)"
      ]
     },
     "execution_count": 10,
     "metadata": {},
     "output_type": "execute_result"
    }
   ],
   "source": [
    "data_train.data.shape"
   ]
  },
  {
   "cell_type": "code",
   "execution_count": 8,
   "metadata": {},
   "outputs": [
    {
     "data": {
      "text/plain": [
       "({'X': tensor([[-1.0000],\n",
       "          [-0.9843],\n",
       "          [-0.9685],\n",
       "          [-0.9528],\n",
       "          [-0.9370],\n",
       "          [-0.9213],\n",
       "          [-0.9055],\n",
       "          [-0.8898],\n",
       "          [-0.8740],\n",
       "          [-0.8583],\n",
       "          [-0.8425],\n",
       "          [-0.8268],\n",
       "          [-0.8110],\n",
       "          [-0.7953],\n",
       "          [-0.7795],\n",
       "          [-0.7638],\n",
       "          [-0.7480],\n",
       "          [-0.7323],\n",
       "          [-0.7165],\n",
       "          [-0.7008],\n",
       "          [-0.6850],\n",
       "          [-0.6693],\n",
       "          [-0.6535],\n",
       "          [-0.6378],\n",
       "          [-0.6220],\n",
       "          [-0.6063],\n",
       "          [-0.5906],\n",
       "          [-0.5748],\n",
       "          [-0.5591],\n",
       "          [-0.5433],\n",
       "          [-0.5276],\n",
       "          [-0.5118],\n",
       "          [-0.4961],\n",
       "          [-0.4803],\n",
       "          [-0.4646],\n",
       "          [-0.4488],\n",
       "          [-0.4331],\n",
       "          [-0.4173],\n",
       "          [-0.4016],\n",
       "          [-0.3858],\n",
       "          [-0.3701],\n",
       "          [-0.3543],\n",
       "          [-0.3386],\n",
       "          [-0.3228],\n",
       "          [-0.3071],\n",
       "          [-0.2913],\n",
       "          [-0.2756],\n",
       "          [-0.2598],\n",
       "          [-0.2441],\n",
       "          [-0.2283],\n",
       "          [-0.2126],\n",
       "          [-0.1969],\n",
       "          [-0.1811],\n",
       "          [-0.1654],\n",
       "          [-0.1496],\n",
       "          [-0.1339],\n",
       "          [-0.1181],\n",
       "          [-0.1024],\n",
       "          [-0.0866],\n",
       "          [-0.0709],\n",
       "          [-0.0551],\n",
       "          [-0.0394],\n",
       "          [-0.0236],\n",
       "          [-0.0079],\n",
       "          [ 0.0079],\n",
       "          [ 0.0236],\n",
       "          [ 0.0394],\n",
       "          [ 0.0551],\n",
       "          [ 0.0709],\n",
       "          [ 0.0866],\n",
       "          [ 0.1024],\n",
       "          [ 0.1181],\n",
       "          [ 0.1339],\n",
       "          [ 0.1496],\n",
       "          [ 0.1654],\n",
       "          [ 0.1811],\n",
       "          [ 0.1969],\n",
       "          [ 0.2126],\n",
       "          [ 0.2283],\n",
       "          [ 0.2441],\n",
       "          [ 0.2598],\n",
       "          [ 0.2756],\n",
       "          [ 0.2913],\n",
       "          [ 0.3071],\n",
       "          [ 0.3228],\n",
       "          [ 0.3386],\n",
       "          [ 0.3543],\n",
       "          [ 0.3701],\n",
       "          [ 0.3858],\n",
       "          [ 0.4016],\n",
       "          [ 0.4173],\n",
       "          [ 0.4331],\n",
       "          [ 0.4488],\n",
       "          [ 0.4646],\n",
       "          [ 0.4803],\n",
       "          [ 0.4961],\n",
       "          [ 0.5118],\n",
       "          [ 0.5276],\n",
       "          [ 0.5433],\n",
       "          [ 0.5591],\n",
       "          [ 0.5748],\n",
       "          [ 0.5906],\n",
       "          [ 0.6063],\n",
       "          [ 0.6220],\n",
       "          [ 0.6378],\n",
       "          [ 0.6535],\n",
       "          [ 0.6693],\n",
       "          [ 0.6850],\n",
       "          [ 0.7008],\n",
       "          [ 0.7165],\n",
       "          [ 0.7323],\n",
       "          [ 0.7480],\n",
       "          [ 0.7638],\n",
       "          [ 0.7795],\n",
       "          [ 0.7953],\n",
       "          [ 0.8110],\n",
       "          [ 0.8268],\n",
       "          [ 0.8425],\n",
       "          [ 0.8583],\n",
       "          [ 0.8740],\n",
       "          [ 0.8898],\n",
       "          [ 0.9055],\n",
       "          [ 0.9213],\n",
       "          [ 0.9370],\n",
       "          [ 0.9528],\n",
       "          [ 0.9685],\n",
       "          [ 0.9843],\n",
       "          [ 1.0000]]),\n",
       "  'y': tensor([[ 9.2816e-04,  8.7944e-02,  5.1985e-01,  ...,  2.4458e+00,\n",
       "           -3.1514e-01,  2.8771e-01],\n",
       "          [ 5.2034e-02,  5.3742e-02,  5.1577e-01,  ...,  2.4699e+00,\n",
       "           -3.2449e-01,  2.9541e-01],\n",
       "          [ 4.7605e-02,  7.2932e-02,  4.5289e-01,  ...,  2.4680e+00,\n",
       "           -3.1715e-01,  2.8539e-01],\n",
       "          ...,\n",
       "          [-5.8892e-03,  1.4003e-03,  2.4774e-02,  ...,  2.4593e+00,\n",
       "           -3.1732e-01,  2.8059e-01],\n",
       "          [-1.1407e-03,  1.2858e-02,  2.2278e-02,  ...,  2.4616e+00,\n",
       "           -3.1393e-01,  2.7916e-01],\n",
       "          [ 8.0858e-03,  2.5078e-02, -2.1237e-02,  ...,  2.4659e+00,\n",
       "           -3.1030e-01,  2.6550e-01]])},\n",
       " tensor(4))"
      ]
     },
     "execution_count": 8,
     "metadata": {},
     "output_type": "execute_result"
    }
   ],
   "source": [
    "data_train[0]"
   ]
  },
  {
   "cell_type": "code",
   "execution_count": 7,
   "metadata": {},
   "outputs": [
    {
     "data": {
      "text/plain": [
       "2947"
      ]
     },
     "execution_count": 7,
     "metadata": {},
     "output_type": "execute_result"
    }
   ],
   "source": [
    "len(data_test)"
   ]
  },
  {
   "cell_type": "code",
   "execution_count": null,
   "metadata": {},
   "outputs": [],
   "source": []
  },
  {
   "cell_type": "markdown",
   "metadata": {},
   "source": [
    "## Model"
   ]
  },
  {
   "cell_type": "code",
   "execution_count": 12,
   "metadata": {},
   "outputs": [],
   "source": [
    "import torch.nn as nn\n",
    "from skssl.predefined import RNN, MLP\n",
    "from utils.helpers import count_parameters"
   ]
  },
  {
   "cell_type": "code",
   "execution_count": 7,
   "metadata": {},
   "outputs": [],
   "source": [
    "class FeatureMLP(nn.Module):\n",
    "\n",
    "    def __init__(self, input_size, output_size, **kwargs):\n",
    "        super().__init__()\n",
    "        self.out = MLP(input_size*4, output_size, **kwargs)\n",
    "\n",
    "    def forward(self, X, y=None):\n",
    "\n",
    "        if y is not None:\n",
    "            # is there's y then that's the actual input and X is time\n",
    "            X = y\n",
    "\n",
    "        outputs = self.out(torch.cat([X.mean(-2), X.max(-2)[0], X.min(-2)[0], X.var(-2)], dim=-1))\n",
    "        return outputs"
   ]
  },
  {
   "cell_type": "code",
   "execution_count": 13,
   "metadata": {},
   "outputs": [],
   "source": [
    "RNN??"
   ]
  },
  {
   "cell_type": "code",
   "execution_count": 8,
   "metadata": {},
   "outputs": [],
   "source": [
    "models = {}\n",
    "\n",
    "models[\"bi_rnn_delta\"] = partial(RNN, input_size=Y_DIM, hidden_size=64, output_size=N_TARGETS, bidirectional=True, n_layers=1, dropout=0.5, is_add_delta=True)\n",
    "models[\"feature_mlp\"]  = partial(FeatureMLP, input_size=Y_DIM, output_size=N_TARGETS, hidden_size=128, dropout=0.5, n_hidden_layers=3, is_res=True)"
   ]
  },
  {
   "cell_type": "code",
   "execution_count": 9,
   "metadata": {},
   "outputs": [
    {
     "name": "stdout",
     "output_type": "stream",
     "text": [
      "bi_rnn_delta - N Param: 29574\n",
      "feature_mlp - N Param: 38534\n"
     ]
    },
    {
     "name": "stderr",
     "output_type": "stream",
     "text": [
      "/usr/local/lib/python3.6/dist-packages/torch/nn/modules/rnn.py:54: UserWarning: dropout option adds dropout after all but last recurrent layer, so non-zero dropout expects num_layers greater than 1, but got dropout=0.5 and num_layers=1\n",
      "  \"num_layers={}\".format(dropout, num_layers))\n"
     ]
    }
   ],
   "source": [
    "from utils.helpers import count_parameters\n",
    "for k,v in models.items():\n",
    "    print(k, \"- N Param:\", count_parameters(v()))"
   ]
  },
  {
   "cell_type": "markdown",
   "metadata": {},
   "source": [
    "- selected best rnn from [GRU, LSTM], hidden [32,64,128], [bidirect,None], dropout [0,0.5], lr [1e-4,1e-3], layer [1,2]\n",
    "- selected best feature MLP from hidden [32,64,128], n_hidden_layers [1,3], dropout [0,0.5], [is_res, None], lr [1e-4,1e-3]\n",
    "\n",
    "all with early stoping patience 10, cross entropy, standardized data, 100 epochs, batch size 64"
   ]
  },
  {
   "cell_type": "markdown",
   "metadata": {},
   "source": [
    "# Supervised Training with Missing Features"
   ]
  },
  {
   "cell_type": "code",
   "execution_count": 10,
   "metadata": {},
   "outputs": [],
   "source": [
    "from ntbks_helpers import train_models_"
   ]
  },
  {
   "cell_type": "code",
   "execution_count": 11,
   "metadata": {},
   "outputs": [],
   "source": [
    "N_EPOCHS = 100 \n",
    "BATCH_SIZE = 64\n",
    "IS_RETRAIN = False # if false load precomputed\n",
    "chckpnt_dirname=\"results/challenge/har/\""
   ]
  },
  {
   "cell_type": "code",
   "execution_count": 16,
   "metadata": {
    "scrolled": true
   },
   "outputs": [
    {
     "name": "stdout",
     "output_type": "stream",
     "text": [
      "\n",
      "--- Loading 5%har/bi_rnn_delta ---\n",
      "\n",
      "5%har/bi_rnn_delta best epoch: 9 val_loss: 0.5359820848704395\n",
      "\n",
      "--- Loading 5%har/feature_mlp ---\n",
      "\n",
      "5%har/feature_mlp best epoch: 18 val_loss: 0.5488887399708088\n",
      "\n",
      "--- Loading 10%har/bi_rnn_delta ---\n",
      "\n",
      "10%har/bi_rnn_delta best epoch: 9 val_loss: 0.3888445916646617\n",
      "\n",
      "--- Loading 10%har/feature_mlp ---\n",
      "\n",
      "10%har/feature_mlp best epoch: 16 val_loss: 0.4893241169030358\n",
      "\n",
      "--- Loading 30%har/bi_rnn_delta ---\n",
      "\n",
      "30%har/bi_rnn_delta best epoch: 18 val_loss: 0.25232738165437596\n",
      "\n",
      "--- Loading 30%har/feature_mlp ---\n",
      "\n",
      "30%har/feature_mlp best epoch: 15 val_loss: 0.41251740123524194\n",
      "\n",
      "--- Loading 50%har/bi_rnn_delta ---\n",
      "\n",
      "50%har/bi_rnn_delta best epoch: 19 val_loss: 0.21550011958437157\n",
      "\n",
      "--- Loading 50%har/feature_mlp ---\n",
      "\n",
      "50%har/feature_mlp best epoch: 15 val_loss: 0.38914211493328055\n",
      "\n",
      "--- Loading 70%har/bi_rnn_delta ---\n",
      "\n",
      "70%har/bi_rnn_delta best epoch: 9 val_loss: 0.23589642063253485\n",
      "\n",
      "--- Loading 70%har/feature_mlp ---\n",
      "\n",
      "70%har/feature_mlp best epoch: 16 val_loss: 0.38419257051304795\n",
      "\n",
      "--- Loading 100%har/bi_rnn_delta ---\n",
      "\n",
      "100%har/bi_rnn_delta best epoch: 16 val_loss: 0.204064313460102\n",
      "\n",
      "--- Loading 100%har/feature_mlp ---\n",
      "\n",
      "100%har/feature_mlp best epoch: 24 val_loss: 0.37777000550379136\n"
     ]
    }
   ],
   "source": [
    "data_trainers = {}\n",
    "\n",
    "for perc in sampling_percentages:\n",
    "    data_train = get_timeseries_dataset(\"har\")(split=\"train\", data_perc=perc, is_fill_mean=False)\n",
    "    data_test = get_timeseries_dataset(\"har\")(split=\"test\", data_perc=perc, is_fill_mean=False)\n",
    "    \n",
    "    data_trainers.update(train_models_({\"{}%har\".format(int(perc*100)): (data_train, data_test)}, \n",
    "                             models, \n",
    "                             chckpnt_dirname=chckpnt_dirname,\n",
    "                              max_epochs=N_EPOCHS,\n",
    "                              batch_size=BATCH_SIZE,\n",
    "                             is_retrain=IS_RETRAIN))"
   ]
  },
  {
   "cell_type": "code",
   "execution_count": 17,
   "metadata": {},
   "outputs": [],
   "source": [
    "models2 = {}\n",
    "\n",
    "models2[\"bi_rnn_meanfill\"] = RNN(Y_DIM, 64, N_TARGETS, bidirectional=True, n_layers=1, is_add_delta=False)"
   ]
  },
  {
   "cell_type": "code",
   "execution_count": 19,
   "metadata": {},
   "outputs": [
    {
     "name": "stdout",
     "output_type": "stream",
     "text": [
      "bi_rnn_delta - N Param: 29574\n",
      "feature_mlp - N Param: 38534\n"
     ]
    }
   ],
   "source": [
    "from utils.helpers import count_parameters\n",
    "for k,v in models.items():\n",
    "    print(k, \"- N Param:\", count_parameters(v()))"
   ]
  },
  {
   "cell_type": "code",
   "execution_count": 20,
   "metadata": {},
   "outputs": [
    {
     "name": "stdout",
     "output_type": "stream",
     "text": [
      "\n",
      "--- Loading 5%har/bi_rnn_meanfill ---\n",
      "\n",
      "5%har/bi_rnn_meanfill best epoch: 12 val_loss: 0.56304434497032\n",
      "\n",
      "--- Loading 10%har/bi_rnn_meanfill ---\n",
      "\n",
      "10%har/bi_rnn_meanfill best epoch: 1 val_loss: 0.46905726127890274\n",
      "\n",
      "--- Loading 30%har/bi_rnn_meanfill ---\n",
      "\n",
      "30%har/bi_rnn_meanfill best epoch: 10 val_loss: 0.3455855598035093\n",
      "\n",
      "--- Loading 50%har/bi_rnn_meanfill ---\n",
      "\n",
      "50%har/bi_rnn_meanfill best epoch: 1 val_loss: 0.323673616881123\n",
      "\n",
      "--- Loading 70%har/bi_rnn_meanfill ---\n",
      "\n",
      "70%har/bi_rnn_meanfill best epoch: 8 val_loss: 0.3046555771518627\n",
      "\n",
      "--- Loading 100%har/bi_rnn_meanfill ---\n",
      "\n",
      "100%har/bi_rnn_meanfill best epoch: 6 val_loss: 0.29275460707603823\n"
     ]
    }
   ],
   "source": [
    "for perc in sampling_percentages:\n",
    "    data_train = get_timeseries_dataset(\"har\")(split=\"train\", data_perc=perc, is_fill_mean=True)\n",
    "    data_test = get_timeseries_dataset(\"har\")(split=\"test\", data_perc=perc, is_fill_mean=True)\n",
    "    \n",
    "    data_trainers.update(train_models_({\"{}%har\".format(int(perc*100)): (data_train, data_test)}, \n",
    "                             models2, \n",
    "                             chckpnt_dirname=chckpnt_dirname,\n",
    "                              max_epochs=N_EPOCHS,\n",
    "                              batch_size=BATCH_SIZE,\n",
    "                             is_retrain=IS_RETRAIN))"
   ]
  },
  {
   "cell_type": "code",
   "execution_count": 21,
   "metadata": {},
   "outputs": [
    {
     "name": "stdout",
     "output_type": "stream",
     "text": [
      "5%har/bi_rnn_delta epoch: 9 val_loss: 0.5359820848704395 val_acc: 0.8082796063793688\n",
      "5%har/feature_mlp epoch: 18 val_loss: 0.5488887399708088 val_acc: 0.7712928401764506\n",
      "10%har/bi_rnn_delta epoch: 9 val_loss: 0.3888445916646617 val_acc: 0.8625721072276892\n",
      "10%har/feature_mlp epoch: 16 val_loss: 0.4893241169030358 val_acc: 0.8004750593824228\n",
      "30%har/bi_rnn_delta epoch: 18 val_loss: 0.25232738165437596 val_acc: 0.9049881235154394\n",
      "30%har/feature_mlp epoch: 15 val_loss: 0.41251740123524194 val_acc: 0.8391584662368511\n",
      "50%har/bi_rnn_delta epoch: 19 val_loss: 0.21550011958437157 val_acc: 0.9229725144214456\n",
      "50%har/feature_mlp epoch: 15 val_loss: 0.38914211493328055 val_acc: 0.8568035290125552\n",
      "70%har/bi_rnn_delta epoch: 9 val_loss: 0.23589642063253485 val_acc: 0.9131319986426875\n",
      "70%har/feature_mlp epoch: 16 val_loss: 0.38419257051304795 val_acc: 0.8574821852731591\n",
      "100%har/bi_rnn_delta epoch: 16 val_loss: 0.204064313460102 val_acc: 0.9229725144214456\n",
      "100%har/feature_mlp epoch: 24 val_loss: 0.37777000550379136 val_acc: 0.8595181540549711\n",
      "5%har/bi_rnn_meanfill epoch: 12 val_loss: 0.56304434497032 val_acc: 0.7879199185612488\n",
      "10%har/bi_rnn_meanfill epoch: 1 val_loss: 0.46905726127890274 val_acc: 0.827960637936885\n",
      "30%har/bi_rnn_meanfill epoch: 10 val_loss: 0.3455855598035093 val_acc: 0.8944689514760774\n",
      "50%har/bi_rnn_meanfill epoch: 1 val_loss: 0.323673616881123 val_acc: 0.9046487953851374\n",
      "70%har/bi_rnn_meanfill epoch: 8 val_loss: 0.3046555771518627 val_acc: 0.9070240922972514\n",
      "100%har/bi_rnn_meanfill epoch: 6 val_loss: 0.29275460707603823 val_acc: 0.9165252799457075\n"
     ]
    }
   ],
   "source": [
    "for k,t in data_trainers.items():\n",
    "    for e, h in enumerate(t.history[::-1]):\n",
    "        if h[\"valid_loss_best\"]:\n",
    "            print(k, \"epoch:\", len(t.history)-e, \n",
    "                  \"val_loss:\", h[\"valid_loss\"], \n",
    "                  \"val_acc:\", h[\"valid_acc\"])\n",
    "            break"
   ]
  },
  {
   "cell_type": "markdown",
   "metadata": {},
   "source": [
    "# Sub Labels Training"
   ]
  },
  {
   "cell_type": "code",
   "execution_count": 22,
   "metadata": {},
   "outputs": [],
   "source": [
    "from utils.data.ssldata import get_train_dev_test_ssl\n",
    "from skssl.training.loaders import get_supervised_iterator"
   ]
  },
  {
   "cell_type": "code",
   "execution_count": 23,
   "metadata": {},
   "outputs": [
    {
     "name": "stdout",
     "output_type": "stream",
     "text": [
      "\n",
      "--- Loading 50%har_600%lab/bi_rnn_delta ---\n",
      "\n",
      "50%har_600%lab/bi_rnn_delta best epoch: 25 val_loss: 1.7031053005738868\n",
      "\n",
      "--- Loading 50%har_600%lab/feature_mlp ---\n",
      "\n",
      "50%har_600%lab/feature_mlp best epoch: 100 val_loss: 1.2070192208644452\n"
     ]
    },
    {
     "name": "stderr",
     "output_type": "stream",
     "text": [
      "/usr/local/lib/python3.6/dist-packages/torch/nn/modules/rnn.py:54: UserWarning: dropout option adds dropout after all but last recurrent layer, so non-zero dropout expects num_layers greater than 1, but got dropout=0.5 and num_layers=1\n",
      "  \"num_layers={}\".format(dropout, num_layers))\n"
     ]
    },
    {
     "name": "stdout",
     "output_type": "stream",
     "text": [
      "\n",
      "--- Loading 50%har_1200%lab/bi_rnn_delta ---\n",
      "\n",
      "50%har_1200%lab/bi_rnn_delta best epoch: 34 val_loss: 1.468012556610651\n",
      "\n",
      "--- Loading 50%har_1200%lab/feature_mlp ---\n",
      "\n",
      "50%har_1200%lab/feature_mlp best epoch: 100 val_loss: 0.9724344174094147\n"
     ]
    },
    {
     "name": "stderr",
     "output_type": "stream",
     "text": [
      "/usr/local/lib/python3.6/dist-packages/torch/nn/modules/rnn.py:54: UserWarning: dropout option adds dropout after all but last recurrent layer, so non-zero dropout expects num_layers greater than 1, but got dropout=0.5 and num_layers=1\n",
      "  \"num_layers={}\".format(dropout, num_layers))\n"
     ]
    },
    {
     "name": "stdout",
     "output_type": "stream",
     "text": [
      "\n",
      "--- Loading 50%har_1%lab/bi_rnn_delta ---\n",
      "\n",
      "50%har_1%lab/bi_rnn_delta best epoch: 68 val_loss: 1.1848216887688612\n",
      "\n",
      "--- Loading 50%har_1%lab/feature_mlp ---\n",
      "\n",
      "50%har_1%lab/feature_mlp best epoch: 90 val_loss: 0.6480910628376713\n"
     ]
    },
    {
     "name": "stderr",
     "output_type": "stream",
     "text": [
      "/usr/local/lib/python3.6/dist-packages/torch/nn/modules/rnn.py:54: UserWarning: dropout option adds dropout after all but last recurrent layer, so non-zero dropout expects num_layers greater than 1, but got dropout=0.5 and num_layers=1\n",
      "  \"num_layers={}\".format(dropout, num_layers))\n"
     ]
    },
    {
     "name": "stdout",
     "output_type": "stream",
     "text": [
      "\n",
      "--- Loading 50%har_5%lab/bi_rnn_delta ---\n",
      "\n",
      "50%har_5%lab/bi_rnn_delta best epoch: 37 val_loss: 0.5261391364480424\n",
      "\n",
      "--- Loading 50%har_5%lab/feature_mlp ---\n",
      "\n",
      "50%har_5%lab/feature_mlp best epoch: 34 val_loss: 0.6083724190511661\n"
     ]
    },
    {
     "name": "stderr",
     "output_type": "stream",
     "text": [
      "/usr/local/lib/python3.6/dist-packages/torch/nn/modules/rnn.py:54: UserWarning: dropout option adds dropout after all but last recurrent layer, so non-zero dropout expects num_layers greater than 1, but got dropout=0.5 and num_layers=1\n",
      "  \"num_layers={}\".format(dropout, num_layers))\n"
     ]
    },
    {
     "name": "stdout",
     "output_type": "stream",
     "text": [
      "\n",
      "--- Loading 50%har_10%lab/bi_rnn_delta ---\n",
      "\n",
      "50%har_10%lab/bi_rnn_delta best epoch: 52 val_loss: 0.29275474525687245\n",
      "\n",
      "--- Loading 50%har_10%lab/feature_mlp ---\n",
      "\n",
      "50%har_10%lab/feature_mlp best epoch: 43 val_loss: 0.4748540673775312\n"
     ]
    },
    {
     "name": "stderr",
     "output_type": "stream",
     "text": [
      "/usr/local/lib/python3.6/dist-packages/torch/nn/modules/rnn.py:54: UserWarning: dropout option adds dropout after all but last recurrent layer, so non-zero dropout expects num_layers greater than 1, but got dropout=0.5 and num_layers=1\n",
      "  \"num_layers={}\".format(dropout, num_layers))\n"
     ]
    },
    {
     "name": "stdout",
     "output_type": "stream",
     "text": [
      "\n",
      "--- Loading 50%har_30%lab/bi_rnn_delta ---\n",
      "\n",
      "50%har_30%lab/bi_rnn_delta best epoch: 16 val_loss: 0.242327061919467\n",
      "\n",
      "--- Loading 50%har_30%lab/feature_mlp ---\n",
      "\n",
      "50%har_30%lab/feature_mlp best epoch: 43 val_loss: 0.38917470055189546\n"
     ]
    },
    {
     "name": "stderr",
     "output_type": "stream",
     "text": [
      "/usr/local/lib/python3.6/dist-packages/torch/nn/modules/rnn.py:54: UserWarning: dropout option adds dropout after all but last recurrent layer, so non-zero dropout expects num_layers greater than 1, but got dropout=0.5 and num_layers=1\n",
      "  \"num_layers={}\".format(dropout, num_layers))\n"
     ]
    },
    {
     "name": "stdout",
     "output_type": "stream",
     "text": [
      "\n",
      "--- Loading 50%har_50%lab/bi_rnn_delta ---\n",
      "\n",
      "50%har_50%lab/bi_rnn_delta best epoch: 30 val_loss: 0.22852476952963455\n",
      "\n",
      "--- Loading 50%har_50%lab/feature_mlp ---\n",
      "\n",
      "50%har_50%lab/feature_mlp best epoch: 39 val_loss: 0.3619322175691603\n"
     ]
    },
    {
     "name": "stderr",
     "output_type": "stream",
     "text": [
      "/usr/local/lib/python3.6/dist-packages/torch/nn/modules/rnn.py:54: UserWarning: dropout option adds dropout after all but last recurrent layer, so non-zero dropout expects num_layers greater than 1, but got dropout=0.5 and num_layers=1\n",
      "  \"num_layers={}\".format(dropout, num_layers))\n"
     ]
    }
   ],
   "source": [
    "data_trainers = {}\n",
    "samplig_perc = 0.5\n",
    "\n",
    "for label_perc in label_percentages:\n",
    "    data_train, _, data_test = get_train_dev_test_ssl(\"har\", n_labels=label_perc, data_perc=samplig_perc, dev_size=0)\n",
    "    \n",
    "    data_trainers.update(train_models_({\"{}%har_{}%lab\".format(int(samplig_perc*100), int(label_perc*100)): (data_train, data_test)}, \n",
    "                         models, \n",
    "                         chckpnt_dirname=chckpnt_dirname,\n",
    "                          max_epochs=N_EPOCHS,\n",
    "                          batch_size=64,\n",
    "                         is_retrain=IS_RETRAIN, \n",
    "                         iterator_train=get_supervised_iterator))"
   ]
  },
  {
   "cell_type": "code",
   "execution_count": 24,
   "metadata": {},
   "outputs": [
    {
     "name": "stdout",
     "output_type": "stream",
     "text": [
      "\n",
      "50%har_600%lab/bi_rnn_delta epoch: 25 val_loss: 1.7031053005738868 val_acc: 0.28944689514760774\n",
      "\n",
      "50%har_1200%lab/bi_rnn_delta epoch: 34 val_loss: 1.468012556610651 val_acc: 0.4896504920257889\n",
      "\n",
      "50%har_1%lab/bi_rnn_delta epoch: 68 val_loss: 1.1848216887688612 val_acc: 0.6335256192738378\n",
      "\n",
      "50%har_5%lab/bi_rnn_delta epoch: 37 val_loss: 0.5261391364480424 val_acc: 0.839837122497455\n",
      "\n",
      "50%har_10%lab/bi_rnn_delta epoch: 52 val_loss: 0.29275474525687245 val_acc: 0.8985408890397014\n",
      "\n",
      "50%har_30%lab/bi_rnn_delta epoch: 16 val_loss: 0.242327061919467 val_acc: 0.9070240922972514\n",
      "\n",
      "50%har_50%lab/bi_rnn_delta epoch: 30 val_loss: 0.22852476952963455 val_acc: 0.9124533423820834\n"
     ]
    }
   ],
   "source": [
    "for k,t in data_trainers.items():\n",
    "    if \"bi_rnn_delta\"not in k:\n",
    "        continue\n",
    "    print()\n",
    "        \n",
    "    for e, h in enumerate(t.history[::-1]):\n",
    "        if h[\"valid_loss_best\"]:\n",
    "            print(k, \"epoch:\", len(t.history)-e, \n",
    "                  \"val_loss:\", h[\"valid_loss\"], \n",
    "                  \"val_acc:\", h[\"valid_acc\"])\n",
    "            break"
   ]
  },
  {
   "cell_type": "markdown",
   "metadata": {},
   "source": [
    "# SSL Evaluation"
   ]
  },
  {
   "cell_type": "code",
   "execution_count": 25,
   "metadata": {},
   "outputs": [
    {
     "name": "stderr",
     "output_type": "stream",
     "text": [
      "/usr/local/lib/python3.6/dist-packages/sklearn/externals/joblib/__init__.py:15: DeprecationWarning: sklearn.externals.joblib is deprecated in 0.21 and will be removed in 0.23. Please import this functionality directly from joblib, which can be installed with: pip install joblib. If this warning is raised when loading pickled models, you may need to re-serialize those models with scikit-learn 0.21+.\n",
      "  warnings.warn(msg, category=DeprecationWarning)\n"
     ]
    }
   ],
   "source": [
    "from skssl.classifiers import LabelSpreading\n",
    "from joblib import dump, load"
   ]
  },
  {
   "cell_type": "code",
   "execution_count": 65,
   "metadata": {},
   "outputs": [
    {
     "name": "stdout",
     "output_type": "stream",
     "text": [
      "Label Spreading on 600% of data 0.6104513064133017\n",
      "Label Spreading on 1200% of data 0.5778758059043094\n",
      "Label Spreading on 1.0% of data 0.7020699015948422\n",
      "Label Spreading on 5.0% of data 0.7387173396674585\n",
      "Label Spreading on 10.0% of data 0.7645062775704106\n",
      "Label Spreading on 30.0% of data 0.7852052935188327\n",
      "Label Spreading on 50.0% of data 0.7882592466915507\n"
     ]
    }
   ],
   "source": [
    "data_trainers = {}\n",
    "samplig_perc = 0.5\n",
    "\n",
    "for label_perc in label_percentages:\n",
    "    data_train, _, data_test = get_train_dev_test_ssl(\"har\", n_labels=label_perc, data_perc=samplig_perc, dev_size=0)\n",
    "    file = chckpnt_dirname+\"{}%har_{}%lab/feature_labelspread.joblib\".format(int(samplig_perc*100), int(label_perc*100))\n",
    "    \n",
    "    X_test = np.concatenate([data_test.data.mean(1), data_test.data.min(1), data_test.data.max(1), \n",
    "                                  data_test.data.std(1)], axis=-1)\n",
    "    \n",
    "    if True:\n",
    "        X_train = np.concatenate([data_train.data.mean(1), data_train.data.min(1), data_train.data.max(1), \n",
    "                                  data_train.data.std(1)], axis=-1)\n",
    "        Y_train = data_train.targets.flatten()\n",
    "        Y_test_unsup = -1*np.ones_like(data_test.targets.flatten())\n",
    "        \n",
    "        \n",
    "        clf = LabelSpreading(kernel=\"rbf\", gamma=0.7139, n_jobs=-1, max_iter=50, alpha=0.35)\n",
    "        clf.fit(np.concatenate([X_train, X_test], axis=0),  \n",
    "                np.concatenate([Y_train, Y_test_unsup], axis=0))\n",
    "        #clf.fit(X_train,  Y_train)\n",
    "        dump(clf, file) \n",
    "        \n",
    "    else:\n",
    "        \n",
    "        clf = load(file)\n",
    "        \n",
    "    \n",
    "    \n",
    "    print(\"Label Spreading on {}% of data\".format(label_perc*100), \n",
    "          clf.score(X_test, data_test.targets.flatten()))"
   ]
  },
  {
   "cell_type": "code",
   "execution_count": 45,
   "metadata": {},
   "outputs": [],
   "source": []
  },
  {
   "cell_type": "code",
   "execution_count": 61,
   "metadata": {},
   "outputs": [
    {
     "name": "stderr",
     "output_type": "stream",
     "text": [
      "/usr/local/lib/python3.6/dist-packages/sklearn/model_selection/_split.py:1978: FutureWarning: The default value of cv will change from 3 to 5 in version 0.22. Specify it explicitly to silence this warning.\n",
      "  warnings.warn(CV_WARNING, FutureWarning)\n",
      "/usr/local/lib/python3.6/dist-packages/sklearn/model_selection/_split.py:1978: FutureWarning: The default value of cv will change from 3 to 5 in version 0.22. Specify it explicitly to silence this warning.\n",
      "  warnings.warn(CV_WARNING, FutureWarning)\n",
      "/usr/local/lib/python3.6/dist-packages/sklearn/model_selection/_split.py:1978: FutureWarning: The default value of cv will change from 3 to 5 in version 0.22. Specify it explicitly to silence this warning.\n",
      "  warnings.warn(CV_WARNING, FutureWarning)\n",
      "/usr/local/lib/python3.6/dist-packages/sklearn/model_selection/_split.py:1978: FutureWarning: The default value of cv will change from 3 to 5 in version 0.22. Specify it explicitly to silence this warning.\n",
      "  warnings.warn(CV_WARNING, FutureWarning)\n",
      "/usr/local/lib/python3.6/dist-packages/sklearn/model_selection/_split.py:1978: FutureWarning: The default value of cv will change from 3 to 5 in version 0.22. Specify it explicitly to silence this warning.\n",
      "  warnings.warn(CV_WARNING, FutureWarning)\n",
      "/usr/local/lib/python3.6/dist-packages/sklearn/model_selection/_split.py:1978: FutureWarning: The default value of cv will change from 3 to 5 in version 0.22. Specify it explicitly to silence this warning.\n",
      "  warnings.warn(CV_WARNING, FutureWarning)\n",
      "/usr/local/lib/python3.6/dist-packages/sklearn/model_selection/_split.py:1978: FutureWarning: The default value of cv will change from 3 to 5 in version 0.22. Specify it explicitly to silence this warning.\n",
      "  warnings.warn(CV_WARNING, FutureWarning)\n",
      "/usr/local/lib/python3.6/dist-packages/sklearn/model_selection/_split.py:1978: FutureWarning: The default value of cv will change from 3 to 5 in version 0.22. Specify it explicitly to silence this warning.\n",
      "  warnings.warn(CV_WARNING, FutureWarning)\n",
      "/usr/local/lib/python3.6/dist-packages/sklearn/model_selection/_split.py:1978: FutureWarning: The default value of cv will change from 3 to 5 in version 0.22. Specify it explicitly to silence this warning.\n",
      "  warnings.warn(CV_WARNING, FutureWarning)\n",
      "/usr/local/lib/python3.6/dist-packages/sklearn/model_selection/_split.py:1978: FutureWarning: The default value of cv will change from 3 to 5 in version 0.22. Specify it explicitly to silence this warning.\n",
      "  warnings.warn(CV_WARNING, FutureWarning)\n",
      "/usr/local/lib/python3.6/dist-packages/sklearn/model_selection/_split.py:1978: FutureWarning: The default value of cv will change from 3 to 5 in version 0.22. Specify it explicitly to silence this warning.\n",
      "  warnings.warn(CV_WARNING, FutureWarning)\n",
      "/usr/local/lib/python3.6/dist-packages/sklearn/model_selection/_split.py:1978: FutureWarning: The default value of cv will change from 3 to 5 in version 0.22. Specify it explicitly to silence this warning.\n",
      "  warnings.warn(CV_WARNING, FutureWarning)\n",
      "/usr/local/lib/python3.6/dist-packages/sklearn/semi_supervised/label_propagation.py:288: ConvergenceWarning: max_iter=50 was reached without convergence.\n",
      "  category=ConvergenceWarning\n",
      "/usr/local/lib/python3.6/dist-packages/sklearn/semi_supervised/label_propagation.py:288: ConvergenceWarning: max_iter=50 was reached without convergence.\n",
      "  category=ConvergenceWarning\n",
      "/usr/local/lib/python3.6/dist-packages/sklearn/semi_supervised/label_propagation.py:288: ConvergenceWarning: max_iter=50 was reached without convergence.\n",
      "  category=ConvergenceWarning\n",
      "/master/src/scikit-optimize/skopt/optimizer/optimizer.py:399: UserWarning: The objective has been evaluated at this point before.\n",
      "  warnings.warn(\"The objective has been evaluated \"\n",
      "/usr/local/lib/python3.6/dist-packages/sklearn/model_selection/_split.py:1978: FutureWarning: The default value of cv will change from 3 to 5 in version 0.22. Specify it explicitly to silence this warning.\n",
      "  warnings.warn(CV_WARNING, FutureWarning)\n",
      "/usr/local/lib/python3.6/dist-packages/sklearn/model_selection/_split.py:1978: FutureWarning: The default value of cv will change from 3 to 5 in version 0.22. Specify it explicitly to silence this warning.\n",
      "  warnings.warn(CV_WARNING, FutureWarning)\n",
      "/usr/local/lib/python3.6/dist-packages/sklearn/model_selection/_split.py:1978: FutureWarning: The default value of cv will change from 3 to 5 in version 0.22. Specify it explicitly to silence this warning.\n",
      "  warnings.warn(CV_WARNING, FutureWarning)\n",
      "/usr/local/lib/python3.6/dist-packages/sklearn/model_selection/_split.py:1978: FutureWarning: The default value of cv will change from 3 to 5 in version 0.22. Specify it explicitly to silence this warning.\n",
      "  warnings.warn(CV_WARNING, FutureWarning)\n",
      "/master/src/scikit-optimize/skopt/optimizer/optimizer.py:399: UserWarning: The objective has been evaluated at this point before.\n",
      "  warnings.warn(\"The objective has been evaluated \"\n",
      "/usr/local/lib/python3.6/dist-packages/sklearn/model_selection/_split.py:1978: FutureWarning: The default value of cv will change from 3 to 5 in version 0.22. Specify it explicitly to silence this warning.\n",
      "  warnings.warn(CV_WARNING, FutureWarning)\n",
      "/usr/local/lib/python3.6/dist-packages/sklearn/model_selection/_split.py:1978: FutureWarning: The default value of cv will change from 3 to 5 in version 0.22. Specify it explicitly to silence this warning.\n",
      "  warnings.warn(CV_WARNING, FutureWarning)\n",
      "/usr/local/lib/python3.6/dist-packages/sklearn/model_selection/_split.py:1978: FutureWarning: The default value of cv will change from 3 to 5 in version 0.22. Specify it explicitly to silence this warning.\n",
      "  warnings.warn(CV_WARNING, FutureWarning)\n",
      "/usr/local/lib/python3.6/dist-packages/sklearn/model_selection/_split.py:1978: FutureWarning: The default value of cv will change from 3 to 5 in version 0.22. Specify it explicitly to silence this warning.\n",
      "  warnings.warn(CV_WARNING, FutureWarning)\n",
      "/master/src/scikit-optimize/skopt/optimizer/optimizer.py:399: UserWarning: The objective has been evaluated at this point before.\n",
      "  warnings.warn(\"The objective has been evaluated \"\n",
      "/usr/local/lib/python3.6/dist-packages/sklearn/model_selection/_split.py:1978: FutureWarning: The default value of cv will change from 3 to 5 in version 0.22. Specify it explicitly to silence this warning.\n",
      "  warnings.warn(CV_WARNING, FutureWarning)\n",
      "/master/src/scikit-optimize/skopt/optimizer/optimizer.py:399: UserWarning: The objective has been evaluated at this point before.\n",
      "  warnings.warn(\"The objective has been evaluated \"\n",
      "/usr/local/lib/python3.6/dist-packages/sklearn/model_selection/_split.py:1978: FutureWarning: The default value of cv will change from 3 to 5 in version 0.22. Specify it explicitly to silence this warning.\n",
      "  warnings.warn(CV_WARNING, FutureWarning)\n",
      "/master/src/scikit-optimize/skopt/optimizer/optimizer.py:399: UserWarning: The objective has been evaluated at this point before.\n",
      "  warnings.warn(\"The objective has been evaluated \"\n",
      "/usr/local/lib/python3.6/dist-packages/sklearn/model_selection/_split.py:1978: FutureWarning: The default value of cv will change from 3 to 5 in version 0.22. Specify it explicitly to silence this warning.\n",
      "  warnings.warn(CV_WARNING, FutureWarning)\n",
      "/master/src/scikit-optimize/skopt/optimizer/optimizer.py:399: UserWarning: The objective has been evaluated at this point before.\n",
      "  warnings.warn(\"The objective has been evaluated \"\n",
      "/usr/local/lib/python3.6/dist-packages/sklearn/model_selection/_split.py:1978: FutureWarning: The default value of cv will change from 3 to 5 in version 0.22. Specify it explicitly to silence this warning.\n",
      "  warnings.warn(CV_WARNING, FutureWarning)\n",
      "/master/src/scikit-optimize/skopt/optimizer/optimizer.py:399: UserWarning: The objective has been evaluated at this point before.\n",
      "  warnings.warn(\"The objective has been evaluated \"\n",
      "/usr/local/lib/python3.6/dist-packages/sklearn/model_selection/_split.py:1978: FutureWarning: The default value of cv will change from 3 to 5 in version 0.22. Specify it explicitly to silence this warning.\n",
      "  warnings.warn(CV_WARNING, FutureWarning)\n",
      "/usr/local/lib/python3.6/dist-packages/sklearn/model_selection/_split.py:1978: FutureWarning: The default value of cv will change from 3 to 5 in version 0.22. Specify it explicitly to silence this warning.\n",
      "  warnings.warn(CV_WARNING, FutureWarning)\n"
     ]
    },
    {
     "name": "stderr",
     "output_type": "stream",
     "text": [
      "/usr/local/lib/python3.6/dist-packages/sklearn/semi_supervised/label_propagation.py:288: ConvergenceWarning: max_iter=50 was reached without convergence.\n",
      "  category=ConvergenceWarning\n",
      "/usr/local/lib/python3.6/dist-packages/sklearn/semi_supervised/label_propagation.py:288: ConvergenceWarning: max_iter=50 was reached without convergence.\n",
      "  category=ConvergenceWarning\n",
      "/usr/local/lib/python3.6/dist-packages/sklearn/semi_supervised/label_propagation.py:288: ConvergenceWarning: max_iter=50 was reached without convergence.\n",
      "  category=ConvergenceWarning\n",
      "/master/src/scikit-optimize/skopt/optimizer/optimizer.py:399: UserWarning: The objective has been evaluated at this point before.\n",
      "  warnings.warn(\"The objective has been evaluated \"\n",
      "/usr/local/lib/python3.6/dist-packages/sklearn/model_selection/_split.py:1978: FutureWarning: The default value of cv will change from 3 to 5 in version 0.22. Specify it explicitly to silence this warning.\n",
      "  warnings.warn(CV_WARNING, FutureWarning)\n",
      "/master/src/scikit-optimize/skopt/optimizer/optimizer.py:399: UserWarning: The objective has been evaluated at this point before.\n",
      "  warnings.warn(\"The objective has been evaluated \"\n",
      "/usr/local/lib/python3.6/dist-packages/sklearn/model_selection/_split.py:1978: FutureWarning: The default value of cv will change from 3 to 5 in version 0.22. Specify it explicitly to silence this warning.\n",
      "  warnings.warn(CV_WARNING, FutureWarning)\n",
      "/master/src/scikit-optimize/skopt/optimizer/optimizer.py:399: UserWarning: The objective has been evaluated at this point before.\n",
      "  warnings.warn(\"The objective has been evaluated \"\n",
      "/usr/local/lib/python3.6/dist-packages/sklearn/model_selection/_split.py:1978: FutureWarning: The default value of cv will change from 3 to 5 in version 0.22. Specify it explicitly to silence this warning.\n",
      "  warnings.warn(CV_WARNING, FutureWarning)\n",
      "/master/src/scikit-optimize/skopt/optimizer/optimizer.py:399: UserWarning: The objective has been evaluated at this point before.\n",
      "  warnings.warn(\"The objective has been evaluated \"\n",
      "/usr/local/lib/python3.6/dist-packages/sklearn/model_selection/_split.py:1978: FutureWarning: The default value of cv will change from 3 to 5 in version 0.22. Specify it explicitly to silence this warning.\n",
      "  warnings.warn(CV_WARNING, FutureWarning)\n",
      "/master/src/scikit-optimize/skopt/optimizer/optimizer.py:399: UserWarning: The objective has been evaluated at this point before.\n",
      "  warnings.warn(\"The objective has been evaluated \"\n",
      "/usr/local/lib/python3.6/dist-packages/sklearn/model_selection/_split.py:1978: FutureWarning: The default value of cv will change from 3 to 5 in version 0.22. Specify it explicitly to silence this warning.\n",
      "  warnings.warn(CV_WARNING, FutureWarning)\n",
      "/usr/local/lib/python3.6/dist-packages/sklearn/model_selection/_split.py:1978: FutureWarning: The default value of cv will change from 3 to 5 in version 0.22. Specify it explicitly to silence this warning.\n",
      "  warnings.warn(CV_WARNING, FutureWarning)\n",
      "/master/src/scikit-optimize/skopt/optimizer/optimizer.py:399: UserWarning: The objective has been evaluated at this point before.\n",
      "  warnings.warn(\"The objective has been evaluated \"\n",
      "/usr/local/lib/python3.6/dist-packages/sklearn/model_selection/_split.py:1978: FutureWarning: The default value of cv will change from 3 to 5 in version 0.22. Specify it explicitly to silence this warning.\n",
      "  warnings.warn(CV_WARNING, FutureWarning)\n",
      "/master/src/scikit-optimize/skopt/optimizer/optimizer.py:399: UserWarning: The objective has been evaluated at this point before.\n",
      "  warnings.warn(\"The objective has been evaluated \"\n",
      "/usr/local/lib/python3.6/dist-packages/sklearn/model_selection/_split.py:1978: FutureWarning: The default value of cv will change from 3 to 5 in version 0.22. Specify it explicitly to silence this warning.\n",
      "  warnings.warn(CV_WARNING, FutureWarning)\n",
      "/master/src/scikit-optimize/skopt/optimizer/optimizer.py:399: UserWarning: The objective has been evaluated at this point before.\n",
      "  warnings.warn(\"The objective has been evaluated \"\n",
      "/usr/local/lib/python3.6/dist-packages/sklearn/model_selection/_split.py:1978: FutureWarning: The default value of cv will change from 3 to 5 in version 0.22. Specify it explicitly to silence this warning.\n",
      "  warnings.warn(CV_WARNING, FutureWarning)\n",
      "/master/src/scikit-optimize/skopt/optimizer/optimizer.py:399: UserWarning: The objective has been evaluated at this point before.\n",
      "  warnings.warn(\"The objective has been evaluated \"\n",
      "/usr/local/lib/python3.6/dist-packages/sklearn/model_selection/_split.py:1978: FutureWarning: The default value of cv will change from 3 to 5 in version 0.22. Specify it explicitly to silence this warning.\n",
      "  warnings.warn(CV_WARNING, FutureWarning)\n",
      "/master/src/scikit-optimize/skopt/optimizer/optimizer.py:399: UserWarning: The objective has been evaluated at this point before.\n",
      "  warnings.warn(\"The objective has been evaluated \"\n",
      "/usr/local/lib/python3.6/dist-packages/sklearn/model_selection/_split.py:1978: FutureWarning: The default value of cv will change from 3 to 5 in version 0.22. Specify it explicitly to silence this warning.\n",
      "  warnings.warn(CV_WARNING, FutureWarning)\n",
      "/master/src/scikit-optimize/skopt/optimizer/optimizer.py:399: UserWarning: The objective has been evaluated at this point before.\n",
      "  warnings.warn(\"The objective has been evaluated \"\n",
      "/usr/local/lib/python3.6/dist-packages/sklearn/model_selection/_split.py:1978: FutureWarning: The default value of cv will change from 3 to 5 in version 0.22. Specify it explicitly to silence this warning.\n",
      "  warnings.warn(CV_WARNING, FutureWarning)\n",
      "/master/src/scikit-optimize/skopt/optimizer/optimizer.py:399: UserWarning: The objective has been evaluated at this point before.\n",
      "  warnings.warn(\"The objective has been evaluated \"\n",
      "/usr/local/lib/python3.6/dist-packages/sklearn/model_selection/_split.py:1978: FutureWarning: The default value of cv will change from 3 to 5 in version 0.22. Specify it explicitly to silence this warning.\n",
      "  warnings.warn(CV_WARNING, FutureWarning)\n",
      "/master/src/scikit-optimize/skopt/optimizer/optimizer.py:399: UserWarning: The objective has been evaluated at this point before.\n",
      "  warnings.warn(\"The objective has been evaluated \"\n",
      "/usr/local/lib/python3.6/dist-packages/sklearn/model_selection/_split.py:1978: FutureWarning: The default value of cv will change from 3 to 5 in version 0.22. Specify it explicitly to silence this warning.\n",
      "  warnings.warn(CV_WARNING, FutureWarning)\n",
      "/master/src/scikit-optimize/skopt/optimizer/optimizer.py:399: UserWarning: The objective has been evaluated at this point before.\n",
      "  warnings.warn(\"The objective has been evaluated \"\n",
      "/usr/local/lib/python3.6/dist-packages/sklearn/model_selection/_split.py:1978: FutureWarning: The default value of cv will change from 3 to 5 in version 0.22. Specify it explicitly to silence this warning.\n",
      "  warnings.warn(CV_WARNING, FutureWarning)\n",
      "/master/src/scikit-optimize/skopt/optimizer/optimizer.py:399: UserWarning: The objective has been evaluated at this point before.\n",
      "  warnings.warn(\"The objective has been evaluated \"\n",
      "/usr/local/lib/python3.6/dist-packages/sklearn/model_selection/_split.py:1978: FutureWarning: The default value of cv will change from 3 to 5 in version 0.22. Specify it explicitly to silence this warning.\n",
      "  warnings.warn(CV_WARNING, FutureWarning)\n",
      "/master/src/scikit-optimize/skopt/optimizer/optimizer.py:399: UserWarning: The objective has been evaluated at this point before.\n",
      "  warnings.warn(\"The objective has been evaluated \"\n",
      "/usr/local/lib/python3.6/dist-packages/sklearn/model_selection/_split.py:1978: FutureWarning: The default value of cv will change from 3 to 5 in version 0.22. Specify it explicitly to silence this warning.\n",
      "  warnings.warn(CV_WARNING, FutureWarning)\n",
      "/usr/local/lib/python3.6/dist-packages/sklearn/model_selection/_split.py:1978: FutureWarning: The default value of cv will change from 3 to 5 in version 0.22. Specify it explicitly to silence this warning.\n",
      "  warnings.warn(CV_WARNING, FutureWarning)\n",
      "/usr/local/lib/python3.6/dist-packages/sklearn/model_selection/_split.py:1978: FutureWarning: The default value of cv will change from 3 to 5 in version 0.22. Specify it explicitly to silence this warning.\n",
      "  warnings.warn(CV_WARNING, FutureWarning)\n"
     ]
    },
    {
     "name": "stderr",
     "output_type": "stream",
     "text": [
      "/master/src/scikit-optimize/skopt/optimizer/optimizer.py:399: UserWarning: The objective has been evaluated at this point before.\n",
      "  warnings.warn(\"The objective has been evaluated \"\n",
      "/usr/local/lib/python3.6/dist-packages/sklearn/model_selection/_split.py:1978: FutureWarning: The default value of cv will change from 3 to 5 in version 0.22. Specify it explicitly to silence this warning.\n",
      "  warnings.warn(CV_WARNING, FutureWarning)\n",
      "/master/src/scikit-optimize/skopt/optimizer/optimizer.py:399: UserWarning: The objective has been evaluated at this point before.\n",
      "  warnings.warn(\"The objective has been evaluated \"\n",
      "/usr/local/lib/python3.6/dist-packages/sklearn/model_selection/_split.py:1978: FutureWarning: The default value of cv will change from 3 to 5 in version 0.22. Specify it explicitly to silence this warning.\n",
      "  warnings.warn(CV_WARNING, FutureWarning)\n",
      "/usr/local/lib/python3.6/dist-packages/sklearn/model_selection/_split.py:1978: FutureWarning: The default value of cv will change from 3 to 5 in version 0.22. Specify it explicitly to silence this warning.\n",
      "  warnings.warn(CV_WARNING, FutureWarning)\n",
      "/usr/local/lib/python3.6/dist-packages/sklearn/semi_supervised/label_propagation.py:288: ConvergenceWarning: max_iter=50 was reached without convergence.\n",
      "  category=ConvergenceWarning\n",
      "/usr/local/lib/python3.6/dist-packages/sklearn/semi_supervised/label_propagation.py:288: ConvergenceWarning: max_iter=50 was reached without convergence.\n",
      "  category=ConvergenceWarning\n",
      "/usr/local/lib/python3.6/dist-packages/sklearn/semi_supervised/label_propagation.py:288: ConvergenceWarning: max_iter=50 was reached without convergence.\n",
      "  category=ConvergenceWarning\n",
      "/master/src/scikit-optimize/skopt/optimizer/optimizer.py:399: UserWarning: The objective has been evaluated at this point before.\n",
      "  warnings.warn(\"The objective has been evaluated \"\n",
      "/usr/local/lib/python3.6/dist-packages/sklearn/model_selection/_split.py:1978: FutureWarning: The default value of cv will change from 3 to 5 in version 0.22. Specify it explicitly to silence this warning.\n",
      "  warnings.warn(CV_WARNING, FutureWarning)\n",
      "/master/src/scikit-optimize/skopt/optimizer/optimizer.py:399: UserWarning: The objective has been evaluated at this point before.\n",
      "  warnings.warn(\"The objective has been evaluated \"\n",
      "/usr/local/lib/python3.6/dist-packages/sklearn/model_selection/_split.py:1978: FutureWarning: The default value of cv will change from 3 to 5 in version 0.22. Specify it explicitly to silence this warning.\n",
      "  warnings.warn(CV_WARNING, FutureWarning)\n",
      "/usr/local/lib/python3.6/dist-packages/sklearn/model_selection/_split.py:1978: FutureWarning: The default value of cv will change from 3 to 5 in version 0.22. Specify it explicitly to silence this warning.\n",
      "  warnings.warn(CV_WARNING, FutureWarning)\n",
      "/usr/local/lib/python3.6/dist-packages/sklearn/semi_supervised/label_propagation.py:201: RuntimeWarning: invalid value encountered in true_divide\n",
      "  probabilities /= normalizer\n",
      "/usr/local/lib/python3.6/dist-packages/sklearn/model_selection/_split.py:1978: FutureWarning: The default value of cv will change from 3 to 5 in version 0.22. Specify it explicitly to silence this warning.\n",
      "  warnings.warn(CV_WARNING, FutureWarning)\n",
      "/usr/local/lib/python3.6/dist-packages/sklearn/model_selection/_split.py:1978: FutureWarning: The default value of cv will change from 3 to 5 in version 0.22. Specify it explicitly to silence this warning.\n",
      "  warnings.warn(CV_WARNING, FutureWarning)\n",
      "/usr/local/lib/python3.6/dist-packages/sklearn/semi_supervised/label_propagation.py:288: ConvergenceWarning: max_iter=50 was reached without convergence.\n",
      "  category=ConvergenceWarning\n",
      "/usr/local/lib/python3.6/dist-packages/sklearn/semi_supervised/label_propagation.py:288: ConvergenceWarning: max_iter=50 was reached without convergence.\n",
      "  category=ConvergenceWarning\n",
      "/usr/local/lib/python3.6/dist-packages/sklearn/semi_supervised/label_propagation.py:288: ConvergenceWarning: max_iter=50 was reached without convergence.\n",
      "  category=ConvergenceWarning\n",
      "/usr/local/lib/python3.6/dist-packages/sklearn/model_selection/_split.py:1978: FutureWarning: The default value of cv will change from 3 to 5 in version 0.22. Specify it explicitly to silence this warning.\n",
      "  warnings.warn(CV_WARNING, FutureWarning)\n",
      "/usr/local/lib/python3.6/dist-packages/sklearn/semi_supervised/label_propagation.py:288: ConvergenceWarning: max_iter=50 was reached without convergence.\n",
      "  category=ConvergenceWarning\n",
      "/usr/local/lib/python3.6/dist-packages/sklearn/semi_supervised/label_propagation.py:201: RuntimeWarning: invalid value encountered in true_divide\n",
      "  probabilities /= normalizer\n",
      "/usr/local/lib/python3.6/dist-packages/sklearn/semi_supervised/label_propagation.py:288: ConvergenceWarning: max_iter=50 was reached without convergence.\n",
      "  category=ConvergenceWarning\n",
      "/usr/local/lib/python3.6/dist-packages/sklearn/semi_supervised/label_propagation.py:201: RuntimeWarning: invalid value encountered in true_divide\n",
      "  probabilities /= normalizer\n",
      "/usr/local/lib/python3.6/dist-packages/sklearn/semi_supervised/label_propagation.py:288: ConvergenceWarning: max_iter=50 was reached without convergence.\n",
      "  category=ConvergenceWarning\n",
      "/usr/local/lib/python3.6/dist-packages/sklearn/model_selection/_split.py:1978: FutureWarning: The default value of cv will change from 3 to 5 in version 0.22. Specify it explicitly to silence this warning.\n",
      "  warnings.warn(CV_WARNING, FutureWarning)\n",
      "/usr/local/lib/python3.6/dist-packages/sklearn/model_selection/_split.py:1978: FutureWarning: The default value of cv will change from 3 to 5 in version 0.22. Specify it explicitly to silence this warning.\n",
      "  warnings.warn(CV_WARNING, FutureWarning)\n",
      "/usr/local/lib/python3.6/dist-packages/sklearn/model_selection/_split.py:1978: FutureWarning: The default value of cv will change from 3 to 5 in version 0.22. Specify it explicitly to silence this warning.\n",
      "  warnings.warn(CV_WARNING, FutureWarning)\n",
      "/usr/local/lib/python3.6/dist-packages/sklearn/model_selection/_split.py:1978: FutureWarning: The default value of cv will change from 3 to 5 in version 0.22. Specify it explicitly to silence this warning.\n",
      "  warnings.warn(CV_WARNING, FutureWarning)\n",
      "/usr/local/lib/python3.6/dist-packages/sklearn/model_selection/_split.py:1978: FutureWarning: The default value of cv will change from 3 to 5 in version 0.22. Specify it explicitly to silence this warning.\n",
      "  warnings.warn(CV_WARNING, FutureWarning)\n",
      "/usr/local/lib/python3.6/dist-packages/sklearn/semi_supervised/label_propagation.py:201: RuntimeWarning: invalid value encountered in true_divide\n",
      "  probabilities /= normalizer\n",
      "/usr/local/lib/python3.6/dist-packages/sklearn/semi_supervised/label_propagation.py:201: RuntimeWarning: invalid value encountered in true_divide\n",
      "  probabilities /= normalizer\n",
      "/usr/local/lib/python3.6/dist-packages/sklearn/model_selection/_split.py:1978: FutureWarning: The default value of cv will change from 3 to 5 in version 0.22. Specify it explicitly to silence this warning.\n",
      "  warnings.warn(CV_WARNING, FutureWarning)\n",
      "/usr/local/lib/python3.6/dist-packages/sklearn/model_selection/_split.py:1978: FutureWarning: The default value of cv will change from 3 to 5 in version 0.22. Specify it explicitly to silence this warning.\n",
      "  warnings.warn(CV_WARNING, FutureWarning)\n",
      "/usr/local/lib/python3.6/dist-packages/sklearn/model_selection/_split.py:1978: FutureWarning: The default value of cv will change from 3 to 5 in version 0.22. Specify it explicitly to silence this warning.\n",
      "  warnings.warn(CV_WARNING, FutureWarning)\n",
      "/usr/local/lib/python3.6/dist-packages/sklearn/model_selection/_split.py:1978: FutureWarning: The default value of cv will change from 3 to 5 in version 0.22. Specify it explicitly to silence this warning.\n",
      "  warnings.warn(CV_WARNING, FutureWarning)\n",
      "/usr/local/lib/python3.6/dist-packages/sklearn/semi_supervised/label_propagation.py:201: RuntimeWarning: invalid value encountered in true_divide\n",
      "  probabilities /= normalizer\n",
      "/usr/local/lib/python3.6/dist-packages/sklearn/semi_supervised/label_propagation.py:201: RuntimeWarning: invalid value encountered in true_divide\n",
      "  probabilities /= normalizer\n",
      "/usr/local/lib/python3.6/dist-packages/sklearn/model_selection/_split.py:1978: FutureWarning: The default value of cv will change from 3 to 5 in version 0.22. Specify it explicitly to silence this warning.\n",
      "  warnings.warn(CV_WARNING, FutureWarning)\n"
     ]
    },
    {
     "name": "stderr",
     "output_type": "stream",
     "text": [
      "/usr/local/lib/python3.6/dist-packages/sklearn/model_selection/_split.py:1978: FutureWarning: The default value of cv will change from 3 to 5 in version 0.22. Specify it explicitly to silence this warning.\n",
      "  warnings.warn(CV_WARNING, FutureWarning)\n",
      "/usr/local/lib/python3.6/dist-packages/sklearn/model_selection/_split.py:1978: FutureWarning: The default value of cv will change from 3 to 5 in version 0.22. Specify it explicitly to silence this warning.\n",
      "  warnings.warn(CV_WARNING, FutureWarning)\n",
      "/usr/local/lib/python3.6/dist-packages/sklearn/semi_supervised/label_propagation.py:201: RuntimeWarning: invalid value encountered in true_divide\n",
      "  probabilities /= normalizer\n",
      "/usr/local/lib/python3.6/dist-packages/sklearn/semi_supervised/label_propagation.py:201: RuntimeWarning: invalid value encountered in true_divide\n",
      "  probabilities /= normalizer\n",
      "/usr/local/lib/python3.6/dist-packages/sklearn/model_selection/_split.py:1978: FutureWarning: The default value of cv will change from 3 to 5 in version 0.22. Specify it explicitly to silence this warning.\n",
      "  warnings.warn(CV_WARNING, FutureWarning)\n",
      "/usr/local/lib/python3.6/dist-packages/sklearn/semi_supervised/label_propagation.py:288: ConvergenceWarning: max_iter=50 was reached without convergence.\n",
      "  category=ConvergenceWarning\n",
      "/usr/local/lib/python3.6/dist-packages/sklearn/semi_supervised/label_propagation.py:288: ConvergenceWarning: max_iter=50 was reached without convergence.\n",
      "  category=ConvergenceWarning\n",
      "/usr/local/lib/python3.6/dist-packages/sklearn/semi_supervised/label_propagation.py:288: ConvergenceWarning: max_iter=50 was reached without convergence.\n",
      "  category=ConvergenceWarning\n",
      "/usr/local/lib/python3.6/dist-packages/sklearn/model_selection/_split.py:1978: FutureWarning: The default value of cv will change from 3 to 5 in version 0.22. Specify it explicitly to silence this warning.\n",
      "  warnings.warn(CV_WARNING, FutureWarning)\n",
      "/usr/local/lib/python3.6/dist-packages/sklearn/semi_supervised/label_propagation.py:288: ConvergenceWarning: max_iter=50 was reached without convergence.\n",
      "  category=ConvergenceWarning\n",
      "/usr/local/lib/python3.6/dist-packages/sklearn/semi_supervised/label_propagation.py:201: RuntimeWarning: invalid value encountered in true_divide\n",
      "  probabilities /= normalizer\n",
      "/usr/local/lib/python3.6/dist-packages/sklearn/semi_supervised/label_propagation.py:288: ConvergenceWarning: max_iter=50 was reached without convergence.\n",
      "  category=ConvergenceWarning\n",
      "/usr/local/lib/python3.6/dist-packages/sklearn/semi_supervised/label_propagation.py:201: RuntimeWarning: invalid value encountered in true_divide\n",
      "  probabilities /= normalizer\n",
      "/usr/local/lib/python3.6/dist-packages/sklearn/semi_supervised/label_propagation.py:288: ConvergenceWarning: max_iter=50 was reached without convergence.\n",
      "  category=ConvergenceWarning\n",
      "/usr/local/lib/python3.6/dist-packages/sklearn/model_selection/_split.py:1978: FutureWarning: The default value of cv will change from 3 to 5 in version 0.22. Specify it explicitly to silence this warning.\n",
      "  warnings.warn(CV_WARNING, FutureWarning)\n",
      "/usr/local/lib/python3.6/dist-packages/sklearn/model_selection/_split.py:1978: FutureWarning: The default value of cv will change from 3 to 5 in version 0.22. Specify it explicitly to silence this warning.\n",
      "  warnings.warn(CV_WARNING, FutureWarning)\n",
      "/usr/local/lib/python3.6/dist-packages/sklearn/model_selection/_split.py:1978: FutureWarning: The default value of cv will change from 3 to 5 in version 0.22. Specify it explicitly to silence this warning.\n",
      "  warnings.warn(CV_WARNING, FutureWarning)\n",
      "/usr/local/lib/python3.6/dist-packages/sklearn/semi_supervised/label_propagation.py:201: RuntimeWarning: invalid value encountered in true_divide\n",
      "  probabilities /= normalizer\n",
      "/usr/local/lib/python3.6/dist-packages/sklearn/semi_supervised/label_propagation.py:201: RuntimeWarning: invalid value encountered in true_divide\n",
      "  probabilities /= normalizer\n",
      "/usr/local/lib/python3.6/dist-packages/sklearn/model_selection/_split.py:1978: FutureWarning: The default value of cv will change from 3 to 5 in version 0.22. Specify it explicitly to silence this warning.\n",
      "  warnings.warn(CV_WARNING, FutureWarning)\n",
      "/usr/local/lib/python3.6/dist-packages/sklearn/model_selection/_split.py:1978: FutureWarning: The default value of cv will change from 3 to 5 in version 0.22. Specify it explicitly to silence this warning.\n",
      "  warnings.warn(CV_WARNING, FutureWarning)\n",
      "/usr/local/lib/python3.6/dist-packages/sklearn/model_selection/_split.py:1978: FutureWarning: The default value of cv will change from 3 to 5 in version 0.22. Specify it explicitly to silence this warning.\n",
      "  warnings.warn(CV_WARNING, FutureWarning)\n",
      "/usr/local/lib/python3.6/dist-packages/sklearn/semi_supervised/label_propagation.py:201: RuntimeWarning: invalid value encountered in true_divide\n",
      "  probabilities /= normalizer\n",
      "/usr/local/lib/python3.6/dist-packages/sklearn/semi_supervised/label_propagation.py:201: RuntimeWarning: invalid value encountered in true_divide\n",
      "  probabilities /= normalizer\n",
      "/usr/local/lib/python3.6/dist-packages/sklearn/model_selection/_split.py:1978: FutureWarning: The default value of cv will change from 3 to 5 in version 0.22. Specify it explicitly to silence this warning.\n",
      "  warnings.warn(CV_WARNING, FutureWarning)\n",
      "/usr/local/lib/python3.6/dist-packages/sklearn/model_selection/_split.py:1978: FutureWarning: The default value of cv will change from 3 to 5 in version 0.22. Specify it explicitly to silence this warning.\n",
      "  warnings.warn(CV_WARNING, FutureWarning)\n",
      "/usr/local/lib/python3.6/dist-packages/sklearn/model_selection/_split.py:1978: FutureWarning: The default value of cv will change from 3 to 5 in version 0.22. Specify it explicitly to silence this warning.\n",
      "  warnings.warn(CV_WARNING, FutureWarning)\n",
      "/usr/local/lib/python3.6/dist-packages/sklearn/model_selection/_split.py:1978: FutureWarning: The default value of cv will change from 3 to 5 in version 0.22. Specify it explicitly to silence this warning.\n",
      "  warnings.warn(CV_WARNING, FutureWarning)\n",
      "/usr/local/lib/python3.6/dist-packages/sklearn/model_selection/_split.py:1978: FutureWarning: The default value of cv will change from 3 to 5 in version 0.22. Specify it explicitly to silence this warning.\n",
      "  warnings.warn(CV_WARNING, FutureWarning)\n",
      "/usr/local/lib/python3.6/dist-packages/sklearn/model_selection/_split.py:1978: FutureWarning: The default value of cv will change from 3 to 5 in version 0.22. Specify it explicitly to silence this warning.\n",
      "  warnings.warn(CV_WARNING, FutureWarning)\n",
      "/usr/local/lib/python3.6/dist-packages/sklearn/model_selection/_split.py:1978: FutureWarning: The default value of cv will change from 3 to 5 in version 0.22. Specify it explicitly to silence this warning.\n",
      "  warnings.warn(CV_WARNING, FutureWarning)\n",
      "/usr/local/lib/python3.6/dist-packages/sklearn/model_selection/_split.py:1978: FutureWarning: The default value of cv will change from 3 to 5 in version 0.22. Specify it explicitly to silence this warning.\n",
      "  warnings.warn(CV_WARNING, FutureWarning)\n",
      "/usr/local/lib/python3.6/dist-packages/sklearn/model_selection/_split.py:1978: FutureWarning: The default value of cv will change from 3 to 5 in version 0.22. Specify it explicitly to silence this warning.\n",
      "  warnings.warn(CV_WARNING, FutureWarning)\n",
      "/usr/local/lib/python3.6/dist-packages/sklearn/model_selection/_split.py:1978: FutureWarning: The default value of cv will change from 3 to 5 in version 0.22. Specify it explicitly to silence this warning.\n",
      "  warnings.warn(CV_WARNING, FutureWarning)\n",
      "/usr/local/lib/python3.6/dist-packages/sklearn/model_selection/_split.py:1978: FutureWarning: The default value of cv will change from 3 to 5 in version 0.22. Specify it explicitly to silence this warning.\n",
      "  warnings.warn(CV_WARNING, FutureWarning)\n",
      "/usr/local/lib/python3.6/dist-packages/sklearn/model_selection/_split.py:1978: FutureWarning: The default value of cv will change from 3 to 5 in version 0.22. Specify it explicitly to silence this warning.\n",
      "  warnings.warn(CV_WARNING, FutureWarning)\n",
      "/usr/local/lib/python3.6/dist-packages/sklearn/model_selection/_split.py:1978: FutureWarning: The default value of cv will change from 3 to 5 in version 0.22. Specify it explicitly to silence this warning.\n",
      "  warnings.warn(CV_WARNING, FutureWarning)\n"
     ]
    },
    {
     "name": "stderr",
     "output_type": "stream",
     "text": [
      "/usr/local/lib/python3.6/dist-packages/sklearn/model_selection/_split.py:1978: FutureWarning: The default value of cv will change from 3 to 5 in version 0.22. Specify it explicitly to silence this warning.\n",
      "  warnings.warn(CV_WARNING, FutureWarning)\n",
      "/usr/local/lib/python3.6/dist-packages/sklearn/model_selection/_split.py:1978: FutureWarning: The default value of cv will change from 3 to 5 in version 0.22. Specify it explicitly to silence this warning.\n",
      "  warnings.warn(CV_WARNING, FutureWarning)\n",
      "/usr/local/lib/python3.6/dist-packages/sklearn/model_selection/_split.py:1978: FutureWarning: The default value of cv will change from 3 to 5 in version 0.22. Specify it explicitly to silence this warning.\n",
      "  warnings.warn(CV_WARNING, FutureWarning)\n",
      "/usr/local/lib/python3.6/dist-packages/sklearn/model_selection/_split.py:1978: FutureWarning: The default value of cv will change from 3 to 5 in version 0.22. Specify it explicitly to silence this warning.\n",
      "  warnings.warn(CV_WARNING, FutureWarning)\n",
      "/usr/local/lib/python3.6/dist-packages/sklearn/model_selection/_split.py:1978: FutureWarning: The default value of cv will change from 3 to 5 in version 0.22. Specify it explicitly to silence this warning.\n",
      "  warnings.warn(CV_WARNING, FutureWarning)\n",
      "/usr/local/lib/python3.6/dist-packages/sklearn/model_selection/_split.py:1978: FutureWarning: The default value of cv will change from 3 to 5 in version 0.22. Specify it explicitly to silence this warning.\n",
      "  warnings.warn(CV_WARNING, FutureWarning)\n",
      "/usr/local/lib/python3.6/dist-packages/sklearn/model_selection/_split.py:1978: FutureWarning: The default value of cv will change from 3 to 5 in version 0.22. Specify it explicitly to silence this warning.\n",
      "  warnings.warn(CV_WARNING, FutureWarning)\n",
      "/usr/local/lib/python3.6/dist-packages/sklearn/model_selection/_split.py:1978: FutureWarning: The default value of cv will change from 3 to 5 in version 0.22. Specify it explicitly to silence this warning.\n",
      "  warnings.warn(CV_WARNING, FutureWarning)\n",
      "/usr/local/lib/python3.6/dist-packages/sklearn/model_selection/_split.py:1978: FutureWarning: The default value of cv will change from 3 to 5 in version 0.22. Specify it explicitly to silence this warning.\n",
      "  warnings.warn(CV_WARNING, FutureWarning)\n",
      "/usr/local/lib/python3.6/dist-packages/sklearn/model_selection/_split.py:1978: FutureWarning: The default value of cv will change from 3 to 5 in version 0.22. Specify it explicitly to silence this warning.\n",
      "  warnings.warn(CV_WARNING, FutureWarning)\n",
      "/usr/local/lib/python3.6/dist-packages/sklearn/model_selection/_split.py:1978: FutureWarning: The default value of cv will change from 3 to 5 in version 0.22. Specify it explicitly to silence this warning.\n",
      "  warnings.warn(CV_WARNING, FutureWarning)\n",
      "/usr/local/lib/python3.6/dist-packages/sklearn/model_selection/_split.py:1978: FutureWarning: The default value of cv will change from 3 to 5 in version 0.22. Specify it explicitly to silence this warning.\n",
      "  warnings.warn(CV_WARNING, FutureWarning)\n",
      "/usr/local/lib/python3.6/dist-packages/sklearn/model_selection/_split.py:1978: FutureWarning: The default value of cv will change from 3 to 5 in version 0.22. Specify it explicitly to silence this warning.\n",
      "  warnings.warn(CV_WARNING, FutureWarning)\n"
     ]
    },
    {
     "name": "stdout",
     "output_type": "stream",
     "text": [
      "Label Spreading on 100% of data 0.7716321683067526\n"
     ]
    }
   ],
   "source": [
    "from skopt import BayesSearchCV\n",
    "\n",
    "data_trainers = {}\n",
    "samplig_perc = 0.5\n",
    "\n",
    "for label_perc in [1]:\n",
    "    data_train, _, data_test = get_train_dev_test_ssl(\"har\", n_labels=label_perc, data_perc=samplig_perc, dev_size=0)\n",
    "    file = chckpnt_dirname+\"{}%har_{}%lab/feature_labelspread.joblib\".format(int(samplig_perc*100), int(label_perc*100))\n",
    "    \n",
    "\n",
    "    X_train = np.concatenate([data_train.data.mean(1), data_train.data.min(1), data_train.data.max(1), \n",
    "                              data_train.data.std(1)], axis=-1)\n",
    "\n",
    "    clf = LabelSpreading(kernel=\"rbf\", gamma=0.7139957563303907, n_jobs=-1, max_iter=50, alpha=0.35)\n",
    "    \n",
    "    bcv = BayesSearchCV(clf, clf.get_hypopt_search_space())\n",
    "    \n",
    "    \n",
    "    bcv.fit(X_train, data_train.targets.flatten())\n",
    "        \n",
    "   \n",
    "    print(\"Label Spreading on {}% of data\".format(label_perc*100), bcv.score(X_test, data_test.targets.flatten()))"
   ]
  },
  {
   "cell_type": "code",
   "execution_count": 62,
   "metadata": {},
   "outputs": [
    {
     "data": {
      "text/plain": [
       "{'alpha': 0.36685844814212404, 'gamma': 0.7139957563303907, 'kernel': 'rbf'}"
      ]
     },
     "execution_count": 62,
     "metadata": {},
     "output_type": "execute_result"
    }
   ],
   "source": [
    "bcv.best_params_"
   ]
  },
  {
   "cell_type": "code",
   "execution_count": null,
   "metadata": {},
   "outputs": [],
   "source": []
  }
 ],
 "metadata": {
  "kernelspec": {
   "display_name": "Python 3",
   "language": "python",
   "name": "python3"
  },
  "language_info": {
   "codemirror_mode": {
    "name": "ipython",
    "version": 3
   },
   "file_extension": ".py",
   "mimetype": "text/x-python",
   "name": "python",
   "nbconvert_exporter": "python",
   "pygments_lexer": "ipython3",
   "version": "3.6.8"
  }
 },
 "nbformat": 4,
 "nbformat_minor": 2
}

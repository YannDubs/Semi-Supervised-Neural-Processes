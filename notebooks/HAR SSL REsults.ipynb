{
 "cells": [
  {
   "cell_type": "markdown",
   "metadata": {},
   "source": [
    "# Human Activity Recognition - Baselines\n",
    "\n",
    "Last Update : 21 July 2019"
   ]
  },
  {
   "cell_type": "code",
   "execution_count": 1,
   "metadata": {},
   "outputs": [],
   "source": [
    "N_THREADS = 8\n",
    "# Nota Bene : notebooks don't deallocate GPU memory\n",
    "IS_FORCE_CPU = True # can also be set in the trainer"
   ]
  },
  {
   "cell_type": "markdown",
   "metadata": {},
   "source": [
    "## Environment"
   ]
  },
  {
   "cell_type": "code",
   "execution_count": 2,
   "metadata": {},
   "outputs": [
    {
     "name": "stdout",
     "output_type": "stream",
     "text": [
      "/conv\n"
     ]
    }
   ],
   "source": [
    "cd .."
   ]
  },
  {
   "cell_type": "code",
   "execution_count": 3,
   "metadata": {},
   "outputs": [
    {
     "data": {
      "application/javascript": [
       "IPython.notebook.set_autosave_interval(600000)"
      ]
     },
     "metadata": {},
     "output_type": "display_data"
    },
    {
     "name": "stdout",
     "output_type": "stream",
     "text": [
      "Autosaving every 600 seconds\n"
     ]
    },
    {
     "data": {
      "text/html": [
       " <style> .output_png {display: table-cell; text-align: center; margin:auto; }\n",
       ".prompt display:none;}  </style>"
      ],
      "text/plain": [
       "<IPython.core.display.HTML object>"
      ]
     },
     "metadata": {},
     "output_type": "display_data"
    }
   ],
   "source": [
    "%autosave 600\n",
    "%matplotlib inline\n",
    "%config InlineBackend.figure_format = 'retina'\n",
    "\n",
    "# CENTER PLOTS\n",
    "from IPython.core.display import HTML\n",
    "display(HTML(\"\"\" <style> .output_png {display: table-cell; text-align: center; margin:auto; }\n",
    ".prompt display:none;}  </style>\"\"\"))\n",
    "\n",
    "import os\n",
    "if IS_FORCE_CPU:\n",
    "    os.environ['CUDA_VISIBLE_DEVICES'] = \"\"\n",
    "\n",
    "import sys\n",
    "sys.path.append(\"notebooks\")\n",
    "\n",
    "import numpy as np\n",
    "import matplotlib.pyplot as plt\n",
    "from functools import partial\n",
    "import pandas as pd\n",
    "import h5py\n",
    "\n",
    "\n",
    "import torch\n",
    "torch.set_num_threads(N_THREADS)"
   ]
  },
  {
   "cell_type": "markdown",
   "metadata": {},
   "source": [
    "# Dataset"
   ]
  },
  {
   "cell_type": "code",
   "execution_count": 4,
   "metadata": {},
   "outputs": [],
   "source": [
    "from utils.data.tsdata import get_timeseries_dataset\n",
    "\n",
    "from skssl.transformers.neuralproc.datasplit import CntxtTrgtGetter, GetRandomIndcs, get_all_indcs\n",
    "from utils.data.tsdata import get_timeseries_dataset, SparseMultiTimeSeriesDataset\n",
    "\n",
    "get_cntxt_trgt_test = CntxtTrgtGetter(contexts_getter=GetRandomIndcs(min_n_indcs=0.1, max_n_indcs=0.5),\n",
    "                                     targets_getter=get_all_indcs,\n",
    "                                     is_add_cntxts_to_trgts=False)  # don't context points to tagrtes\n",
    "\n",
    "get_cntxt_trgt_feat = CntxtTrgtGetter(contexts_getter=get_all_indcs,\n",
    "                                     targets_getter=get_all_indcs,\n",
    "                                     is_add_cntxts_to_trgts=False)  # don't context points to tagrtes\n",
    "\n",
    "\n",
    "get_cntxt_trgt = CntxtTrgtGetter(contexts_getter=GetRandomIndcs(min_n_indcs=0.01, max_n_indcs=0.5),\n",
    "                                 targets_getter=GetRandomIndcs(min_n_indcs=0.5, max_n_indcs=0.99),\n",
    "                                 is_add_cntxts_to_trgts=False)  # don't context points to tagrtes\n",
    "\n",
    "def cntxt_trgt_collate(get_cntxt_trgt, is_repeat_batch=False):\n",
    "    def mycollate(batch):\n",
    "        min_length = min([v.size(0) for b in batch for k,v in b[0].items() if \"X\" in k])\n",
    "        # chose first min_legth of each (assumes that randomized)\n",
    "        \n",
    "        batch = [({k:v[:min_length, ...] for k,v in b[0].items()}, b[1]) for b in batch]        \n",
    "        collated = torch.utils.data.dataloader.default_collate(batch)\n",
    "        \n",
    "        X = collated[0][\"X\"]\n",
    "        y = collated[0][\"y\"]\n",
    "        \n",
    "        if is_repeat_batch:\n",
    "            \n",
    "            X = torch.cat([X,X], dim=0)\n",
    "            y = torch.cat([y,y], dim=0)\n",
    "        \n",
    "        collated[0][\"X\"], collated[0][\"y\"], collated[0][\"X_trgt\"], collated[0][\"y_trgt\"] = get_cntxt_trgt(X, y)\n",
    "        \n",
    "        return collated\n",
    "    return mycollate\n",
    "\n",
    "\n",
    "data_train = get_timeseries_dataset(\"har\")(split=\"train\", is_fill_mean=True, data_perc=1)\n",
    "data_test = get_timeseries_dataset(\"har\")(split=\"test\", is_fill_mean=True, data_perc=1)"
   ]
  },
  {
   "cell_type": "code",
   "execution_count": 5,
   "metadata": {},
   "outputs": [
    {
     "data": {
      "text/plain": [
       "(array([0, 1, 2, 3, 4, 5], dtype=int32), array([496, 471, 420, 491, 532, 537]))"
      ]
     },
     "execution_count": 5,
     "metadata": {},
     "output_type": "execute_result"
    }
   ],
   "source": [
    "np.unique(data_test.targets, return_counts=True)"
   ]
  },
  {
   "cell_type": "code",
   "execution_count": 6,
   "metadata": {},
   "outputs": [
    {
     "data": {
      "text/plain": [
       "0.18221920597217509"
      ]
     },
     "execution_count": 6,
     "metadata": {},
     "output_type": "execute_result"
    }
   ],
   "source": [
    "# best acc\n",
    "537 / len(data_test.targets)"
   ]
  },
  {
   "cell_type": "code",
   "execution_count": 7,
   "metadata": {},
   "outputs": [],
   "source": [
    "X_DIM = 1  # 1D spatial input (although actually 2 but the first is for sparse channels)\n",
    "Y_DIM = data_train.data.shape[-1] # multiple channels\n",
    "N_TARGETS = len(np.unique(data_train.targets))\n",
    "\n",
    "sampling_percentages = [0.05, 0.1, 0.3, 0.5, 0.7, 1]\n",
    "label_percentages = [N_TARGETS, N_TARGETS*2, 0.01, 0.05, 0.1, 0.3, 0.5]"
   ]
  },
  {
   "cell_type": "markdown",
   "metadata": {},
   "source": [
    "## Model"
   ]
  },
  {
   "cell_type": "code",
   "execution_count": 8,
   "metadata": {},
   "outputs": [],
   "source": [
    "import torch.nn as nn\n",
    "from skssl.predefined import RNN, MLP\n",
    "from utils.helpers import count_parameters"
   ]
  },
  {
   "cell_type": "code",
   "execution_count": 9,
   "metadata": {},
   "outputs": [],
   "source": [
    "class FeatureMLP(nn.Module):\n",
    "\n",
    "    def __init__(self, input_size, output_size, **kwargs):\n",
    "        super().__init__()\n",
    "        self.out = MLP(input_size*4, output_size, **kwargs)\n",
    "\n",
    "    def forward(self, X, y=None):\n",
    "\n",
    "        if y is not None:\n",
    "            # is there's y then that's the actual input and X is time\n",
    "            X = y\n",
    "\n",
    "        outputs = self.out(torch.cat([X.mean(-2), X.max(-2)[0], X.min(-2)[0], X.var(-2)], dim=-1))\n",
    "        return outputs"
   ]
  },
  {
   "cell_type": "code",
   "execution_count": 10,
   "metadata": {},
   "outputs": [],
   "source": [
    "models = {}\n",
    "\n",
    "models[\"bi_rnn_delta\"] = partial(RNN, input_size=Y_DIM, hidden_size=64, output_size=N_TARGETS, bidirectional=True, n_layers=1, dropout=0.5, is_add_delta=True)\n",
    "models[\"feature_mlp\"]  = partial(FeatureMLP, input_size=Y_DIM, output_size=N_TARGETS, hidden_size=128, dropout=0.5, n_hidden_layers=3, is_res=True)"
   ]
  },
  {
   "cell_type": "code",
   "execution_count": 11,
   "metadata": {},
   "outputs": [
    {
     "name": "stdout",
     "output_type": "stream",
     "text": [
      "bi_rnn_delta - N Param: 29574\n",
      "feature_mlp - N Param: 38534\n"
     ]
    },
    {
     "name": "stderr",
     "output_type": "stream",
     "text": [
      "/usr/local/lib/python3.6/dist-packages/torch/nn/modules/rnn.py:54: UserWarning: dropout option adds dropout after all but last recurrent layer, so non-zero dropout expects num_layers greater than 1, but got dropout=0.5 and num_layers=1\n",
      "  \"num_layers={}\".format(dropout, num_layers))\n"
     ]
    }
   ],
   "source": [
    "from utils.helpers import count_parameters\n",
    "for k,v in models.items():\n",
    "    print(k, \"- N Param:\", count_parameters(v()))"
   ]
  },
  {
   "cell_type": "markdown",
   "metadata": {},
   "source": [
    "- selected best rnn from [GRU, LSTM], hidden [32,64,128], [bidirect,None], dropout [0,0.5], lr [1e-4,1e-3], layer [1,2]\n",
    "- selected best feature MLP from hidden [32,64,128], n_hidden_layers [1,3], dropout [0,0.5], [is_res, None], lr [1e-4,1e-3]\n",
    "\n",
    "all with early stoping patience 10, cross entropy, standardized data, 100 epochs, batch size 64"
   ]
  },
  {
   "cell_type": "markdown",
   "metadata": {},
   "source": [
    "# Sub Labels Training"
   ]
  },
  {
   "cell_type": "code",
   "execution_count": 12,
   "metadata": {},
   "outputs": [],
   "source": [
    "from utils.data.ssldata import get_train_dev_test_ssl\n",
    "from skssl.training.loaders import get_supervised_iterator\n",
    "from ntbks_helpers import train_models_"
   ]
  },
  {
   "cell_type": "code",
   "execution_count": 13,
   "metadata": {},
   "outputs": [],
   "source": [
    "N_EPOCHS = 100 \n",
    "BATCH_SIZE = 64\n",
    "IS_RETRAIN = False # if false load precomputed\n",
    "chckpnt_dirname=\"results/challenge/har/\""
   ]
  },
  {
   "cell_type": "code",
   "execution_count": 14,
   "metadata": {},
   "outputs": [
    {
     "name": "stdout",
     "output_type": "stream",
     "text": [
      "\n",
      "--- Loading 50%har_600%lab/bi_rnn_delta ---\n",
      "\n",
      "50%har_600%lab/bi_rnn_delta best epoch: 25 val_loss: 1.7031053005738868\n",
      "\n",
      "--- Loading 50%har_600%lab/feature_mlp ---\n",
      "\n",
      "50%har_600%lab/feature_mlp best epoch: 100 val_loss: 1.2070192208644452\n"
     ]
    },
    {
     "name": "stderr",
     "output_type": "stream",
     "text": [
      "/usr/local/lib/python3.6/dist-packages/torch/nn/modules/rnn.py:54: UserWarning: dropout option adds dropout after all but last recurrent layer, so non-zero dropout expects num_layers greater than 1, but got dropout=0.5 and num_layers=1\n",
      "  \"num_layers={}\".format(dropout, num_layers))\n"
     ]
    },
    {
     "name": "stdout",
     "output_type": "stream",
     "text": [
      "\n",
      "--- Loading 50%har_1200%lab/bi_rnn_delta ---\n",
      "\n",
      "50%har_1200%lab/bi_rnn_delta best epoch: 34 val_loss: 1.468012556610651\n",
      "\n",
      "--- Loading 50%har_1200%lab/feature_mlp ---\n",
      "\n",
      "50%har_1200%lab/feature_mlp best epoch: 100 val_loss: 0.9724344174094147\n"
     ]
    },
    {
     "name": "stderr",
     "output_type": "stream",
     "text": [
      "/usr/local/lib/python3.6/dist-packages/torch/nn/modules/rnn.py:54: UserWarning: dropout option adds dropout after all but last recurrent layer, so non-zero dropout expects num_layers greater than 1, but got dropout=0.5 and num_layers=1\n",
      "  \"num_layers={}\".format(dropout, num_layers))\n"
     ]
    },
    {
     "name": "stdout",
     "output_type": "stream",
     "text": [
      "\n",
      "--- Loading 50%har_1%lab/bi_rnn_delta ---\n",
      "\n",
      "50%har_1%lab/bi_rnn_delta best epoch: 68 val_loss: 1.1848216887688612\n",
      "\n",
      "--- Loading 50%har_1%lab/feature_mlp ---\n",
      "\n",
      "50%har_1%lab/feature_mlp best epoch: 90 val_loss: 0.6480910628376713\n"
     ]
    },
    {
     "name": "stderr",
     "output_type": "stream",
     "text": [
      "/usr/local/lib/python3.6/dist-packages/torch/nn/modules/rnn.py:54: UserWarning: dropout option adds dropout after all but last recurrent layer, so non-zero dropout expects num_layers greater than 1, but got dropout=0.5 and num_layers=1\n",
      "  \"num_layers={}\".format(dropout, num_layers))\n"
     ]
    },
    {
     "name": "stdout",
     "output_type": "stream",
     "text": [
      "\n",
      "--- Loading 50%har_5%lab/bi_rnn_delta ---\n",
      "\n",
      "50%har_5%lab/bi_rnn_delta best epoch: 37 val_loss: 0.5261391364480424\n",
      "\n",
      "--- Loading 50%har_5%lab/feature_mlp ---\n",
      "\n",
      "50%har_5%lab/feature_mlp best epoch: 34 val_loss: 0.6083724190511661\n"
     ]
    },
    {
     "name": "stderr",
     "output_type": "stream",
     "text": [
      "/usr/local/lib/python3.6/dist-packages/torch/nn/modules/rnn.py:54: UserWarning: dropout option adds dropout after all but last recurrent layer, so non-zero dropout expects num_layers greater than 1, but got dropout=0.5 and num_layers=1\n",
      "  \"num_layers={}\".format(dropout, num_layers))\n"
     ]
    },
    {
     "name": "stdout",
     "output_type": "stream",
     "text": [
      "\n",
      "--- Loading 50%har_10%lab/bi_rnn_delta ---\n",
      "\n",
      "50%har_10%lab/bi_rnn_delta best epoch: 52 val_loss: 0.29275474525687245\n",
      "\n",
      "--- Loading 50%har_10%lab/feature_mlp ---\n",
      "\n",
      "50%har_10%lab/feature_mlp best epoch: 43 val_loss: 0.4748540673775312\n"
     ]
    },
    {
     "name": "stderr",
     "output_type": "stream",
     "text": [
      "/usr/local/lib/python3.6/dist-packages/torch/nn/modules/rnn.py:54: UserWarning: dropout option adds dropout after all but last recurrent layer, so non-zero dropout expects num_layers greater than 1, but got dropout=0.5 and num_layers=1\n",
      "  \"num_layers={}\".format(dropout, num_layers))\n"
     ]
    },
    {
     "name": "stdout",
     "output_type": "stream",
     "text": [
      "\n",
      "--- Loading 50%har_30%lab/bi_rnn_delta ---\n",
      "\n",
      "50%har_30%lab/bi_rnn_delta best epoch: 16 val_loss: 0.242327061919467\n",
      "\n",
      "--- Loading 50%har_30%lab/feature_mlp ---\n",
      "\n",
      "50%har_30%lab/feature_mlp best epoch: 43 val_loss: 0.38917470055189546\n"
     ]
    },
    {
     "name": "stderr",
     "output_type": "stream",
     "text": [
      "/usr/local/lib/python3.6/dist-packages/torch/nn/modules/rnn.py:54: UserWarning: dropout option adds dropout after all but last recurrent layer, so non-zero dropout expects num_layers greater than 1, but got dropout=0.5 and num_layers=1\n",
      "  \"num_layers={}\".format(dropout, num_layers))\n"
     ]
    },
    {
     "name": "stdout",
     "output_type": "stream",
     "text": [
      "\n",
      "--- Loading 50%har_50%lab/bi_rnn_delta ---\n",
      "\n",
      "50%har_50%lab/bi_rnn_delta best epoch: 30 val_loss: 0.22852476952963455\n",
      "\n",
      "--- Loading 50%har_50%lab/feature_mlp ---\n",
      "\n",
      "50%har_50%lab/feature_mlp best epoch: 39 val_loss: 0.3619322175691603\n"
     ]
    },
    {
     "name": "stderr",
     "output_type": "stream",
     "text": [
      "/usr/local/lib/python3.6/dist-packages/torch/nn/modules/rnn.py:54: UserWarning: dropout option adds dropout after all but last recurrent layer, so non-zero dropout expects num_layers greater than 1, but got dropout=0.5 and num_layers=1\n",
      "  \"num_layers={}\".format(dropout, num_layers))\n"
     ]
    }
   ],
   "source": [
    "data_trainers = {}\n",
    "samplig_perc = 0.5\n",
    "\n",
    "for label_perc in label_percentages:\n",
    "    data_train, _, data_test = get_train_dev_test_ssl(\"har\", n_labels=label_perc, data_perc=samplig_perc, dev_size=0)\n",
    "    \n",
    "    data_trainers.update(train_models_({\"{}%har_{}%lab\".format(int(samplig_perc*100), int(label_perc*100)): (data_train, data_test)}, \n",
    "                         models, \n",
    "                         chckpnt_dirname=chckpnt_dirname,\n",
    "                          max_epochs=N_EPOCHS,\n",
    "                          batch_size=64,\n",
    "                         is_retrain=IS_RETRAIN, \n",
    "                         iterator_train=get_supervised_iterator))"
   ]
  },
  {
   "cell_type": "code",
   "execution_count": 15,
   "metadata": {},
   "outputs": [
    {
     "name": "stdout",
     "output_type": "stream",
     "text": [
      "\n",
      "50%har_600%lab/bi_rnn_delta epoch: 25 val_loss: 1.7031053005738868 val_acc: 0.28944689514760774\n",
      "\n",
      "50%har_1200%lab/bi_rnn_delta epoch: 34 val_loss: 1.468012556610651 val_acc: 0.4896504920257889\n",
      "\n",
      "50%har_1%lab/bi_rnn_delta epoch: 68 val_loss: 1.1848216887688612 val_acc: 0.6335256192738378\n",
      "\n",
      "50%har_5%lab/bi_rnn_delta epoch: 37 val_loss: 0.5261391364480424 val_acc: 0.839837122497455\n",
      "\n",
      "50%har_10%lab/bi_rnn_delta epoch: 52 val_loss: 0.29275474525687245 val_acc: 0.8985408890397014\n",
      "\n",
      "50%har_30%lab/bi_rnn_delta epoch: 16 val_loss: 0.242327061919467 val_acc: 0.9070240922972514\n",
      "\n",
      "50%har_50%lab/bi_rnn_delta epoch: 30 val_loss: 0.22852476952963455 val_acc: 0.9124533423820834\n"
     ]
    }
   ],
   "source": [
    "for k,t in data_trainers.items():\n",
    "    if \"bi_rnn_delta\"not in k:\n",
    "        continue\n",
    "    print()\n",
    "        \n",
    "    for e, h in enumerate(t.history[::-1]):\n",
    "        if h[\"valid_loss_best\"]:\n",
    "            print(k, \"epoch:\", len(t.history)-e, \n",
    "                  \"val_loss:\", h[\"valid_loss\"], \n",
    "                  \"val_acc:\", h[\"valid_acc\"])\n",
    "            break"
   ]
  },
  {
   "cell_type": "markdown",
   "metadata": {},
   "source": [
    "# SSL EVAL"
   ]
  },
  {
   "cell_type": "code",
   "execution_count": 16,
   "metadata": {},
   "outputs": [
    {
     "name": "stderr",
     "output_type": "stream",
     "text": [
      "/usr/local/lib/python3.6/dist-packages/sklearn/externals/joblib/__init__.py:15: DeprecationWarning: sklearn.externals.joblib is deprecated in 0.21 and will be removed in 0.23. Please import this functionality directly from joblib, which can be installed with: pip install joblib. If this warning is raised when loading pickled models, you may need to re-serialize those models with scikit-learn 0.21+.\n",
      "  warnings.warn(msg, category=DeprecationWarning)\n"
     ]
    }
   ],
   "source": [
    "from skssl.classifiers import LabelSpreading\n",
    "from joblib import dump, load"
   ]
  },
  {
   "cell_type": "code",
   "execution_count": 17,
   "metadata": {},
   "outputs": [
    {
     "name": "stdout",
     "output_type": "stream",
     "text": [
      "Label Spreading on 600% of data 0.6104513064133017\n",
      "Label Spreading on 1200% of data 0.5778758059043094\n",
      "Label Spreading on 1.0% of data 0.7020699015948422\n",
      "Label Spreading on 5.0% of data 0.7387173396674585\n",
      "Label Spreading on 10.0% of data 0.7645062775704106\n",
      "Label Spreading on 30.0% of data 0.7852052935188327\n",
      "Label Spreading on 50.0% of data 0.7882592466915507\n"
     ]
    }
   ],
   "source": [
    "\n",
    "samplig_perc = 0.5\n",
    "\n",
    "for label_perc in label_percentages:\n",
    "    data_train, _, data_test = get_train_dev_test_ssl(\"har\", n_labels=label_perc, data_perc=samplig_perc, dev_size=0)\n",
    "    file = chckpnt_dirname+\"{}%har_{}%lab/feature_labelspread.joblib\".format(int(samplig_perc*100), int(label_perc*100))\n",
    "    \n",
    "    X_test = np.concatenate([data_test.data.mean(1), data_test.data.min(1), data_test.data.max(1), \n",
    "                                  data_test.data.std(1)], axis=-1)\n",
    "    \n",
    "    if True:\n",
    "        X_train = np.concatenate([data_train.data.mean(1), data_train.data.min(1), data_train.data.max(1), \n",
    "                                  data_train.data.std(1)], axis=-1)\n",
    "        Y_train = data_train.targets.flatten()\n",
    "        Y_test_unsup = -1*np.ones_like(data_test.targets.flatten())\n",
    "        \n",
    "        \n",
    "        clf = LabelSpreading(kernel=\"rbf\", gamma=0.7139, n_jobs=-1, max_iter=50, alpha=0.35)\n",
    "        clf.fit(np.concatenate([X_train, X_test], axis=0),  \n",
    "                np.concatenate([Y_train, Y_test_unsup], axis=0))\n",
    "        #clf.fit(X_train,  Y_train)\n",
    "        dump(clf, file) \n",
    "        \n",
    "    else:\n",
    "        \n",
    "        clf = load(file)\n",
    "        \n",
    "    \n",
    "    \n",
    "    print(\"Label Spreading on {}% of data\".format(label_perc*100), \n",
    "          clf.score(X_test, data_test.targets.flatten()))"
   ]
  },
  {
   "cell_type": "markdown",
   "metadata": {},
   "source": [
    "# CNP"
   ]
  },
  {
   "cell_type": "code",
   "execution_count": 18,
   "metadata": {},
   "outputs": [],
   "source": [
    "import torch.nn as nn\n",
    "from skssl.transformers import GlobalNeuralProcess, NeuralProcessLoss, AttentiveNeuralProcess\n",
    "from skssl.utils.helpers import rescale_range\n",
    "from skssl.predefined import UnetCNN, CNN, MLP, SparseSetConv, SetConv, MlpRBF, GaussianRBF, BatchSparseSetConv\n",
    "from skssl.transformers.neuralproc.datasplit import precomputed_cntxt_trgt_split\n",
    "from utils.helpers import count_parameters"
   ]
  },
  {
   "cell_type": "code",
   "execution_count": 19,
   "metadata": {},
   "outputs": [],
   "source": [
    "from copy import deepcopy\n",
    "\n",
    "models = {}\n",
    "\n",
    "unet = partial(UnetCNN,\n",
    "               Conv=torch.nn.Conv1d,\n",
    "               Pool=torch.nn.MaxPool1d,\n",
    "               upsample_mode=\"linear\",\n",
    "               n_layers=18,\n",
    "               is_double_conv=True,\n",
    "               is_depth_separable=True,\n",
    "               Normalization=torch.nn.BatchNorm1d,\n",
    "               is_chan_last=True,\n",
    "               bottleneck=None,\n",
    "               kernel_size=7,\n",
    "               max_nchannels=256,\n",
    "              is_force_same_bottleneck=True\n",
    "              )\n",
    "\n",
    "kwargs = dict(x_dim=X_DIM, \n",
    "              y_dim=Y_DIM,\n",
    "              min_std=5e-3,\n",
    "                n_tmp_queries=128,\n",
    "                r_dim=64,\n",
    "              keys_to_tmp_attn=partial(SetConv, RadialBasisFunc=GaussianRBF),\n",
    "              TmpSelfAttn=unet,\n",
    "              tmp_to_queries_attn=partial(SetConv, RadialBasisFunc=GaussianRBF),\n",
    "              is_skip_tmp=False,\n",
    "              is_use_x=False,\n",
    "              get_cntxt_trgt=precomputed_cntxt_trgt_split,\n",
    "              is_encode_xy=False)\n",
    "\n",
    "models[\"transformer_gnp_large_shared_bottleneck\"] = partial(GlobalNeuralProcess, **kwargs)\n"
   ]
  },
  {
   "cell_type": "code",
   "execution_count": 20,
   "metadata": {},
   "outputs": [
    {
     "name": "stdout",
     "output_type": "stream",
     "text": [
      "transformer_gnp_large_shared_bottleneck - N Param: 1006936\n"
     ]
    }
   ],
   "source": [
    "from utils.helpers import count_parameters\n",
    "for k,v in models.items():\n",
    "    print(k, \"- N Param:\", count_parameters(v()))"
   ]
  },
  {
   "cell_type": "code",
   "execution_count": 21,
   "metadata": {},
   "outputs": [],
   "source": [
    "from ntbks_helpers import train_models_\n",
    "from skorch.dataset import CVSplit"
   ]
  },
  {
   "cell_type": "code",
   "execution_count": 22,
   "metadata": {},
   "outputs": [
    {
     "name": "stdout",
     "output_type": "stream",
     "text": [
      "\n",
      "--- Loading 5%har/transformer_gnp_large_shared_bottleneck ---\n",
      "\n",
      "5%har/transformer_gnp_large_shared_bottleneck best epoch: 98 val_loss: -2.164531707763672\n",
      "\n",
      "--- Loading 10%har/transformer_gnp_large_shared_bottleneck ---\n",
      "\n",
      "10%har/transformer_gnp_large_shared_bottleneck best epoch: 86 val_loss: -2.98053588682008\n",
      "\n",
      "--- Loading 30%har/transformer_gnp_large_shared_bottleneck ---\n",
      "\n",
      "30%har/transformer_gnp_large_shared_bottleneck best epoch: 87 val_loss: -4.5797279249117215\n",
      "\n",
      "--- Loading 50%har/transformer_gnp_large_shared_bottleneck ---\n",
      "\n",
      "50%har/transformer_gnp_large_shared_bottleneck best epoch: 72 val_loss: -5.531349883959131\n",
      "\n",
      "--- Loading 70%har/transformer_gnp_large_shared_bottleneck ---\n",
      "\n",
      "70%har/transformer_gnp_large_shared_bottleneck best epoch: 98 val_loss: -7.103462460897501\n",
      "\n",
      "--- Loading 100%har/transformer_gnp_large_shared_bottleneck ---\n",
      "\n",
      "100%har/transformer_gnp_large_shared_bottleneck best epoch: 86 val_loss: -8.16725208180622\n"
     ]
    }
   ],
   "source": [
    "data_trainers_feat = {}\n",
    "datas = {p:get_timeseries_dataset(\"har\")(split=\"both\", data_perc=p, is_fill_mean=False)\n",
    "         for p in sampling_percentages}\n",
    "\n",
    "for p,data in datas.items():\n",
    "    data_trainers_feat.update(train_models_({\"{}%har\".format(int(p*100)): data}, \n",
    "                              models, \n",
    "                              NeuralProcessLoss,\n",
    "                             patience=15,\n",
    "                              chckpnt_dirname=chckpnt_dirname,\n",
    "                              max_epochs=N_EPOCHS,\n",
    "                              batch_size=BATCH_SIZE,\n",
    "                              is_retrain=IS_RETRAIN,\n",
    "                              callbacks=[],\n",
    "                              train_split=CVSplit(0.05),\n",
    "                              iterator_train__collate_fn=cntxt_trgt_collate(get_cntxt_trgt, is_repeat_batch=True),  \n",
    "                              iterator_valid__collate_fn=cntxt_trgt_collate(get_cntxt_trgt_test),\n",
    "                              mode=\"transformer\"))"
   ]
  },
  {
   "cell_type": "markdown",
   "metadata": {},
   "source": [
    "# No Joint"
   ]
  },
  {
   "cell_type": "code",
   "execution_count": 23,
   "metadata": {},
   "outputs": [],
   "source": [
    "from utils.data.helpers import make_ssl_dataset_\n",
    "from utils.data.ssldata import get_train_dev_test_ssl\n",
    "from skssl.training.loaders import get_supervised_iterator\n",
    "from skorch.dataset import Dataset"
   ]
  },
  {
   "cell_type": "code",
   "execution_count": 24,
   "metadata": {},
   "outputs": [
    {
     "data": {
      "text/plain": [
       "dict_keys(['50%har_600%lab/bi_rnn_delta', '50%har_600%lab/feature_mlp', '50%har_1200%lab/bi_rnn_delta', '50%har_1200%lab/feature_mlp', '50%har_1%lab/bi_rnn_delta', '50%har_1%lab/feature_mlp', '50%har_5%lab/bi_rnn_delta', '50%har_5%lab/feature_mlp', '50%har_10%lab/bi_rnn_delta', '50%har_10%lab/feature_mlp', '50%har_30%lab/bi_rnn_delta', '50%har_30%lab/feature_mlp', '50%har_50%lab/bi_rnn_delta', '50%har_50%lab/feature_mlp'])"
      ]
     },
     "execution_count": 24,
     "metadata": {},
     "output_type": "execute_result"
    }
   ],
   "source": [
    "data_trainers.keys()"
   ]
  },
  {
   "cell_type": "code",
   "execution_count": 25,
   "metadata": {},
   "outputs": [],
   "source": [
    "class FeatureMLP(nn.Module):\n",
    "\n",
    "    def __init__(self, feat_size, y_dim, output_size, **kwargs):\n",
    "        super().__init__()\n",
    "        self.out = MLP(feat_size+y_dim*4, output_size, **kwargs)\n",
    "\n",
    "    def forward(self, X, X_feat, y=None):\n",
    "\n",
    "        if y is not None:\n",
    "            # is there's y then that's the actual input and X is time\n",
    "            X = y\n",
    "\n",
    "        outputs = self.out(torch.cat([X_feat, X.mean(-2), X.max(-2)[0], X.min(-2)[0], X.var(-2)], dim=-1))\n",
    "        return outputs"
   ]
  },
  {
   "cell_type": "code",
   "execution_count": 26,
   "metadata": {},
   "outputs": [],
   "source": [
    "models = dict(mlp_hand = partial(FeatureMLP, feat_size=256, y_dim=Y_DIM, output_size=N_TARGETS, hidden_size=128, \n",
    "                dropout=0.5, n_hidden_layers=3, is_res=True))"
   ]
  },
  {
   "cell_type": "code",
   "execution_count": 27,
   "metadata": {},
   "outputs": [
    {
     "name": "stdout",
     "output_type": "stream",
     "text": [
      "mlp_hand - N Param: 71302\n"
     ]
    }
   ],
   "source": [
    "from utils.helpers import count_parameters\n",
    "for k,v in models.items():\n",
    "    print(k, \"- N Param:\", count_parameters(v()))"
   ]
  },
  {
   "cell_type": "code",
   "execution_count": 28,
   "metadata": {},
   "outputs": [
    {
     "name": "stdout",
     "output_type": "stream",
     "text": [
      "\n",
      "--- Loading 50%har_600%lab/transformer_gnp_large_shared_bottleneck/feat_mlp_hand ---\n",
      "\n",
      "50%har_600%lab/transformer_gnp_large_shared_bottleneck/feat_mlp_hand best epoch: 100 val_loss: 0.8602534753915452\n",
      "\n",
      "--- Loading 50%har_1200%lab/transformer_gnp_large_shared_bottleneck/feat_mlp_hand ---\n",
      "\n",
      "50%har_1200%lab/transformer_gnp_large_shared_bottleneck/feat_mlp_hand best epoch: 100 val_loss: 0.5534121561624821\n",
      "\n",
      "--- Loading 50%har_1%lab/transformer_gnp_large_shared_bottleneck/feat_mlp_hand ---\n",
      "\n",
      "50%har_1%lab/transformer_gnp_large_shared_bottleneck/feat_mlp_hand best epoch: 67 val_loss: 0.3021506258328567\n",
      "\n",
      "--- Loading 50%har_5%lab/transformer_gnp_large_shared_bottleneck/feat_mlp_hand ---\n",
      "\n",
      "50%har_5%lab/transformer_gnp_large_shared_bottleneck/feat_mlp_hand best epoch: 16 val_loss: 0.2518727869189793\n",
      "\n",
      "--- Loading 50%har_10%lab/transformer_gnp_large_shared_bottleneck/feat_mlp_hand ---\n",
      "\n",
      "50%har_10%lab/transformer_gnp_large_shared_bottleneck/feat_mlp_hand best epoch: 18 val_loss: 0.1770280350011438\n",
      "\n",
      "--- Loading 50%har_30%lab/transformer_gnp_large_shared_bottleneck/feat_mlp_hand ---\n",
      "\n",
      "50%har_30%lab/transformer_gnp_large_shared_bottleneck/feat_mlp_hand best epoch: 36 val_loss: 0.15646432090864928\n",
      "\n",
      "--- Loading 50%har_50%lab/transformer_gnp_large_shared_bottleneck/feat_mlp_hand ---\n",
      "\n",
      "50%har_50%lab/transformer_gnp_large_shared_bottleneck/feat_mlp_hand best epoch: 14 val_loss: 0.16361097501502977\n"
     ]
    }
   ],
   "source": [
    "for k, trainer in data_trainers_feat.items():\n",
    "    if \"50%\" not in k: #and \"100%\" not in k:\n",
    "        continue # only 100%  and 50% for now\n",
    "    \n",
    "    for label_perc in label_percentages:\n",
    "        samplig_perc = float(k.split(\"%\")[0]) / 100\n",
    "        n_train = datas[samplig_perc].n_train\n",
    "        model_name = k.split(\"/\")[1]\n",
    "        data_train, _, data_test = get_train_dev_test_ssl(\"har\", n_labels=label_perc, \n",
    "                                                          data_perc=samplig_perc, \n",
    "                                                          dev_size=0,\n",
    "                                                          transformed_file=chckpnt_dirname+k+\"/transformed_data.npy\")\n",
    "\n",
    "        X_train, X_test, Y_train, Y_test = data_train.data, data_test.data, data_train.targets.squeeze(), data_test.targets.squeeze()\n",
    "\n",
    "        data_trainers.update(train_models_({\"{}%har_{}%lab\".format(int(samplig_perc*100), int(label_perc*100)): (Dataset(X={\"X_feat\":X_train.astype(np.float32), \n",
    "                                                                       \"X\":datas[samplig_perc].data[:n_train].astype(np.float32)}, \n",
    "                                                                    y=torch.from_numpy(Y_train).long()), \n",
    "                                                            Dataset(X={\"X_feat\":X_test.astype(np.float32), \n",
    "                                                                       \"X\":datas[samplig_perc].data[n_train:].astype(np.float32)}, \n",
    "                                                                    y=torch.from_numpy(Y_test).long()))}, \n",
    "                                                   {model_name +\"/feat_\"+ name: partial(m, feat_size=X_train.shape[-1]) for name,m in models.items()}, \n",
    "                                                     chckpnt_dirname=chckpnt_dirname,\n",
    "                                                      max_epochs=N_EPOCHS,\n",
    "                                                      batch_size=BATCH_SIZE,\n",
    "                                                     is_retrain=IS_RETRAIN,\n",
    "                                                   iterator_train=get_supervised_iterator,\n",
    "                                                     callbacks=[]))\n"
   ]
  },
  {
   "cell_type": "code",
   "execution_count": 29,
   "metadata": {},
   "outputs": [
    {
     "name": "stdout",
     "output_type": "stream",
     "text": [
      "50%har_600%lab/bi_rnn_delta epoch: 25 val_loss: 1.7031053005738868 val_acc: 0.28944689514760774\n",
      "50%har_600%lab/feature_mlp epoch: 100 val_loss: 1.2070192208644452 val_acc: 0.5727858839497795\n",
      "50%har_1200%lab/bi_rnn_delta epoch: 34 val_loss: 1.468012556610651 val_acc: 0.4896504920257889\n",
      "50%har_1200%lab/feature_mlp epoch: 100 val_loss: 0.9724344174094147 val_acc: 0.6369189005768578\n",
      "50%har_1%lab/bi_rnn_delta epoch: 68 val_loss: 1.1848216887688612 val_acc: 0.6335256192738378\n",
      "50%har_1%lab/feature_mlp epoch: 90 val_loss: 0.6480910628376713 val_acc: 0.7475398710553105\n",
      "50%har_5%lab/bi_rnn_delta epoch: 37 val_loss: 0.5261391364480424 val_acc: 0.839837122497455\n",
      "50%har_5%lab/feature_mlp epoch: 34 val_loss: 0.6083724190511661 val_acc: 0.7553444180522565\n",
      "50%har_10%lab/bi_rnn_delta epoch: 52 val_loss: 0.29275474525687245 val_acc: 0.8985408890397014\n",
      "50%har_10%lab/feature_mlp epoch: 43 val_loss: 0.4748540673775312 val_acc: 0.8177807940278249\n",
      "50%har_30%lab/bi_rnn_delta epoch: 16 val_loss: 0.242327061919467 val_acc: 0.9070240922972514\n",
      "50%har_30%lab/feature_mlp epoch: 43 val_loss: 0.38917470055189546 val_acc: 0.8601968103155752\n",
      "50%har_50%lab/bi_rnn_delta epoch: 30 val_loss: 0.22852476952963455 val_acc: 0.9124533423820834\n",
      "50%har_50%lab/feature_mlp epoch: 39 val_loss: 0.3619322175691603 val_acc: 0.8710553104852392\n",
      "50%har_600%lab/transformer_gnp_large_shared_bottleneck/feat_mlp_hand epoch: 100 val_loss: 0.8602534753915452 val_acc: 0.6257210722768918\n",
      "50%har_1200%lab/transformer_gnp_large_shared_bottleneck/feat_mlp_hand epoch: 100 val_loss: 0.5534121561624821 val_acc: 0.7417712928401764\n",
      "50%har_1%lab/transformer_gnp_large_shared_bottleneck/feat_mlp_hand epoch: 67 val_loss: 0.3021506258328567 val_acc: 0.8903970139124533\n",
      "50%har_5%lab/transformer_gnp_large_shared_bottleneck/feat_mlp_hand epoch: 16 val_loss: 0.2518727869189793 val_acc: 0.9039701391245334\n",
      "50%har_10%lab/transformer_gnp_large_shared_bottleneck/feat_mlp_hand epoch: 18 val_loss: 0.1770280350011438 val_acc: 0.9229725144214456\n",
      "50%har_30%lab/transformer_gnp_large_shared_bottleneck/feat_mlp_hand epoch: 36 val_loss: 0.15646432090864928 val_acc: 0.9429928741092637\n",
      "50%har_50%lab/transformer_gnp_large_shared_bottleneck/feat_mlp_hand epoch: 14 val_loss: 0.16361097501502977 val_acc: 0.9324737020699015\n"
     ]
    }
   ],
   "source": [
    "for k,t in data_trainers.items():\n",
    "    for e, h in enumerate(t.history[::-1]):\n",
    "        if h[\"valid_loss_best\"]:\n",
    "            print(k, \"epoch:\", len(t.history)-e, \n",
    "                  \"val_loss:\", h[\"valid_loss\"], \n",
    "                  \"val_acc:\", h[\"valid_acc\"])\n",
    "            break"
   ]
  },
  {
   "cell_type": "markdown",
   "metadata": {},
   "source": [
    "## SSL Evaluation"
   ]
  },
  {
   "cell_type": "code",
   "execution_count": 30,
   "metadata": {},
   "outputs": [],
   "source": [
    "from skssl.classifiers import LabelSpreading\n",
    "from joblib import dump, load\n",
    "from skssl.meta import SelfTrainingMeta\n",
    "from sklearn.neural_network import MLPClassifier\n"
   ]
  },
  {
   "cell_type": "code",
   "execution_count": 31,
   "metadata": {},
   "outputs": [
    {
     "name": "stdout",
     "output_type": "stream",
     "text": [
      "Label Spreading on 600% of data 0.6457414319647099\n",
      "Label Spreading on 1200% of data 0.7804546996946047\n",
      "Label Spreading on 1.0% of data 0.8951476077366813\n",
      "Label Spreading on 5.0% of data 0.9222938581608415\n",
      "Label Spreading on 10.0% of data 0.9233118425517476\n",
      "Label Spreading on 30.0% of data 0.9270444519850696\n",
      "Label Spreading on 50.0% of data 0.9270444519850696\n"
     ]
    }
   ],
   "source": [
    "for k, trainer in data_trainers_feat.items():\n",
    "    if \"50%\" not in k: #and \"100%\" not in k:\n",
    "        continue # only 100%  and 50% for now\n",
    "        \n",
    "    for label_perc in label_percentages:\n",
    "        samplig_perc = float(k.split(\"%\")[0]) / 100\n",
    "        n_train = datas[samplig_perc].n_train\n",
    "        model_name = k.split(\"/\")[1]\n",
    "        \n",
    "        data_train, _, data_test = get_train_dev_test_ssl(\"har\", n_labels=label_perc, \n",
    "                                                              data_perc=samplig_perc, \n",
    "                                                              dev_size=0,\n",
    "                                                              transformed_file=chckpnt_dirname+k+\"/transformed_data.npy\")\n",
    "        \n",
    "        X_test = np.concatenate([data_test.data, \n",
    "                                 datas[samplig_perc].data[n_train:].mean(1), \n",
    "                                  datas[samplig_perc].data[n_train:].min(1), \n",
    "                                 datas[samplig_perc].data[n_train:].max(1), \n",
    "                                  datas[samplig_perc].data[n_train:].std(1)], axis=-1)\n",
    "        \n",
    "        save_name = \"{}%har_{}%lab/{}/feature_labelspread\".format(int(samplig_perc*100), int(label_perc*100), model_name)\n",
    "        file = chckpnt_dirname+save_name +\".joblib\"\n",
    "\n",
    "        if IS_RETRAIN:\n",
    "            X_train = np.concatenate([data_train.data, \n",
    "                                      datas[samplig_perc].data[:n_train].mean(1), \n",
    "                                      datas[samplig_perc].data[:n_train].min(1), \n",
    "                                      datas[samplig_perc].data[:n_train].max(1), \n",
    "                                      datas[samplig_perc].data[:n_train].std(1)], axis=-1)\n",
    "            Y_train = data_train.targets.flatten()\n",
    "            Y_test_unsup = -1*np.ones_like(data_test.targets.flatten())\n",
    "        \n",
    "            clf = LabelSpreading(kernel=\"rbf\", gamma=4.001, n_jobs=-1, max_iter=50, alpha=0.1565)\n",
    "            clf.fit(np.concatenate([X_train, X_test], axis=0),  \n",
    "                    np.concatenate([Y_train, Y_test_unsup], axis=0))\n",
    "            dump(clf, file)\n",
    "\n",
    "        else:\n",
    "\n",
    "            clf = load(file)\n",
    "            \n",
    "        \n",
    "        score = clf.score(X_test, data_test.targets.flatten())\n",
    "        print(\"Label Spreading on {}% of data\".format(label_perc*100), \n",
    "              score)\n",
    "        data_trainers[save_name] = score\n",
    "        \n",
    "        "
   ]
  },
  {
   "cell_type": "markdown",
   "metadata": {},
   "source": [
    "## Joint Learning "
   ]
  },
  {
   "cell_type": "code",
   "execution_count": 32,
   "metadata": {},
   "outputs": [],
   "source": [
    "chckpnt_dirname_old=\"results/challenge/har/\"\n",
    "chckpnt_dirname=\"results/challenge/har_new/\"\n",
    "\n",
    "data_both = get_timeseries_dataset(\"har\")(split=\"both\")\n",
    "\n",
    "from skssl.utils.helpers import HyperparameterInterpolator\n",
    "\n",
    "n_steps_per_epoch = len(data_both)//BATCH_SIZE\n",
    "get_lambda_clf=HyperparameterInterpolator(1, 10, N_EPOCHS*n_steps_per_epoch, mode=\"linear\")"
   ]
  },
  {
   "cell_type": "code",
   "execution_count": 33,
   "metadata": {},
   "outputs": [],
   "source": [
    "def load_pretrained_(models, sampling_percentages):\n",
    "    # ALREADY INITALIZE TO BE ABLE TO LOAD\n",
    "    models[\"ssl_classifier_gnp_large_shared_bottleneck\"] = partial(GlobalNeuralProcess, **kwargs)()\n",
    "\n",
    "    kwargs_bis = deepcopy(kwargs)\n",
    "    kwargs_bis[\"Classifier\"] = None\n",
    "\n",
    "    models[\"transformer_gnp_large_shared_bottleneck\"] = partial(GlobalNeuralProcess, **kwargs_bis)()\n",
    "\n",
    "    # load all transformers\n",
    "    loaded_models = {}\n",
    "    for sampling_perc in sampling_percentages:\n",
    "        for k, m in models.items():\n",
    "            if \"transformer\" not in k:\n",
    "                continue\n",
    "\n",
    "            out = train_models_({\"{}%har\".format(int(sampling_perc*100)): \n",
    "                                                (None, None)}, \n",
    "                                  {k :m },\n",
    "                                   chckpnt_dirname=chckpnt_dirname_old,\n",
    "                                   is_retrain=False)\n",
    "\n",
    "            pretrained_model = out[list(out.keys())[0]].module_\n",
    "            model_dict = models[k.replace(\"transformer\", \"ssl_classifier\")].state_dict()\n",
    "            model_dict.update(pretrained_model.state_dict())\n",
    "            models[k.replace(\"transformer\", \"ssl_classifier\")].load_state_dict(model_dict)"
   ]
  },
  {
   "cell_type": "code",
   "execution_count": 34,
   "metadata": {},
   "outputs": [],
   "source": [
    "from copy import deepcopy\n",
    "\n",
    "models = {}\n",
    "\n",
    "min_std=5e-3\n",
    "\n",
    "unet = partial(UnetCNN,\n",
    "               Conv=torch.nn.Conv1d,\n",
    "               Pool=torch.nn.MaxPool1d,\n",
    "               upsample_mode=\"linear\",\n",
    "               n_layers=18,\n",
    "               is_double_conv=True,\n",
    "               is_depth_separable=True,\n",
    "               Normalization=torch.nn.BatchNorm1d,\n",
    "               is_chan_last=True,\n",
    "               bottleneck=None,\n",
    "               kernel_size=7,\n",
    "               max_nchannels=256,\n",
    "              is_force_same_bottleneck=True,\n",
    "               _is_summary=True,\n",
    "              )\n",
    "\n",
    "kwargs = dict(x_dim=X_DIM, \n",
    "              y_dim=Y_DIM,\n",
    "              min_std=min_std,\n",
    "                n_tmp_queries=128,\n",
    "                r_dim=64,\n",
    "              keys_to_tmp_attn=partial(SetConv, RadialBasisFunc=GaussianRBF),\n",
    "              TmpSelfAttn=unet,\n",
    "              tmp_to_queries_attn=partial(SetConv, RadialBasisFunc=GaussianRBF),\n",
    "              is_skip_tmp=False,\n",
    "              is_use_x=False,\n",
    "              get_cntxt_trgt=precomputed_cntxt_trgt_split,\n",
    "              is_encode_xy=False,\n",
    "             Classifier=partial(MLP, input_size=256+Y_DIM*4, output_size=N_TARGETS, \n",
    "                                dropout=0., hidden_size=128, n_hidden_layers=3, is_res=True))\n",
    "\n",
    "models[\"ssl_classifier_gnp_large_shared_bottleneck\"] = partial(GlobalNeuralProcess, **kwargs)\n",
    "\n",
    "kwargs_bis = deepcopy(kwargs)\n",
    "kwargs_bis[\"Classifier\"] = None\n",
    "\n",
    "models[\"transformer_gnp_large_shared_bottleneck\"] = partial(GlobalNeuralProcess, **kwargs_bis)"
   ]
  },
  {
   "cell_type": "code",
   "execution_count": 35,
   "metadata": {},
   "outputs": [
    {
     "name": "stdout",
     "output_type": "stream",
     "text": [
      "\n",
      "--- Loading 50%har/transformer_gnp_large_shared_bottleneck ---\n",
      "\n",
      "50%har/transformer_gnp_large_shared_bottleneck best epoch: 72 val_loss: -5.531349883959131\n",
      "\n",
      "--- Loading har50%_lab600%_run0/ssl_classifier_gnp_large_shared_bottleneck_finetune ---\n",
      "\n",
      "har50%_lab600%_run0/ssl_classifier_gnp_large_shared_bottleneck_finetune best epoch: 1 val_loss: 1.7390090251802226\n",
      "\n",
      "--- Loading 50%har/transformer_gnp_large_shared_bottleneck ---\n",
      "\n",
      "50%har/transformer_gnp_large_shared_bottleneck best epoch: 72 val_loss: -5.531349883959131\n",
      "\n",
      "--- Loading har50%_lab1200%_run0/ssl_classifier_gnp_large_shared_bottleneck_finetune ---\n",
      "\n",
      "har50%_lab1200%_run0/ssl_classifier_gnp_large_shared_bottleneck_finetune best epoch: 4 val_loss: 1.7610424022816948\n",
      "\n",
      "--- Loading 50%har/transformer_gnp_large_shared_bottleneck ---\n",
      "\n",
      "50%har/transformer_gnp_large_shared_bottleneck best epoch: 72 val_loss: -5.531349883959131\n",
      "\n",
      "--- Loading har50%_lab1%_run0/ssl_classifier_gnp_large_shared_bottleneck_finetune ---\n",
      "\n",
      "har50%_lab1%_run0/ssl_classifier_gnp_large_shared_bottleneck_finetune best epoch: 1 val_loss: 0.7200405452871954\n",
      "\n",
      "--- Loading 50%har/transformer_gnp_large_shared_bottleneck ---\n",
      "\n",
      "50%har/transformer_gnp_large_shared_bottleneck best epoch: 72 val_loss: -5.531349883959131\n",
      "\n",
      "--- Loading har50%_lab5%_run0/ssl_classifier_gnp_large_shared_bottleneck_finetune ---\n",
      "\n",
      "har50%_lab5%_run0/ssl_classifier_gnp_large_shared_bottleneck_finetune best epoch: 1 val_loss: 0.21118400482796504\n",
      "\n",
      "--- Loading 50%har/transformer_gnp_large_shared_bottleneck ---\n",
      "\n",
      "50%har/transformer_gnp_large_shared_bottleneck best epoch: 72 val_loss: -5.531349883959131\n",
      "\n",
      "--- Loading har50%_lab10%_run0/ssl_classifier_gnp_large_shared_bottleneck_finetune ---\n",
      "\n",
      "har50%_lab10%_run0/ssl_classifier_gnp_large_shared_bottleneck_finetune best epoch: 4 val_loss: 0.18515581877546308\n",
      "\n",
      "--- Loading 50%har/transformer_gnp_large_shared_bottleneck ---\n",
      "\n",
      "50%har/transformer_gnp_large_shared_bottleneck best epoch: 72 val_loss: -5.531349883959131\n",
      "\n",
      "--- Loading har50%_lab30%_run0/ssl_classifier_gnp_large_shared_bottleneck_finetune ---\n",
      "\n",
      "har50%_lab30%_run0/ssl_classifier_gnp_large_shared_bottleneck_finetune best epoch: 7 val_loss: 0.15340555996501667\n",
      "\n",
      "--- Loading 50%har/transformer_gnp_large_shared_bottleneck ---\n",
      "\n",
      "50%har/transformer_gnp_large_shared_bottleneck best epoch: 72 val_loss: -5.531349883959131\n",
      "\n",
      "--- Loading har50%_lab50%_run0/ssl_classifier_gnp_large_shared_bottleneck_finetune ---\n",
      "\n",
      "har50%_lab50%_run0/ssl_classifier_gnp_large_shared_bottleneck_finetune best epoch: 3 val_loss: 0.13518715301205597\n",
      "\n",
      "--- Loading 50%har/transformer_gnp_large_shared_bottleneck ---\n",
      "\n",
      "50%har/transformer_gnp_large_shared_bottleneck best epoch: 72 val_loss: -5.531349883959131\n",
      "\n",
      "--- Loading har50%_lab600%_run1/ssl_classifier_gnp_large_shared_bottleneck_finetune ---\n",
      "\n",
      "har50%_lab600%_run1/ssl_classifier_gnp_large_shared_bottleneck_finetune best epoch: 1 val_loss: 1.7322869371227139\n",
      "\n",
      "--- Loading 50%har/transformer_gnp_large_shared_bottleneck ---\n",
      "\n",
      "50%har/transformer_gnp_large_shared_bottleneck best epoch: 72 val_loss: -5.531349883959131\n",
      "\n",
      "--- Loading har50%_lab1200%_run1/ssl_classifier_gnp_large_shared_bottleneck_finetune ---\n",
      "\n",
      "har50%_lab1200%_run1/ssl_classifier_gnp_large_shared_bottleneck_finetune best epoch: 4 val_loss: 1.7546192825467537\n",
      "\n",
      "--- Loading 50%har/transformer_gnp_large_shared_bottleneck ---\n",
      "\n",
      "50%har/transformer_gnp_large_shared_bottleneck best epoch: 72 val_loss: -5.531349883959131\n",
      "\n",
      "--- Loading har50%_lab1%_run1/ssl_classifier_gnp_large_shared_bottleneck_finetune ---\n",
      "\n",
      "har50%_lab1%_run1/ssl_classifier_gnp_large_shared_bottleneck_finetune best epoch: 2 val_loss: 0.7758566811402705\n",
      "\n",
      "--- Loading 50%har/transformer_gnp_large_shared_bottleneck ---\n",
      "\n",
      "50%har/transformer_gnp_large_shared_bottleneck best epoch: 72 val_loss: -5.531349883959131\n",
      "\n",
      "--- Loading har50%_lab5%_run1/ssl_classifier_gnp_large_shared_bottleneck_finetune ---\n",
      "\n",
      "har50%_lab5%_run1/ssl_classifier_gnp_large_shared_bottleneck_finetune best epoch: 1 val_loss: 0.2090293009239899\n",
      "\n",
      "--- Loading 50%har/transformer_gnp_large_shared_bottleneck ---\n",
      "\n",
      "50%har/transformer_gnp_large_shared_bottleneck best epoch: 72 val_loss: -5.531349883959131\n",
      "\n",
      "--- Loading har50%_lab10%_run1/ssl_classifier_gnp_large_shared_bottleneck_finetune ---\n",
      "\n",
      "har50%_lab10%_run1/ssl_classifier_gnp_large_shared_bottleneck_finetune best epoch: 2 val_loss: 0.17287611977545173\n",
      "\n",
      "--- Loading 50%har/transformer_gnp_large_shared_bottleneck ---\n",
      "\n",
      "50%har/transformer_gnp_large_shared_bottleneck best epoch: 72 val_loss: -5.531349883959131\n",
      "\n",
      "--- Loading har50%_lab30%_run1/ssl_classifier_gnp_large_shared_bottleneck_finetune ---\n",
      "\n",
      "har50%_lab30%_run1/ssl_classifier_gnp_large_shared_bottleneck_finetune best epoch: 7 val_loss: 0.13708012452722607\n",
      "\n",
      "--- Loading 50%har/transformer_gnp_large_shared_bottleneck ---\n",
      "\n",
      "50%har/transformer_gnp_large_shared_bottleneck best epoch: 72 val_loss: -5.531349883959131\n",
      "\n",
      "--- Loading har50%_lab50%_run1/ssl_classifier_gnp_large_shared_bottleneck_finetune ---\n",
      "\n",
      "har50%_lab50%_run1/ssl_classifier_gnp_large_shared_bottleneck_finetune best epoch: 8 val_loss: 0.1306835345425847\n",
      "\n",
      "--- Loading 50%har/transformer_gnp_large_shared_bottleneck ---\n",
      "\n",
      "50%har/transformer_gnp_large_shared_bottleneck best epoch: 72 val_loss: -5.531349883959131\n",
      "\n",
      "--- Loading har50%_lab600%_run2/ssl_classifier_gnp_large_shared_bottleneck_finetune ---\n",
      "\n",
      "har50%_lab600%_run2/ssl_classifier_gnp_large_shared_bottleneck_finetune best epoch: 8 val_loss: 1.7784707314045016\n",
      "\n",
      "--- Loading 50%har/transformer_gnp_large_shared_bottleneck ---\n",
      "\n",
      "50%har/transformer_gnp_large_shared_bottleneck best epoch: 72 val_loss: -5.531349883959131\n",
      "\n",
      "--- Loading har50%_lab1200%_run2/ssl_classifier_gnp_large_shared_bottleneck_finetune ---\n",
      "\n",
      "har50%_lab1200%_run2/ssl_classifier_gnp_large_shared_bottleneck_finetune best epoch: 11 val_loss: 1.6985655392393404\n",
      "\n",
      "--- Loading 50%har/transformer_gnp_large_shared_bottleneck ---\n",
      "\n",
      "50%har/transformer_gnp_large_shared_bottleneck best epoch: 72 val_loss: -5.531349883959131\n",
      "\n",
      "--- Loading har50%_lab1%_run2/ssl_classifier_gnp_large_shared_bottleneck_finetune ---\n",
      "\n",
      "har50%_lab1%_run2/ssl_classifier_gnp_large_shared_bottleneck_finetune best epoch: 2 val_loss: 0.7533347414111865\n",
      "\n",
      "--- Loading 50%har/transformer_gnp_large_shared_bottleneck ---\n",
      "\n",
      "50%har/transformer_gnp_large_shared_bottleneck best epoch: 72 val_loss: -5.531349883959131\n",
      "\n",
      "--- Loading har50%_lab5%_run2/ssl_classifier_gnp_large_shared_bottleneck_finetune ---\n",
      "\n",
      "har50%_lab5%_run2/ssl_classifier_gnp_large_shared_bottleneck_finetune best epoch: 1 val_loss: 0.1785296278967468\n",
      "\n",
      "--- Loading 50%har/transformer_gnp_large_shared_bottleneck ---\n",
      "\n",
      "50%har/transformer_gnp_large_shared_bottleneck best epoch: 72 val_loss: -5.531349883959131\n",
      "\n",
      "--- Loading har50%_lab10%_run2/ssl_classifier_gnp_large_shared_bottleneck_finetune ---\n",
      "\n",
      "har50%_lab10%_run2/ssl_classifier_gnp_large_shared_bottleneck_finetune best epoch: 1 val_loss: 0.20669979753031503\n",
      "\n",
      "--- Loading 50%har/transformer_gnp_large_shared_bottleneck ---\n",
      "\n",
      "50%har/transformer_gnp_large_shared_bottleneck best epoch: 72 val_loss: -5.531349883959131\n",
      "\n",
      "--- Loading har50%_lab30%_run2/ssl_classifier_gnp_large_shared_bottleneck_finetune ---\n",
      "\n",
      "har50%_lab30%_run2/ssl_classifier_gnp_large_shared_bottleneck_finetune best epoch: 2 val_loss: 0.12918115916153466\n",
      "\n",
      "--- Loading 50%har/transformer_gnp_large_shared_bottleneck ---\n",
      "\n",
      "50%har/transformer_gnp_large_shared_bottleneck best epoch: 72 val_loss: -5.531349883959131\n",
      "\n",
      "--- Loading har50%_lab50%_run2/ssl_classifier_gnp_large_shared_bottleneck_finetune ---\n",
      "\n",
      "har50%_lab50%_run2/ssl_classifier_gnp_large_shared_bottleneck_finetune best epoch: 3 val_loss: 0.1595142249297319\n"
     ]
    }
   ],
   "source": [
    "from skorch.callbacks import Freezer, LRScheduler\n",
    "import random\n",
    "import torch.nn as nn\n",
    "from skssl.transformers import GlobalNeuralProcess, NeuralProcessLoss, AttentiveNeuralProcess, NeuralProcessSSLLoss\n",
    "from skssl.utils.helpers import rescale_range\n",
    "from skssl.predefined import UnetCNN, CNN, MLP, SparseSetConv, SetConv, MlpRBF, GaussianRBF, BatchSparseSetConv\n",
    "from skssl.transformers.neuralproc.datasplit import precomputed_cntxt_trgt_split\n",
    "from utils.helpers import count_parameters\n",
    "min_std=5e-3\n",
    "\n",
    "\n",
    "for run in range(3):\n",
    "    for sampling_perc in [0.5]:\n",
    "        for label_perc in label_percentages:\n",
    "            is_retrain = IS_RETRAIN\n",
    "            if label_perc == 1: #already computed previous cell\n",
    "                is_retrain = False\n",
    "\n",
    "            load_pretrained_(models, [sampling_perc])\n",
    "\n",
    "            get_lambda_clf=HyperparameterInterpolator(1, 50, N_EPOCHS*n_steps_per_epoch, mode=\"linear\")\n",
    "\n",
    "            data_train, _, data_test = get_train_dev_test_ssl(\"har\", \n",
    "                                                              n_labels=label_perc, \n",
    "                                                              data_perc=sampling_perc, \n",
    "                                                              dev_size=0,\n",
    "                                                              seed=random.randint(0,10000),\n",
    "                                                              is_augment=True)\n",
    "\n",
    "            # add test as unlabeled data\n",
    "            data_train.data = np.concatenate([data_train.data, data_test.data], axis=0)\n",
    "            data_train.targets = np.concatenate([data_train.targets, -1*np.ones_like(data_test.targets)], axis=0)\n",
    "            data_train.indcs = np.concatenate([data_train.indcs, data_test.indcs], axis=0)\n",
    "\n",
    "            data_trainers.update(train_models_({\"har{}%_lab{}%_run{}\".format(int(sampling_perc*100), int(label_perc*100), run): \n",
    "                                                (data_train, data_test)}, \n",
    "                                  {k + \"_finetune\" :m for k,m in models.items() if \"ssl_classifier\" in k}, \n",
    "                                  criterion=partial(NeuralProcessSSLLoss, \n",
    "                                                    get_lambda_sup=lambda: get_lambda_clf(True),\n",
    "                                                    n_max_elements=int(128*sampling_perc),\n",
    "                                                    label_perc=(label_perc * data_train.n_train)/data_train.n_total, # label perc is lower ebcause cocnat to test\n",
    "                                                    min_sigma=min_std,\n",
    "                                                    is_unsup_forall=False,\n",
    "                                                    is_ssl_only=False,\n",
    "                                                    get_lambda_unsup=lambda: 1,\n",
    "                                                     get_lambda_ent=lambda: 0.5,  # both do something similar\n",
    "                                                     get_lambda_neg_cons=lambda: 0.5,\n",
    "                                                    ),\n",
    "                                    patience=15,\n",
    "                                  chckpnt_dirname=chckpnt_dirname,\n",
    "                                  max_epochs=N_EPOCHS,\n",
    "                                  batch_size=BATCH_SIZE,\n",
    "                                  is_retrain=IS_RETRAIN,\n",
    "                                    is_monitor_acc=True,\n",
    "                                  callbacks=[],\n",
    "                                  iterator_train__collate_fn=cntxt_trgt_collate(get_cntxt_trgt, is_repeat_batch=True),  \n",
    "                                  iterator_valid__collate_fn=cntxt_trgt_collate(get_cntxt_trgt_feat),\n",
    "                                              ))"
   ]
  },
  {
   "cell_type": "code",
   "execution_count": 37,
   "metadata": {},
   "outputs": [],
   "source": [
    "def preprocess_key(k):\n",
    "    if \"_run\" not in k:\n",
    "        splitted = k.split(\"/\")\n",
    "        k = splitted[0] + \"_run0/\" + \"/\".join(splitted[1:])\n",
    "    return k"
   ]
  },
  {
   "cell_type": "code",
   "execution_count": 85,
   "metadata": {},
   "outputs": [],
   "source": [
    "def keep_only_digits(s):\n",
    "    return int(\"\".join(c for c in s if c.isdigit()))\n",
    "\n",
    "import pandas as pd\n",
    "out = pd.Series({preprocess_key(k):v.history[-1][\"valid_acc\"] if not isinstance(v, float) else v\n",
    "                 for k,v in data_trainers.items()\n",
    "                }).reset_index(name=\"accuracy\")\n",
    "splitted = out[\"index\"].str.split(\"/\", expand = True, n=1)\n",
    "out[\"meta\"] = splitted[0]\n",
    "out[\"models\"] = splitted[1]\n",
    "\n",
    "splitted2 = out[\"meta\"].str.split(\"_run\", expand = True)\n",
    "out[\"meta\"] = splitted2[0]\n",
    "out[\"run\"] = splitted2[1]\n",
    "\n",
    "splitted3 = out[\"meta\"].str.split(\"_\", expand = True)\n",
    "#out[\"data sample\"] = splitted3[0].map(keep_only_digits)\n",
    "out[\"lab\"] = splitted3[1].map(keep_only_digits)\n",
    "\n",
    "out.drop(columns =[\"index\"], inplace = True) \n",
    "out.drop(columns =[\"meta\"], inplace = True) \n",
    "\n",
    "out = out.groupby([\"models\", \"lab\"]).mean()\n",
    "\n",
    "\n",
    "\n",
    "out.reset_index(drop=False, inplace=True)\n",
    "\n",
    "out.replace({\"bi_rnn_delta\": \"BiRNN Interval\", \n",
    "                     \"bi_rnn_meanfill\":\"BiRNN Mean Fill\",\n",
    "                     \"feature_mlp\":\"Simple Features\",\n",
    "                     \"transformer_gnp_large_shared_bottleneck/feature_labelspread\":\"UnetNP Features + Label Spreading\",\n",
    "                   \"transformer_gnp_large_shared_bottleneck/feat_mlp_hand\":\"UnetNP Features + MLP\",\n",
    "                   \"ssl_classifier_gnp_large_shared_bottleneck_finetune\":\"Joint UnetNP\",\n",
    "            600:100/10299.,\n",
    "            1200:200/10299.},\n",
    "                                 inplace = True)\n",
    "\n",
    "\n",
    "\n",
    "out=out.rename(columns={\"models\":\"Models\", \"accuracy\":\"Accuracy\", \"data sample\":\"Sample Percentage (%)\",\n",
    "                       \"lab\":\"Label Percentage (%)\"})\n",
    "\n",
    "\n",
    "df = out"
   ]
  },
  {
   "cell_type": "code",
   "execution_count": 86,
   "metadata": {},
   "outputs": [
    {
     "data": {
      "text/html": [
       "<div>\n",
       "<style scoped>\n",
       "    .dataframe tbody tr th:only-of-type {\n",
       "        vertical-align: middle;\n",
       "    }\n",
       "\n",
       "    .dataframe tbody tr th {\n",
       "        vertical-align: top;\n",
       "    }\n",
       "\n",
       "    .dataframe thead th {\n",
       "        text-align: right;\n",
       "    }\n",
       "</style>\n",
       "<table border=\"1\" class=\"dataframe\">\n",
       "  <thead>\n",
       "    <tr style=\"text-align: right;\">\n",
       "      <th></th>\n",
       "      <th>Models</th>\n",
       "      <th>Label Percentage (%)</th>\n",
       "      <th>Accuracy</th>\n",
       "    </tr>\n",
       "  </thead>\n",
       "  <tbody>\n",
       "    <tr>\n",
       "      <th>0</th>\n",
       "      <td>BiRNN Interval</td>\n",
       "      <td>1.0</td>\n",
       "      <td>0.633526</td>\n",
       "    </tr>\n",
       "    <tr>\n",
       "      <th>1</th>\n",
       "      <td>BiRNN Interval</td>\n",
       "      <td>5.0</td>\n",
       "      <td>0.839837</td>\n",
       "    </tr>\n",
       "    <tr>\n",
       "      <th>2</th>\n",
       "      <td>BiRNN Interval</td>\n",
       "      <td>10.0</td>\n",
       "      <td>0.898541</td>\n",
       "    </tr>\n",
       "    <tr>\n",
       "      <th>3</th>\n",
       "      <td>BiRNN Interval</td>\n",
       "      <td>30.0</td>\n",
       "      <td>0.907024</td>\n",
       "    </tr>\n",
       "    <tr>\n",
       "      <th>4</th>\n",
       "      <td>BiRNN Interval</td>\n",
       "      <td>50.0</td>\n",
       "      <td>0.912453</td>\n",
       "    </tr>\n",
       "  </tbody>\n",
       "</table>\n",
       "</div>"
      ],
      "text/plain": [
       "           Models  Label Percentage (%)  Accuracy\n",
       "0  BiRNN Interval                   1.0  0.633526\n",
       "1  BiRNN Interval                   5.0  0.839837\n",
       "2  BiRNN Interval                  10.0  0.898541\n",
       "3  BiRNN Interval                  30.0  0.907024\n",
       "4  BiRNN Interval                  50.0  0.912453"
      ]
     },
     "execution_count": 86,
     "metadata": {},
     "output_type": "execute_result"
    }
   ],
   "source": [
    "out.head()"
   ]
  },
  {
   "cell_type": "code",
   "execution_count": 87,
   "metadata": {},
   "outputs": [],
   "source": [
    "import seaborn as sns"
   ]
  },
  {
   "cell_type": "code",
   "execution_count": 91,
   "metadata": {},
   "outputs": [
    {
     "data": {
      "text/plain": [
       "[6, 12, 0.01, 0.05, 0.1, 0.3, 0.5]"
      ]
     },
     "execution_count": 91,
     "metadata": {},
     "output_type": "execute_result"
    }
   ],
   "source": [
    "label_percentages"
   ]
  },
  {
   "cell_type": "code",
   "execution_count": 111,
   "metadata": {},
   "outputs": [],
   "source": []
  },
  {
   "cell_type": "code",
   "execution_count": 114,
   "metadata": {},
   "outputs": [
    {
     "data": {
      "text/plain": [
       "Text(-1, 0.95, '100% Data\\n    SOTA')"
      ]
     },
     "execution_count": 114,
     "metadata": {},
     "output_type": "execute_result"
    },
    {
     "data": {
      "image/png": "[encoded data removed]",
      "text/plain": [
       "<Figure size 986.4x595.44 with 1 Axes>"
      ]
     },
     "metadata": {
      "image/png": {
       "height": 520,
       "width": 838
      }
     },
     "output_type": "display_data"
    }
   ],
   "source": [
    "plt.rcParams['xtick.bottom'] = True\n",
    "plt.rcParams['ytick.left'] = True\n",
    "\n",
    "fig, ax = plt.subplots(1,1, figsize=(13.7,8.27))\n",
    "sns.set_style(\"white\")\n",
    "sns.set_context(\"talk\")\n",
    "sns.lineplot(data=df, x=\"Label Percentage (%)\", y=\"Accuracy\", hue=\"Models\", marker=\"o\", ax=ax)\n",
    "ax.set_xticks([l*100 for l in label_percentages[2:]])\n",
    "ax.set_ylim([0.2,1])\n",
    "sns.despine()\n",
    "ax.axhline(0.9357, ls='--', c=\"gray\")\n",
    "ax.text(-1,0.95, \"100% Data\\n    SOTA\", c=\"gray\")"
   ]
  },
  {
   "cell_type": "code",
   "execution_count": 46,
   "metadata": {},
   "outputs": [
    {
     "data": {
      "text/plain": [
       "Text(5, 0.95, 'SOTA')"
      ]
     },
     "execution_count": 46,
     "metadata": {},
     "output_type": "execute_result"
    },
    {
     "data": {
      "image/png": "[encoded data removed]",
      "text/plain": [
       "<Figure size 986.4x595.44 with 1 Axes>"
      ]
     },
     "metadata": {
      "image/png": {
       "height": 497,
       "width": 815
      },
      "needs_background": "light"
     },
     "output_type": "display_data"
    }
   ],
   "source": [
    "fig, ax = plt.subplots(1,1, figsize=(13.7,8.27))\n",
    "sns.set_style(\"white\")\n",
    "sns.set_context(\"talk\")\n",
    "sns.lineplot(data=df, x=\"Sample Percentage (%)\", y=\"Accuracy\", hue=\"Models\", marker=\"o\", ax=ax)\n",
    "ax.set_xticks(df[\"Sample Percentage (%)\"].unique())\n",
    "ax.set_ylim([0.182,1])\n",
    "sns.despine()\n",
    "ax.axhline(0.9357, ls='--', c=\"gray\")\n",
    "ax.text(5,0.95, \"SOTA\", c=\"gray\")"
   ]
  },
  {
   "cell_type": "code",
   "execution_count": null,
   "metadata": {},
   "outputs": [],
   "source": []
  },
  {
   "cell_type": "code",
   "execution_count": null,
   "metadata": {},
   "outputs": [],
   "source": []
  },
  {
   "cell_type": "code",
   "execution_count": 57,
   "metadata": {},
   "outputs": [
    {
     "data": {
      "text/html": [
       "<div>\n",
       "<style scoped>\n",
       "    .dataframe tbody tr th:only-of-type {\n",
       "        vertical-align: middle;\n",
       "    }\n",
       "\n",
       "    .dataframe tbody tr th {\n",
       "        vertical-align: top;\n",
       "    }\n",
       "\n",
       "    .dataframe thead th {\n",
       "        text-align: right;\n",
       "    }\n",
       "</style>\n",
       "<table border=\"1\" class=\"dataframe\">\n",
       "  <thead>\n",
       "    <tr style=\"text-align: right;\">\n",
       "      <th></th>\n",
       "      <th></th>\n",
       "      <th>accuracy</th>\n",
       "    </tr>\n",
       "    <tr>\n",
       "      <th>models</th>\n",
       "      <th>data sample</th>\n",
       "      <th></th>\n",
       "    </tr>\n",
       "  </thead>\n",
       "  <tbody>\n",
       "    <tr>\n",
       "      <th rowspan=\"6\" valign=\"top\">bi_rnn_delta</th>\n",
       "      <th>10%</th>\n",
       "      <td>0.862572</td>\n",
       "    </tr>\n",
       "    <tr>\n",
       "      <th>100%</th>\n",
       "      <td>0.922973</td>\n",
       "    </tr>\n",
       "    <tr>\n",
       "      <th>30%</th>\n",
       "      <td>0.904988</td>\n",
       "    </tr>\n",
       "    <tr>\n",
       "      <th>5%</th>\n",
       "      <td>0.808280</td>\n",
       "    </tr>\n",
       "    <tr>\n",
       "      <th>50%</th>\n",
       "      <td>0.922973</td>\n",
       "    </tr>\n",
       "    <tr>\n",
       "      <th>70%</th>\n",
       "      <td>0.913132</td>\n",
       "    </tr>\n",
       "    <tr>\n",
       "      <th rowspan=\"6\" valign=\"top\">bi_rnn_meanfill</th>\n",
       "      <th>10%</th>\n",
       "      <td>0.827961</td>\n",
       "    </tr>\n",
       "    <tr>\n",
       "      <th>100%</th>\n",
       "      <td>0.916525</td>\n",
       "    </tr>\n",
       "    <tr>\n",
       "      <th>30%</th>\n",
       "      <td>0.894469</td>\n",
       "    </tr>\n",
       "    <tr>\n",
       "      <th>5%</th>\n",
       "      <td>0.787920</td>\n",
       "    </tr>\n",
       "    <tr>\n",
       "      <th>50%</th>\n",
       "      <td>0.904649</td>\n",
       "    </tr>\n",
       "    <tr>\n",
       "      <th>70%</th>\n",
       "      <td>0.907024</td>\n",
       "    </tr>\n",
       "    <tr>\n",
       "      <th rowspan=\"6\" valign=\"top\">feature_mlp</th>\n",
       "      <th>10%</th>\n",
       "      <td>0.800475</td>\n",
       "    </tr>\n",
       "    <tr>\n",
       "      <th>100%</th>\n",
       "      <td>0.859518</td>\n",
       "    </tr>\n",
       "    <tr>\n",
       "      <th>30%</th>\n",
       "      <td>0.839158</td>\n",
       "    </tr>\n",
       "    <tr>\n",
       "      <th>5%</th>\n",
       "      <td>0.771293</td>\n",
       "    </tr>\n",
       "    <tr>\n",
       "      <th>50%</th>\n",
       "      <td>0.856804</td>\n",
       "    </tr>\n",
       "    <tr>\n",
       "      <th>70%</th>\n",
       "      <td>0.857482</td>\n",
       "    </tr>\n",
       "    <tr>\n",
       "      <th rowspan=\"6\" valign=\"top\">transformer_gnp_large_shared_bottleneck</th>\n",
       "      <th>10%</th>\n",
       "      <td>0.879199</td>\n",
       "    </tr>\n",
       "    <tr>\n",
       "      <th>100%</th>\n",
       "      <td>0.941636</td>\n",
       "    </tr>\n",
       "    <tr>\n",
       "      <th>30%</th>\n",
       "      <td>0.928741</td>\n",
       "    </tr>\n",
       "    <tr>\n",
       "      <th>5%</th>\n",
       "      <td>0.844927</td>\n",
       "    </tr>\n",
       "    <tr>\n",
       "      <th>50%</th>\n",
       "      <td>0.932474</td>\n",
       "    </tr>\n",
       "    <tr>\n",
       "      <th>70%</th>\n",
       "      <td>0.960977</td>\n",
       "    </tr>\n",
       "  </tbody>\n",
       "</table>\n",
       "</div>"
      ],
      "text/plain": [
       "                                                     accuracy\n",
       "models                                  data sample          \n",
       "bi_rnn_delta                            10%          0.862572\n",
       "                                        100%         0.922973\n",
       "                                        30%          0.904988\n",
       "                                        5%           0.808280\n",
       "                                        50%          0.922973\n",
       "                                        70%          0.913132\n",
       "bi_rnn_meanfill                         10%          0.827961\n",
       "                                        100%         0.916525\n",
       "                                        30%          0.894469\n",
       "                                        5%           0.787920\n",
       "                                        50%          0.904649\n",
       "                                        70%          0.907024\n",
       "feature_mlp                             10%          0.800475\n",
       "                                        100%         0.859518\n",
       "                                        30%          0.839158\n",
       "                                        5%           0.771293\n",
       "                                        50%          0.856804\n",
       "                                        70%          0.857482\n",
       "transformer_gnp_large_shared_bottleneck 10%          0.879199\n",
       "                                        100%         0.941636\n",
       "                                        30%          0.928741\n",
       "                                        5%           0.844927\n",
       "                                        50%          0.932474\n",
       "                                        70%          0.960977"
      ]
     },
     "execution_count": 57,
     "metadata": {},
     "output_type": "execute_result"
    }
   ],
   "source": [
    "sns."
   ]
  }
 ],
 "metadata": {
  "kernelspec": {
   "display_name": "Python 3",
   "language": "python",
   "name": "python3"
  },
  "language_info": {
   "codemirror_mode": {
    "name": "ipython",
    "version": 3
   },
   "file_extension": ".py",
   "mimetype": "text/x-python",
   "name": "python",
   "nbconvert_exporter": "python",
   "pygments_lexer": "ipython3",
   "version": "3.6.8"
  }
 },
 "nbformat": 4,
 "nbformat_minor": 2
}
